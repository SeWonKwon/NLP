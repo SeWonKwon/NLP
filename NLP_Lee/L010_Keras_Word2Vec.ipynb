{
  "nbformat": 4,
  "nbformat_minor": 0,
  "metadata": {
    "colab": {
      "name": "L010_Keras Word2Vec.ipynb",
      "provenance": [],
      "collapsed_sections": [],
      "include_colab_link": true
    },
    "kernelspec": {
      "name": "python3",
      "display_name": "Python 3"
    },
    "accelerator": "GPU"
  },
  "cells": [
    {
      "cell_type": "markdown",
      "metadata": {
        "id": "view-in-github",
        "colab_type": "text"
      },
      "source": [
        "<a href=\"https://colab.research.google.com/github/SeWonKwon/NLP/blob/main/L010_Keras_Word2Vec.ipynb\" target=\"_parent\"><img src=\"https://colab.research.google.com/assets/colab-badge.svg\" alt=\"Open In Colab\"/></a>"
      ]
    },
    {
      "cell_type": "markdown",
      "metadata": {
        "id": "Mk3q9W0DjH5G"
      },
      "source": [
        "# 케라스 Word2Vec 구현\n",
        "\n",
        "* 참고: https://wikidocs.net/69141"
      ]
    },
    {
      "cell_type": "markdown",
      "metadata": {
        "id": "RxZOa3m8qFw3"
      },
      "source": [
        "### 전처리"
      ]
    },
    {
      "cell_type": "code",
      "metadata": {
        "id": "ohSE_JnMSRDR",
        "colab": {
          "base_uri": "https://localhost:8080/",
          "height": 227
        },
        "outputId": "74783f21-7e80-4b4a-de31-61b5329348bd"
      },
      "source": [
        "from sklearn.datasets import fetch_20newsgroups\n",
        "\n",
        "dataset = fetch_20newsgroups(shuffle=True, random_state=1,\n",
        "                             remove=('headers', 'footers', 'quotes'))\n",
        "\n",
        "documents = dataset.data\n",
        "\n",
        "print(len(documents))\n",
        "documents[1]"
      ],
      "execution_count": 9,
      "outputs": [
        {
          "output_type": "stream",
          "name": "stdout",
          "text": [
            "11314\n"
          ]
        },
        {
          "output_type": "execute_result",
          "data": {
            "application/vnd.google.colaboratory.intrinsic+json": {
              "type": "string"
            },
            "text/plain": [
              "\"\\n\\n\\n\\n\\n\\n\\nYeah, do you expect people to read the FAQ, etc. and actually accept hard\\natheism?  No, you need a little leap of faith, Jimmy.  Your logic runs out\\nof steam!\\n\\n\\n\\n\\n\\n\\n\\nJim,\\n\\nSorry I can't pity you, Jim.  And I'm sorry that you have these feelings of\\ndenial about the faith you need to get by.  Oh well, just pretend that it will\\nall end happily ever after anyway.  Maybe if you start a new newsgroup,\\nalt.atheist.hard, you won't be bummin' so much?\\n\\n\\n\\n\\n\\n\\nBye-Bye, Big Jim.  Don't forget your Flintstone's Chewables!  :) \\n--\\nBake Timmons, III\""
            ]
          },
          "metadata": {},
          "execution_count": 9
        }
      ]
    },
    {
      "cell_type": "code",
      "metadata": {
        "id": "E56d3KXroenQ",
        "colab": {
          "base_uri": "https://localhost:8080/"
        },
        "outputId": "a287d2ed-d174-42a9-c582-2d3510293f0d"
      },
      "source": [
        "import re\n",
        "import nltk\n",
        "\n",
        "from nltk.corpus import stopwords\n",
        "from nltk.tokenize import word_tokenize\n",
        "\n",
        "nltk.download('stopwords')\n",
        "nltk.download('punkt')\n",
        "\n",
        "def clean_text(d):\n",
        "  pattern = r'[^a-zA-Z\\s]'\n",
        "  text = re.sub(pattern, '', d)\n",
        "  return text\n",
        "\n",
        "def clean_stopword(d):\n",
        "  stop_words = stopwords.words('english')\n",
        "  return ' '.join([w.lower() for w in d.split() if w.lower() not in stop_words and len(w) > 3])\n",
        "\n",
        "def tokenize(d):\n",
        "  return word_tokenize(d)"
      ],
      "execution_count": 14,
      "outputs": [
        {
          "output_type": "stream",
          "name": "stdout",
          "text": [
            "[nltk_data] Downloading package stopwords to /root/nltk_data...\n",
            "[nltk_data]   Package stopwords is already up-to-date!\n",
            "[nltk_data] Downloading package punkt to /root/nltk_data...\n",
            "[nltk_data]   Package punkt is already up-to-date!\n"
          ]
        }
      ]
    },
    {
      "cell_type": "code",
      "metadata": {
        "id": "QCo9S9RlrfQg",
        "colab": {
          "base_uri": "https://localhost:8080/"
        },
        "outputId": "769931e3-91e0-4978-af96-b7b3fb49fe68"
      },
      "source": [
        "import pandas as pd\n",
        "\n",
        "news_df = pd.DataFrame({'article': documents})\n",
        "len(news_df)"
      ],
      "execution_count": 11,
      "outputs": [
        {
          "output_type": "execute_result",
          "data": {
            "text/plain": [
              "11314"
            ]
          },
          "metadata": {},
          "execution_count": 11
        }
      ]
    },
    {
      "cell_type": "code",
      "metadata": {
        "id": "9xzZu6Iprj5B",
        "colab": {
          "base_uri": "https://localhost:8080/"
        },
        "outputId": "fc2c9c0f-aafc-4fe0-d7a5-7c5bb2e227f7"
      },
      "source": [
        "news_df.replace(\"\", float(\"NaN\"), inplace=True)\n",
        "news_df.dropna(inplace=True)\n",
        "print(len(news_df))"
      ],
      "execution_count": 12,
      "outputs": [
        {
          "output_type": "stream",
          "name": "stdout",
          "text": [
            "11096\n"
          ]
        }
      ]
    },
    {
      "cell_type": "code",
      "metadata": {
        "id": "Oi3PJ7dMsF8K",
        "colab": {
          "base_uri": "https://localhost:8080/"
        },
        "outputId": "29ff5a3d-c6aa-4f05-b6dc-3ee4764f26e3"
      },
      "source": [
        "news_df['article'] = news_df['article'].apply(clean_text)\n",
        "news_df['article']"
      ],
      "execution_count": 15,
      "outputs": [
        {
          "output_type": "execute_result",
          "data": {
            "text/plain": [
              "0        Well im not sure about the story nad it did se...\n",
              "1        \\n\\n\\n\\n\\n\\n\\nYeah do you expect people to rea...\n",
              "2        Although I realize that principle is not one o...\n",
              "3        Notwithstanding all the legitimate fuss about ...\n",
              "4        Well I will have to change the scoring on my p...\n",
              "                               ...                        \n",
              "11309    Danny Rubenstein an Israeli journalist will be...\n",
              "11310                                                   \\n\n",
              "11311    \\nI agree  Home runs off Clemens are always me...\n",
              "11312    I used HP DeskJet with Orange Micros Grappler ...\n",
              "11313                                          \\nNo arg...\n",
              "Name: article, Length: 11096, dtype: object"
            ]
          },
          "metadata": {},
          "execution_count": 15
        }
      ]
    },
    {
      "cell_type": "code",
      "metadata": {
        "id": "ViSra6MYuM9x",
        "colab": {
          "base_uri": "https://localhost:8080/"
        },
        "outputId": "5791ed0e-7efa-4e7c-9ce2-12a91aa1f322"
      },
      "source": [
        "news_df['article'] = news_df['article'].apply(clean_stopword)\n",
        "news_df['article']"
      ],
      "execution_count": 17,
      "outputs": [
        {
          "output_type": "execute_result",
          "data": {
            "text/plain": [
              "0        well sure story seem biased disagree statement...\n",
              "1        yeah expect people read actually accept hard a...\n",
              "2        although realize principle strongest points wo...\n",
              "3        notwithstanding legitimate fuss proposal much ...\n",
              "4        well change scoring playoff pool unfortunately...\n",
              "                               ...                        \n",
              "11309    danny rubenstein israeli journalist speaking t...\n",
              "11310                                                     \n",
              "11311    agree home runs clemens always memorable kinda...\n",
              "11312    used deskjet orange micros grappler system upd...\n",
              "11313    argument murphy scared hell came last year han...\n",
              "Name: article, Length: 11096, dtype: object"
            ]
          },
          "metadata": {},
          "execution_count": 17
        }
      ]
    },
    {
      "cell_type": "code",
      "metadata": {
        "id": "Z3JgTpVfSRD_",
        "colab": {
          "base_uri": "https://localhost:8080/"
        },
        "outputId": "84a780b3-20d4-40f3-ca02-e72298d1ba72"
      },
      "source": [
        "tokenized_news = news_df['article'].apply(tokenize)\n",
        "tokenized_news = tokenized_news.to_list()\n",
        "print(len(tokenized_news))"
      ],
      "execution_count": 20,
      "outputs": [
        {
          "output_type": "stream",
          "name": "stdout",
          "text": [
            "11096\n"
          ]
        }
      ]
    },
    {
      "cell_type": "code",
      "metadata": {
        "id": "uMCYgUIpSREH",
        "colab": {
          "base_uri": "https://localhost:8080/"
        },
        "outputId": "7671f52e-7132-4d1b-f7a3-4d6ec59d7baa"
      },
      "source": [
        "import numpy as np\n",
        "drop_news = [index for index, sentence in enumerate(tokenized_news) if len(sentence) <= 1]\n",
        "news_text = np.delete(tokenized_news, drop_news, axis=0)\n",
        "print(len(news_text))"
      ],
      "execution_count": 21,
      "outputs": [
        {
          "output_type": "stream",
          "name": "stdout",
          "text": [
            "10939\n"
          ]
        },
        {
          "output_type": "stream",
          "name": "stderr",
          "text": [
            "/usr/local/lib/python3.7/dist-packages/numpy/core/_asarray.py:83: VisibleDeprecationWarning: Creating an ndarray from ragged nested sequences (which is a list-or-tuple of lists-or-tuples-or ndarrays with different lengths or shapes) is deprecated. If you meant to do this, you must specify 'dtype=object' when creating the ndarray\n",
            "  return array(a, dtype, copy=False, order=order)\n"
          ]
        }
      ]
    },
    {
      "cell_type": "code",
      "metadata": {
        "id": "YI45-8AoZxR_"
      },
      "source": [
        "from tensorflow.keras.preprocessing.text import Tokenizer\n",
        "\n",
        "news_2000 = news_text[:2000]\n",
        "\n",
        "tokenizer = Tokenizer()\n",
        "\n",
        "tokenizer.fit_on_texts(news_2000)\n",
        "\n",
        "# 키와 밸류를 인버스 시켜준다. \n",
        "idx2word = {value:key for key, value in tokenizer.word_index.items()}\n",
        "sequences = tokenizer.texts_to_sequences(news_2000)"
      ],
      "execution_count": 23,
      "outputs": []
    },
    {
      "cell_type": "code",
      "metadata": {
        "id": "pSt1Tq7TZzmn",
        "colab": {
          "base_uri": "https://localhost:8080/"
        },
        "outputId": "5029bcea-7ec3-4b4b-ab1f-9b481166139e"
      },
      "source": [
        "vocab_size = len(tokenizer.word_index)+1\n",
        "print(vocab_size)"
      ],
      "execution_count": 24,
      "outputs": [
        {
          "output_type": "stream",
          "name": "stdout",
          "text": [
            "29706\n"
          ]
        }
      ]
    },
    {
      "cell_type": "code",
      "metadata": {
        "id": "_x1kmaB-ZzRI",
        "colab": {
          "base_uri": "https://localhost:8080/"
        },
        "outputId": "116a1aaf-58ca-42c5-a34f-479ba5db6bf8"
      },
      "source": [
        "print(sequences[1])"
      ],
      "execution_count": 25,
      "outputs": [
        {
          "output_type": "stream",
          "name": "stdout",
          "text": [
            "[1232, 443, 2, 56, 113, 405, 57, 1342, 20, 65, 3454, 384, 6822, 1142, 360, 2217, 444, 55, 12419, 444, 1862, 3804, 384, 20, 9, 4279, 8694, 171, 291, 130, 148, 648, 12420, 304, 12421, 14, 12422, 4, 770, 12423, 12424, 4870, 8695]\n"
          ]
        }
      ]
    },
    {
      "cell_type": "markdown",
      "metadata": {
        "id": "ydQWu3ZnqUc4"
      },
      "source": [
        "### Skipgram"
      ]
    },
    {
      "cell_type": "markdown",
      "metadata": {
        "id": "pOCiR_WrqMXk"
      },
      "source": [
        "#### Skipgram 전처리"
      ]
    },
    {
      "cell_type": "markdown",
      "metadata": {
        "id": "ua1h2LF_8DPH"
      },
      "source": [
        "* 네거티브 샘플링(Negative Sampling)\n",
        "\n",
        "  + Word2Vec은 출력층이 내놓는 값에 소프트맥스 함수를 적용해 확률값으로 변환한 후 이를 정답과 비교해 역전파(backpropagation)\n",
        "  + 소프트맥스를 적용하려면 분모에 해당하는 값, 즉 중심단어와 나머지 모든 단어의 내적을 한 뒤, 이를 다시 exp 계산을 하는데 전체 단어가 많을 경우 엄청난 계산량 발생\n",
        "  + 네거티브 샘플링은 소프트맥스 확률을 구할 때 전체 단어를 대상으로 구하지 않고, **일부 단어만 뽑아서 계산을 하는 방식**\n",
        "  + 네거티브 샘플링 동작은 사용자가 지정한 윈도우 사이즈 내에 등장하지 않는 단어(negative sample)를 5~20개 정도 뽑고, 이를 정답단어와 합쳐 전체 단어처럼 소프트맥스 확률을 계산하여 파라미터 업데이트"
      ]
    },
    {
      "cell_type": "code",
      "metadata": {
        "id": "QVkAK1ZlXi9Q"
      },
      "source": [
        "from tensorflow.keras.preprocessing.sequence import skipgrams\n",
        "\n",
        "skip_grams = [skipgrams(sample, vocabulary_size=vocab_size, window_size=10) for sample in sequences[:10]]"
      ],
      "execution_count": 26,
      "outputs": []
    },
    {
      "cell_type": "code",
      "metadata": {
        "id": "2NBBbnyjXjUv",
        "colab": {
          "base_uri": "https://localhost:8080/"
        },
        "outputId": "0a6fe0a4-bd44-4101-87a1-aefb7c5025d2"
      },
      "source": [
        "pairs, labels = skip_grams[0][0], skip_grams[0][1]\n",
        "for i in range(5):\n",
        "  print(\"{:s}({:d}), {:s}({:d}) -> {:d}\".format(\n",
        "      idx2word[pairs[i][0]], pairs[i][0],\n",
        "      idx2word[pairs[i][1]], pairs[i][1],\n",
        "      labels[i] ))"
      ],
      "execution_count": 30,
      "outputs": [
        {
          "output_type": "stream",
          "name": "stdout",
          "text": [
            "proisraeli(12417), sane(13651) -> 0\n",
            "whole(195), telecast(5649) -> 0\n",
            "clearly(564), becomming(27419) -> 0\n",
            "europeans(3453), substituted(13023) -> 0\n",
            "received(374), austria(4278) -> 1\n"
          ]
        }
      ]
    },
    {
      "cell_type": "code",
      "metadata": {
        "id": "I_SCb1sMXlIV",
        "colab": {
          "base_uri": "https://localhost:8080/"
        },
        "outputId": "aa9e5c23-0372-459b-bab3-493de7c67519"
      },
      "source": [
        "print(len(skip_grams))\n",
        "print(len(pairs))\n",
        "print(len(labels))"
      ],
      "execution_count": 31,
      "outputs": [
        {
          "output_type": "stream",
          "name": "stdout",
          "text": [
            "10\n",
            "2220\n",
            "2220\n"
          ]
        }
      ]
    },
    {
      "cell_type": "code",
      "metadata": {
        "id": "IiA53pYuXlMe"
      },
      "source": [
        "skip_grams = [skipgrams(seq, vocabulary_size=vocab_size, window_size=10) for seq in sequences]"
      ],
      "execution_count": 32,
      "outputs": []
    },
    {
      "cell_type": "markdown",
      "metadata": {
        "id": "rsIyKuKuqQpp"
      },
      "source": [
        "#### Skipgram 모델 구성"
      ]
    },
    {
      "cell_type": "code",
      "metadata": {
        "id": "y222fSJx2CwH"
      },
      "source": [
        "from tensorflow.keras.models import Sequential, Model\n",
        "from tensorflow.keras.layers import Embedding, Reshape, Activation, Input, Dot\n",
        "from tensorflow.keras.utils import plot_model"
      ],
      "execution_count": 33,
      "outputs": []
    },
    {
      "cell_type": "code",
      "metadata": {
        "id": "FQAT9ZdwPktd"
      },
      "source": [
        "embed_size = 50\n"
      ],
      "execution_count": 34,
      "outputs": []
    },
    {
      "cell_type": "code",
      "metadata": {
        "id": "5A4aGPBYPl-v"
      },
      "source": [
        "def word2vec():\n",
        "  target_inputs = Input(shape=(1, ), dtype='int32')\n",
        "  target_embedding = Embedding(vocab_size, embed_size)(target_inputs)\n",
        "\n",
        "  context_inputs = Input(shape=(1, ), dtype='int32')\n",
        "  context_embedding = Embedding(vocab_size, embed_size)(context_inputs)\n",
        "\n",
        "  dot_product = Dot(axes=2)([target_embedding, context_embedding])\n",
        "  dot_product = Reshape((1, ), input_shape=(1, 1))(dot_product)\n",
        "  outputs = Activation('sigmoid')(dot_product)\n",
        "\n",
        "  model = Model(inputs=[target_inputs, context_inputs], outputs=outputs)\n",
        "  model.compile(loss='binary_crossentropy', optimizer='adam')\n",
        "\n",
        "  return model"
      ],
      "execution_count": 37,
      "outputs": []
    },
    {
      "cell_type": "code",
      "metadata": {
        "id": "uyyg1P7oPoM9",
        "colab": {
          "base_uri": "https://localhost:8080/",
          "height": 1000
        },
        "outputId": "64ecbd7c-84e2-4a0a-9499-f6b88a282025"
      },
      "source": [
        "model = word2vec()\n",
        "model.summary()\n",
        "plot_model(model, show_shapes=True, show_layer_names=True)"
      ],
      "execution_count": 38,
      "outputs": [
        {
          "output_type": "stream",
          "name": "stdout",
          "text": [
            "Model: \"model\"\n",
            "__________________________________________________________________________________________________\n",
            "Layer (type)                    Output Shape         Param #     Connected to                     \n",
            "==================================================================================================\n",
            "input_2 (InputLayer)            [(None, 1)]          0                                            \n",
            "__________________________________________________________________________________________________\n",
            "input_3 (InputLayer)            [(None, 1)]          0                                            \n",
            "__________________________________________________________________________________________________\n",
            "embedding_1 (Embedding)         (None, 1, 50)        1485300     input_2[0][0]                    \n",
            "__________________________________________________________________________________________________\n",
            "embedding_2 (Embedding)         (None, 1, 50)        1485300     input_3[0][0]                    \n",
            "__________________________________________________________________________________________________\n",
            "dot (Dot)                       (None, 1, 1)         0           embedding_1[0][0]                \n",
            "                                                                 embedding_2[0][0]                \n",
            "__________________________________________________________________________________________________\n",
            "reshape (Reshape)               (None, 1)            0           dot[0][0]                        \n",
            "__________________________________________________________________________________________________\n",
            "activation (Activation)         (None, 1)            0           reshape[0][0]                    \n",
            "==================================================================================================\n",
            "Total params: 2,970,600\n",
            "Trainable params: 2,970,600\n",
            "Non-trainable params: 0\n",
            "__________________________________________________________________________________________________\n"
          ]
        },
        {
          "output_type": "execute_result",
          "data": {
            "image/png": "[encoded data removed]",
            "text/plain": [
              "<IPython.core.display.Image object>"
            ]
          },
          "metadata": {},
          "execution_count": 38
        }
      ]
    },
    {
      "cell_type": "code",
      "metadata": {
        "id": "aKaWUC2DPpMG",
        "colab": {
          "base_uri": "https://localhost:8080/"
        },
        "outputId": "1a115e8e-5349-4be1-bad7-245ef3763395"
      },
      "source": [
        "for epoch in range(1, 11):\n",
        "  loss = 0\n",
        "  for _, elem in enumerate(skip_grams):\n",
        "    first_elem = np.array(list(zip(*elem[0]))[0], dtype='int32')\n",
        "    second_elem = np.array(list(zip(*elem[0]))[1], dtype='int32')\n",
        "    labels = np.array(elem[1], dtype='int32')\n",
        "\n",
        "    X = [first_elem, second_elem]\n",
        "    Y = labels\n",
        "    loss += model.train_on_batch(X, Y)\n",
        "\n",
        "  print('Epoch:', epoch, 'Loss: ', loss)"
      ],
      "execution_count": 40,
      "outputs": [
        {
          "output_type": "stream",
          "name": "stdout",
          "text": [
            "Epoch: 1 Loss:  1229.3855091780424\n",
            "Epoch: 2 Loss:  930.6452182978392\n",
            "Epoch: 3 Loss:  832.730157777667\n",
            "Epoch: 4 Loss:  786.8287828862667\n",
            "Epoch: 5 Loss:  759.8661762401462\n",
            "Epoch: 6 Loss:  739.4179039895535\n",
            "Epoch: 7 Loss:  719.3981142342091\n",
            "Epoch: 8 Loss:  696.3462814763188\n",
            "Epoch: 9 Loss:  668.5197685956955\n",
            "Epoch: 10 Loss:  635.23547488451\n"
          ]
        }
      ]
    },
    {
      "cell_type": "code",
      "metadata": {
        "id": "zPNLRZqwXSib"
      },
      "source": [
        "import gensim\n",
        "\n",
        "f = open('skipgram.txt', 'w')\n",
        "f.write('{} {}\\n'.format(vocab_size-1, embed_size))\n",
        "vectors = model.get_weights()[0]\n",
        "for word, i in tokenizer.word_index.items():\n",
        "  f.write('{} {}\\n'.format(word, ' '.join(map(str, list(vectors[i, :])))))\n",
        "f.close()\n",
        "\n",
        "skipgram = gensim.models.KeyedVectors.load_word2vec_format('skipgram.txt', binary=False)"
      ],
      "execution_count": 41,
      "outputs": []
    },
    {
      "cell_type": "code",
      "metadata": {
        "id": "VmzFckXv9nk2",
        "colab": {
          "base_uri": "https://localhost:8080/"
        },
        "outputId": "f8341eb3-9ea9-40da-eca2-69023a1f40ea"
      },
      "source": [
        "skipgram.most_similar(positive=['soldier'])"
      ],
      "execution_count": 42,
      "outputs": [
        {
          "output_type": "execute_result",
          "data": {
            "text/plain": [
              "[('traps', 0.9218196868896484),\n",
              " ('sneak', 0.8480355143547058),\n",
              " ('booby', 0.8185364603996277),\n",
              " ('retalliates', 0.8179840445518494),\n",
              " ('patrols', 0.81352299451828),\n",
              " ('indiscriminately', 0.8104605078697205),\n",
              " ('ammunitions', 0.7740592360496521),\n",
              " ('withdrawal', 0.7293198704719543),\n",
              " ('occupied', 0.7254241108894348),\n",
              " ('accustomed', 0.6960646510124207)]"
            ]
          },
          "metadata": {},
          "execution_count": 42
        }
      ]
    },
    {
      "cell_type": "code",
      "metadata": {
        "id": "omo9v74q9oKD",
        "colab": {
          "base_uri": "https://localhost:8080/"
        },
        "outputId": "e3883d5f-20d4-4cef-8524-6d278bceb245"
      },
      "source": [
        "skipgram.most_similar(positive=['world'])"
      ],
      "execution_count": 43,
      "outputs": [
        {
          "output_type": "execute_result",
          "data": {
            "text/plain": [
              "[('clementcolor', 0.6612029671669006),\n",
              " ('dawson', 0.655520498752594),\n",
              " ('vays', 0.6516150236129761),\n",
              " ('hired', 0.6474694013595581),\n",
              " ('packet', 0.6451418995857239),\n",
              " ('sovergnty', 0.6439104080200195),\n",
              " ('differences', 0.629787266254425),\n",
              " ('thorneplaybyplaybill', 0.6296036839485168),\n",
              " ('jerking', 0.6241311430931091),\n",
              " ('gary', 0.6227421164512634)]"
            ]
          },
          "metadata": {},
          "execution_count": 43
        }
      ]
    },
    {
      "cell_type": "markdown",
      "metadata": {
        "id": "vLfmfO1HqZxn"
      },
      "source": [
        "### CBOW\n"
      ]
    },
    {
      "cell_type": "markdown",
      "metadata": {
        "id": "BIrUD6Ph74ya"
      },
      "source": [
        "#### CBOW 전처리"
      ]
    },
    {
      "cell_type": "code",
      "metadata": {
        "id": "TNBmb-UK9tJ-"
      },
      "source": [
        "def skipgram2cbow(skipgrams):\n",
        "  cbows = []\n",
        "  flag = 0\n",
        "  for n in skipgrams:\n",
        "    temp1 = []\n",
        "    for t in n:\n",
        "      if flag == 1:\n",
        "        flag = 0\n",
        "        temp1.append(t)\n",
        "      else:\n",
        "        flag = 1\n",
        "        temp2 = []\n",
        "        for x in t:\n",
        "          temp2.append([x[1], x[0]])\n",
        "        temp1.append(temp2)\n",
        "    cbows.append(temp1)\n",
        "\n",
        "  return cbows   \n"
      ],
      "execution_count": 54,
      "outputs": []
    },
    {
      "cell_type": "code",
      "metadata": {
        "id": "BEIHgfWeALbL"
      },
      "source": [
        "cbows = skipgram2cbow(skip_grams)"
      ],
      "execution_count": 55,
      "outputs": []
    },
    {
      "cell_type": "code",
      "metadata": {
        "id": "bPnygNQO1vjJ",
        "colab": {
          "base_uri": "https://localhost:8080/"
        },
        "outputId": "4b27fa38-8a15-4aac-9f23-839fe47e022b"
      },
      "source": [
        "pairs, labels = cbows[0][0], cbows[0][1]\n",
        "for i in range(5):\n",
        "  print(\"{:s}({:d}), {:s}({:d}) -> {:d}\".format(\n",
        "      idx2word[pairs[i][0]], pairs[i][0],\n",
        "      idx2word[pairs[i][1]], pairs[i][1],\n",
        "      labels[i] ))"
      ],
      "execution_count": 56,
      "outputs": [
        {
          "output_type": "stream",
          "name": "stdout",
          "text": [
            "craving(22009), acts(1277) -> 0\n",
            "might(37), europeans(3453) -> 1\n",
            "israels(3452), whole(195) -> 1\n",
            "reports(982), blessing(12418) -> 1\n",
            "heteropathic(19348), away(183) -> 0\n"
          ]
        }
      ]
    },
    {
      "cell_type": "code",
      "metadata": {
        "id": "n7dyMzMz1xXd",
        "colab": {
          "base_uri": "https://localhost:8080/"
        },
        "outputId": "91c9df81-6677-4501-9d65-5bfe2a19dcde"
      },
      "source": [
        "print(len(cbows))\n",
        "print(len(pairs))\n",
        "print(len(labels))"
      ],
      "execution_count": 57,
      "outputs": [
        {
          "output_type": "stream",
          "name": "stdout",
          "text": [
            "2000\n",
            "2220\n",
            "2220\n"
          ]
        }
      ]
    },
    {
      "cell_type": "markdown",
      "metadata": {
        "id": "D4ulkMuv79SL"
      },
      "source": [
        "#### CBOW 모델 구성"
      ]
    },
    {
      "cell_type": "code",
      "metadata": {
        "id": "XMC5u4Pm8Glt",
        "colab": {
          "base_uri": "https://localhost:8080/",
          "height": 1000
        },
        "outputId": "a284a2fd-d4a3-4a7b-903e-818c1f2a2389"
      },
      "source": [
        "model = word2vec()\n",
        "model.summary()\n",
        "plot_model(model, show_shapes=True, show_layer_names=True)"
      ],
      "execution_count": 58,
      "outputs": [
        {
          "output_type": "stream",
          "name": "stdout",
          "text": [
            "Model: \"model_2\"\n",
            "__________________________________________________________________________________________________\n",
            "Layer (type)                    Output Shape         Param #     Connected to                     \n",
            "==================================================================================================\n",
            "input_6 (InputLayer)            [(None, 1)]          0                                            \n",
            "__________________________________________________________________________________________________\n",
            "input_7 (InputLayer)            [(None, 1)]          0                                            \n",
            "__________________________________________________________________________________________________\n",
            "embedding_5 (Embedding)         (None, 1, 50)        1485300     input_6[0][0]                    \n",
            "__________________________________________________________________________________________________\n",
            "embedding_6 (Embedding)         (None, 1, 50)        1485300     input_7[0][0]                    \n",
            "__________________________________________________________________________________________________\n",
            "dot_2 (Dot)                     (None, 1, 1)         0           embedding_5[0][0]                \n",
            "                                                                 embedding_6[0][0]                \n",
            "__________________________________________________________________________________________________\n",
            "reshape_2 (Reshape)             (None, 1)            0           dot_2[0][0]                      \n",
            "__________________________________________________________________________________________________\n",
            "activation_2 (Activation)       (None, 1)            0           reshape_2[0][0]                  \n",
            "==================================================================================================\n",
            "Total params: 2,970,600\n",
            "Trainable params: 2,970,600\n",
            "Non-trainable params: 0\n",
            "__________________________________________________________________________________________________\n"
          ]
        },
        {
          "output_type": "execute_result",
          "data": {
            "image/png": "[encoded data removed]",
            "text/plain": [
              "<IPython.core.display.Image object>"
            ]
          },
          "metadata": {},
          "execution_count": 58
        }
      ]
    },
    {
      "cell_type": "code",
      "metadata": {
        "id": "6yVXxpfs8JJX",
        "colab": {
          "base_uri": "https://localhost:8080/"
        },
        "outputId": "7dbaffb2-d27a-4343-c8c1-c8975858c8c6"
      },
      "source": [
        "for epoch in range(1, 11):\n",
        "  loss = 0\n",
        "  for _, elem in enumerate(cbows):\n",
        "    first_elem = np.array(list(zip(*elem[0]))[0], dtype='int32')\n",
        "    second_elem = np.array(list(zip(*elem[0]))[1], dtype='int32')\n",
        "    labels = np.array(elem[1], dtype='int32')\n",
        "\n",
        "    X = [first_elem, second_elem]\n",
        "    Y = labels\n",
        "    loss += model.train_on_batch(X, Y)\n",
        "\n",
        "  print('Epoch:', epoch, 'Loss: ', loss)"
      ],
      "execution_count": 59,
      "outputs": [
        {
          "output_type": "stream",
          "name": "stdout",
          "text": [
            "Epoch: 1 Loss:  1231.7491363883018\n",
            "Epoch: 2 Loss:  931.232296615839\n",
            "Epoch: 3 Loss:  832.8403338342905\n",
            "Epoch: 4 Loss:  786.9516506940126\n",
            "Epoch: 5 Loss:  760.147240974009\n",
            "Epoch: 6 Loss:  739.7909237518907\n",
            "Epoch: 7 Loss:  719.5158765763044\n",
            "Epoch: 8 Loss:  695.7503014802933\n",
            "Epoch: 9 Loss:  666.9283323734999\n",
            "Epoch: 10 Loss:  632.771813955158\n"
          ]
        }
      ]
    },
    {
      "cell_type": "code",
      "metadata": {
        "id": "POXBaE0d8LFe"
      },
      "source": [
        "import gensim\n",
        "\n",
        "f = open('cbow.txt', 'w')\n",
        "f.write('{} {}\\n'.format(vocab_size-1, embed_size))\n",
        "vectors = model.get_weights()[0]\n",
        "for word, i in tokenizer.word_index.items():\n",
        "  f.write('{} {}\\n'.format(word, ' '.join(map(str, list(vectors[i, :])))))\n",
        "f.close()\n",
        "\n",
        "cbow = gensim.models.KeyedVectors.load_word2vec_format('cbow.txt', binary=False)"
      ],
      "execution_count": 60,
      "outputs": []
    },
    {
      "cell_type": "code",
      "metadata": {
        "id": "LK4u6zG49gVn",
        "colab": {
          "base_uri": "https://localhost:8080/"
        },
        "outputId": "41f5aa3e-8f48-4c22-895d-803061c14685"
      },
      "source": [
        "cbow.most_similar(positive=['soldier'])"
      ],
      "execution_count": 61,
      "outputs": [
        {
          "output_type": "execute_result",
          "data": {
            "text/plain": [
              "[('retalliates', 0.9584009647369385),\n",
              " ('indiscriminately', 0.9409950971603394),\n",
              " ('pervert', 0.9400926232337952),\n",
              " ('traps', 0.9395245909690857),\n",
              " ('booby', 0.9370630979537964),\n",
              " ('southeastern', 0.9364011883735657),\n",
              " ('miracles', 0.9323719143867493),\n",
              " ('pillaged', 0.9323552846908569),\n",
              " ('hail', 0.9312352538108826),\n",
              " ('oooh', 0.9310576915740967)]"
            ]
          },
          "metadata": {},
          "execution_count": 61
        }
      ]
    },
    {
      "cell_type": "code",
      "metadata": {
        "id": "h6fQuZSs9hqM",
        "colab": {
          "base_uri": "https://localhost:8080/"
        },
        "outputId": "bd4703d9-4f05-4e61-d2a7-e2ca677c7a51"
      },
      "source": [
        "cbow.most_similar(positive=['world'])"
      ],
      "execution_count": 62,
      "outputs": [
        {
          "output_type": "execute_result",
          "data": {
            "text/plain": [
              "[('common', 0.9335542321205139),\n",
              " ('course', 0.9298855662345886),\n",
              " ('seem', 0.928088366985321),\n",
              " ('million', 0.9235339164733887),\n",
              " ('knows', 0.9227280020713806),\n",
              " ('dont', 0.9221134781837463),\n",
              " ('story', 0.9216675162315369),\n",
              " ('maybe', 0.9161409735679626),\n",
              " ('since', 0.9155672788619995),\n",
              " ('like', 0.9141899943351746)]"
            ]
          },
          "metadata": {},
          "execution_count": 62
        }
      ]
    }
  ]
}
