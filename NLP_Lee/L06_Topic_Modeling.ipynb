{
  "nbformat": 4,
  "nbformat_minor": 0,
  "metadata": {
    "colab": {
      "name": "L06_Topic Modeling.ipynb",
      "provenance": [],
      "collapsed_sections": [],
      "include_colab_link": true
    },
    "kernelspec": {
      "name": "python3",
      "display_name": "Python 3"
    }
  },
  "cells": [
    {
      "cell_type": "markdown",
      "metadata": {
        "id": "view-in-github",
        "colab_type": "text"
      },
      "source": [
        "<a href=\"https://colab.research.google.com/github/SeWonKwon/NLP/blob/main/L06_Topic_Modeling.ipynb\" target=\"_parent\"><img src=\"https://colab.research.google.com/assets/colab-badge.svg\" alt=\"Open In Colab\"/></a>"
      ]
    },
    {
      "cell_type": "markdown",
      "metadata": {
        "id": "sqJ4qz2uwHHH"
      },
      "source": [
        "# 토픽 모델링(Topic Modeling)"
      ]
    },
    {
      "cell_type": "markdown",
      "metadata": {
        "id": "YwtnnVf3DcnI"
      },
      "source": [
        "* 토픽 모델링은 문서 집합에서 주제를 찾아내기 위한 기술\n",
        "* 토픽 모델링은 '특정 주제에 관한 문서에서는 특정 단어가 자주 등장할 것이다'라는 직관을 기반\n",
        "* 예를 들어, 주제가 '개'인 문서에서는 개의 품종, 개의 특성을 나타내는 단어가 다른 문서에 비해 많이 등장\n",
        "* 주로 사용되는 토픽 모델링 방법은 잠재 의미 분석과 잠재 디리클레 할당 기법이 있음"
      ]
    },
    {
      "cell_type": "markdown",
      "metadata": {
        "id": "i_DR7Dg5XLn-"
      },
      "source": [
        "## 잠재 의미 분석(Latent Semantic Analysis)\n",
        "\n",
        "* 잠재 의미 분석(LSA)은 주로 문서 색인의 의미 검색에 사용\n",
        "* 잠재 의미 인덱싱(Latent Semantic Indexing, LSI)로도 알려져 있음\n",
        "* LSA의 목표는 문서와 단어의 기반이 되는 잠재적인 토픽을 발견하는 것\n",
        "* 잠재적인 토픽은 문서에 있는 단어들의 분포를 주도한다고 가정\n",
        "\n",
        "* LSA 방법\n",
        "  + 문서 모음에서 생성한 문서-단어 행렬(Document Term Matrix)에서 단어-토픽 행렬(Term-Topic Matrix)과 토픽-중요도 행렬(Topic-Importance Matrix), 그리고 토픽-문서 행렬(Topic-Document Matrix)로 분해"
      ]
    },
    {
      "cell_type": "markdown",
      "metadata": {
        "id": "vVQH1rH0bJLI"
      },
      "source": [
        "## 잠재 디리클레 할당(Latent Dirichlet Allocation)"
      ]
    },
    {
      "cell_type": "markdown",
      "metadata": {
        "id": "Ex3DjGiFKmk1"
      },
      "source": [
        "* 잠재 디레클레 할당(LDA)은 대표적인 토픽 모델링  알고리즘 중 하나\n",
        "\n",
        "* 잠재 디레클레 할당 방법\n",
        "  1. 사용자가 토픽이 개수를 지정해 알고리즘에 전달\n",
        "  2. 모든 단어들을 토픽 중 하나에 할당\n",
        "  3. 모든 문서의 모든 단어에 대해 단어 w가 가정에 의거, $p(t|d)$, $p(w|t)$에 따라 토픽을 재할당, 이를 반복, 이 때 가정은 자신만이 잘못된 토픽에 할당되어 있고 다른 모든 단어는 올바른 토픽에 할당된다는 것을 의미    \n",
        "\n",
        "* $p(t|d)$ - 문서 d의 단어들 중 토픽 t에 해당하는 비율\n",
        "* 해당 문서의 자주 등장하는 다른 단어의 토픽이 해당 단어의 토픽이 될 가능성이 높음을 의미    \n",
        "\n",
        "* $p(w|t)$- 단어 w를 가지고 있는 모든 문서들 중  토픽 t가 할당된 비율\n",
        "* 다른 문서에서 단어 w에 많이 할당된 토픽이 해당 단어의 토픽이 될 가능성이 높음을 의미"
      ]
    },
    {
      "cell_type": "markdown",
      "metadata": {
        "id": "1RxDTpTts3ma"
      },
      "source": [
        "## 데이터 준비"
      ]
    },
    {
      "cell_type": "code",
      "metadata": {
        "id": "z1yVomvgs6l3",
        "colab": {
          "base_uri": "https://localhost:8080/"
        },
        "outputId": "3839bdfe-6e7d-4556-d188-81c28bf93e4f"
      },
      "source": [
        "from sklearn.datasets import fetch_20newsgroups\n",
        "\n",
        "\n",
        "dataset = fetch_20newsgroups(shuffle=True, random_state=1,\n",
        "                              remove=('headers', 'footers', 'quotes'))\n",
        "\n",
        "documents = dataset.data\n",
        "\n",
        "print(len(documents))\n",
        "print(documents[0])"
      ],
      "execution_count": null,
      "outputs": [
        {
          "output_type": "stream",
          "name": "stdout",
          "text": [
            "11314\n",
            "Well i'm not sure about the story nad it did seem biased. What\n",
            "I disagree with is your statement that the U.S. Media is out to\n",
            "ruin Israels reputation. That is rediculous. The U.S. media is\n",
            "the most pro-israeli media in the world. Having lived in Europe\n",
            "I realize that incidences such as the one described in the\n",
            "letter have occured. The U.S. media as a whole seem to try to\n",
            "ignore them. The U.S. is subsidizing Israels existance and the\n",
            "Europeans are not (at least not to the same degree). So I think\n",
            "that might be a reason they report more clearly on the\n",
            "atrocities.\n",
            "\tWhat is a shame is that in Austria, daily reports of\n",
            "the inhuman acts commited by Israeli soldiers and the blessing\n",
            "received from the Government makes some of the Holocaust guilt\n",
            "go away. After all, look how the Jews are treating other races\n",
            "when they got power. It is unfortunate.\n",
            "\n"
          ]
        }
      ]
    },
    {
      "cell_type": "code",
      "metadata": {
        "id": "E56d3KXroenQ",
        "colab": {
          "base_uri": "https://localhost:8080/"
        },
        "outputId": "760c5d93-a2c1-4bb2-dae4-363eeef332e7"
      },
      "source": [
        "import re\n",
        "import nltk\n",
        "from nltk.corpus import stopwords\n",
        "from nltk.tokenize import word_tokenize\n",
        "from gensim.parsing.preprocessing import preprocess_string\n",
        "\n",
        "nltk.download('stopwords')"
      ],
      "execution_count": null,
      "outputs": [
        {
          "output_type": "stream",
          "name": "stdout",
          "text": [
            "[nltk_data] Downloading package stopwords to /root/nltk_data...\n",
            "[nltk_data]   Package stopwords is already up-to-date!\n"
          ]
        },
        {
          "output_type": "execute_result",
          "data": {
            "text/plain": [
              "True"
            ]
          },
          "metadata": {},
          "execution_count": 2
        }
      ]
    },
    {
      "cell_type": "code",
      "metadata": {
        "id": "QCo9S9RlrfQg"
      },
      "source": [
        "def clean_text(d):\n",
        "  pattern = r'[^a-zA-Z\\s]'\n",
        "  text = re.sub(pattern, '', d)\n",
        "  return text\n",
        "\n",
        "def clean_stopword(d):\n",
        "  stop_words = stopwords.words('english')\n",
        "  return ' '.join([w.lower() for w in d.split() if w.lower() not in stop_words and len(w) > 3])\n",
        "\n",
        "def preprocessing(d):\n",
        "  return preprocess_string(d)\n",
        "\n"
      ],
      "execution_count": null,
      "outputs": []
    },
    {
      "cell_type": "code",
      "metadata": {
        "id": "9xzZu6Iprj5B",
        "colab": {
          "base_uri": "https://localhost:8080/"
        },
        "outputId": "650be529-0928-43c8-bb1e-f61305e8e690"
      },
      "source": [
        "import pandas as pd\n",
        "news_df = pd.DataFrame({'article' : documents})\n",
        "len(news_df)"
      ],
      "execution_count": null,
      "outputs": [
        {
          "output_type": "execute_result",
          "data": {
            "text/plain": [
              "11314"
            ]
          },
          "metadata": {},
          "execution_count": 4
        }
      ]
    },
    {
      "cell_type": "code",
      "metadata": {
        "id": "Oi3PJ7dMsF8K",
        "colab": {
          "base_uri": "https://localhost:8080/"
        },
        "outputId": "0a8d9742-5a3b-49ed-ce82-839ecd0279e7"
      },
      "source": [
        "news_df.replace(\"\", float(\"NaN\"), inplace=True)\n",
        "news_df.dropna(inplace=True)\n",
        "len(news_df)"
      ],
      "execution_count": null,
      "outputs": [
        {
          "output_type": "execute_result",
          "data": {
            "text/plain": [
              "11096"
            ]
          },
          "metadata": {},
          "execution_count": 5
        }
      ]
    },
    {
      "cell_type": "code",
      "metadata": {
        "colab": {
          "base_uri": "https://localhost:8080/"
        },
        "id": "bT64lS999j4w",
        "outputId": "a32ebd3b-40b2-4dd2-dbff-1b3be632c82c"
      },
      "source": [
        "news_df['article']"
      ],
      "execution_count": null,
      "outputs": [
        {
          "output_type": "execute_result",
          "data": {
            "text/plain": [
              "0        Well i'm not sure about the story nad it did s...\n",
              "1        \\n\\n\\n\\n\\n\\n\\nYeah, do you expect people to re...\n",
              "2        Although I realize that principle is not one o...\n",
              "3        Notwithstanding all the legitimate fuss about ...\n",
              "4        Well, I will have to change the scoring on my ...\n",
              "                               ...                        \n",
              "11309    Danny Rubenstein, an Israeli journalist, will ...\n",
              "11310                                                   \\n\n",
              "11311    \\nI agree.  Home runs off Clemens are always m...\n",
              "11312    I used HP DeskJet with Orange Micros Grappler ...\n",
              "11313                                          ^^^^^^\\n...\n",
              "Name: article, Length: 11096, dtype: object"
            ]
          },
          "metadata": {},
          "execution_count": 6
        }
      ]
    },
    {
      "cell_type": "code",
      "metadata": {
        "id": "ViSra6MYuM9x"
      },
      "source": [
        "news_df['article'] = news_df['article'].apply(clean_text)\n",
        "news_df['article'] = news_df['article'].apply(clean_stopword)\n",
        "# news_df['article'] = news_df['article'].apply(preprocessing)"
      ],
      "execution_count": null,
      "outputs": []
    },
    {
      "cell_type": "code",
      "metadata": {
        "id": "W6BleIc4Jwcs",
        "colab": {
          "base_uri": "https://localhost:8080/"
        },
        "outputId": "0840c084-96da-4012-e4e7-be94b7ac8b41"
      },
      "source": [
        "news_df['article']"
      ],
      "execution_count": null,
      "outputs": [
        {
          "output_type": "execute_result",
          "data": {
            "text/plain": [
              "0        well sure story seem biased disagree statement...\n",
              "1        yeah expect people read actually accept hard a...\n",
              "2        although realize principle strongest points wo...\n",
              "3        notwithstanding legitimate fuss proposal much ...\n",
              "4        well change scoring playoff pool unfortunately...\n",
              "                               ...                        \n",
              "11309    danny rubenstein israeli journalist speaking t...\n",
              "11310                                                     \n",
              "11311    agree home runs clemens always memorable kinda...\n",
              "11312    used deskjet orange micros grappler system upd...\n",
              "11313    argument murphy scared hell came last year han...\n",
              "Name: article, Length: 11096, dtype: object"
            ]
          },
          "metadata": {},
          "execution_count": 8
        }
      ]
    },
    {
      "cell_type": "code",
      "metadata": {
        "colab": {
          "base_uri": "https://localhost:8080/"
        },
        "id": "JLU2U9Ee-Z-N",
        "outputId": "4df5974d-b944-4ec2-f388-b8d0216fc8d6"
      },
      "source": [
        "len(news_df)"
      ],
      "execution_count": null,
      "outputs": [
        {
          "output_type": "execute_result",
          "data": {
            "text/plain": [
              "11096"
            ]
          },
          "metadata": {},
          "execution_count": 9
        }
      ]
    },
    {
      "cell_type": "code",
      "metadata": {
        "id": "rKywEnyAJxhc",
        "colab": {
          "base_uri": "https://localhost:8080/"
        },
        "outputId": "0a2db9b6-b6f7-4941-e555-3cbcbe83f171"
      },
      "source": [
        "news_df.replace(\"\", float(\"NaN\"), inplace=True)\n",
        "news_df.dropna(inplace=True)\n",
        "len(news_df)"
      ],
      "execution_count": null,
      "outputs": [
        {
          "output_type": "execute_result",
          "data": {
            "text/plain": [
              "10991"
            ]
          },
          "metadata": {},
          "execution_count": 10
        }
      ]
    },
    {
      "cell_type": "code",
      "metadata": {
        "id": "Uoriv6Cb-wDS"
      },
      "source": [
        "tokenized_news = news_df['article'].apply(preprocessing)\n",
        "\n",
        "tokenized_news = tokenized_news.to_list()\n",
        "# tokenized_news"
      ],
      "execution_count": null,
      "outputs": []
    },
    {
      "cell_type": "code",
      "metadata": {
        "colab": {
          "base_uri": "https://localhost:8080/"
        },
        "id": "XoAf_If2_CGV",
        "outputId": "a3a89ffd-a9da-449e-f760-70f7d82015d6"
      },
      "source": [
        "import numpy as np\n",
        "\n",
        "drop_news = [index for index, sentence in enumerate(tokenized_news) if len(sentence) <= 1]\n",
        "news_texts = np.delete(tokenized_news, drop_news, axis=0)\n",
        "print(len(news_texts))"
      ],
      "execution_count": null,
      "outputs": [
        {
          "output_type": "stream",
          "name": "stdout",
          "text": [
            "10926\n"
          ]
        },
        {
          "output_type": "stream",
          "name": "stderr",
          "text": [
            "/usr/local/lib/python3.7/dist-packages/numpy/lib/function_base.py:4454: VisibleDeprecationWarning: Creating an ndarray from ragged nested sequences (which is a list-or-tuple of lists-or-tuples-or ndarrays with different lengths or shapes) is deprecated. If you meant to do this, you must specify 'dtype=object' when creating the ndarray.\n",
            "  arr = asarray(arr)\n"
          ]
        }
      ]
    },
    {
      "cell_type": "markdown",
      "metadata": {
        "id": "IJ8Zkrar1umI"
      },
      "source": [
        "## Gensim을 이용한 토픽 모델링"
      ]
    },
    {
      "cell_type": "code",
      "metadata": {
        "id": "Q7g3xjKA0WI-",
        "colab": {
          "base_uri": "https://localhost:8080/"
        },
        "outputId": "a0f8c1a2-d2d9-4a2d-b705-e6722f36075f"
      },
      "source": [
        "from gensim import corpora\n",
        "\n",
        "dictionary = corpora.Dictionary(news_texts)\n",
        "corpus = [dictionary.doc2bow(text) for text in news_texts]\n",
        "\n",
        "print(corpus[1])"
      ],
      "execution_count": null,
      "outputs": [
        {
          "output_type": "stream",
          "name": "stdout",
          "text": [
            "[(50, 1), (51, 1), (52, 1), (53, 1), (54, 1), (55, 1), (56, 1), (57, 1), (58, 1), (59, 1), (60, 1), (61, 2), (62, 1), (63, 1), (64, 1), (65, 1), (66, 1), (67, 1), (68, 1), (69, 1), (70, 1), (71, 1), (72, 2), (73, 1), (74, 1), (75, 1), (76, 1), (77, 1), (78, 1), (79, 2), (80, 1), (81, 1), (82, 1), (83, 1), (84, 1)]\n"
          ]
        }
      ]
    },
    {
      "cell_type": "markdown",
      "metadata": {
        "id": "zhM28edm261U"
      },
      "source": [
        "### 잠재 의미 분석을 위한 `LsiModel`"
      ]
    },
    {
      "cell_type": "code",
      "metadata": {
        "id": "Pqz7Xmp63LPa",
        "colab": {
          "base_uri": "https://localhost:8080/"
        },
        "outputId": "3be6148b-29cd-4b0c-d2f1-ccc1fbcf01c6"
      },
      "source": [
        "from gensim.models import LsiModel\n",
        "\n",
        "lsi_model = LsiModel(corpus, num_topics=20, id2word=dictionary)\n",
        "topics = lsi_model.print_topics()\n",
        "topics"
      ],
      "execution_count": null,
      "outputs": [
        {
          "output_type": "execute_result",
          "data": {
            "text/plain": [
              "[(0,\n",
              "  '1.000*\"maxaxaxaxaxaxaxaxaxaxaxaxaxaxax\" + 0.008*\"mgvgvgvgvgvgvgvgvgvgvgvgvgvgvgv\" + 0.005*\"maxaxaxaxaxaxaxaxaxaxaxaxaxax\" + 0.003*\"maxaxaxaxaxaxaxaxaxaxaxaxaxaxaxq\" + 0.002*\"maxaxaxaxaxaxaxaxaxaxaxaxaxaxf\" + 0.002*\"mqaxaxaxaxaxaxaxaxaxaxaxaxaxax\" + 0.001*\"maxaxaxaxaxaxaxaxaxaxaxaxaxasqq\" + 0.001*\"maxaxaxaxaxaxaxaxaxaxaxaxaxaxqq\" + 0.001*\"maxaxaxaxaxaxaxaxaxaxaxaxaxaxasq\" + 0.001*\"maxaxaxaxaxaxaxaxaxaxaxaxaxaxqqf\"'),\n",
              " (1,\n",
              "  '0.393*\"file\" + 0.191*\"program\" + 0.158*\"imag\" + 0.126*\"peopl\" + 0.125*\"avail\" + 0.119*\"inform\" + 0.116*\"includ\" + 0.116*\"entri\" + 0.114*\"work\" + 0.112*\"dont\"'),\n",
              " (2,\n",
              "  '0.456*\"file\" + -0.215*\"peopl\" + -0.210*\"know\" + -0.192*\"said\" + -0.176*\"dont\" + 0.158*\"entri\" + -0.158*\"think\" + -0.153*\"stephanopoulo\" + 0.139*\"imag\" + -0.129*\"go\"'),\n",
              " (3,\n",
              "  '0.409*\"file\" + 0.286*\"entri\" + -0.241*\"imag\" + -0.168*\"avail\" + -0.141*\"wire\" + -0.136*\"data\" + -0.122*\"version\" + 0.116*\"onam\" + -0.109*\"window\" + 0.104*\"said\"'),\n",
              " (4,\n",
              "  '-0.618*\"wire\" + -0.250*\"ground\" + -0.188*\"circuit\" + -0.180*\"outlet\" + 0.163*\"imag\" + -0.149*\"connect\" + -0.141*\"neutral\" + -0.139*\"entri\" + -0.134*\"gfci\" + -0.112*\"cabl\"'),\n",
              " (5,\n",
              "  '-0.370*\"imag\" + -0.344*\"jpeg\" + 0.339*\"anonym\" + 0.186*\"post\" + 0.185*\"internet\" + 0.164*\"privaci\" + 0.138*\"inform\" + 0.126*\"email\" + -0.126*\"format\" + 0.125*\"mail\"'),\n",
              " (6,\n",
              "  '-0.405*\"entri\" + 0.393*\"file\" + -0.235*\"program\" + 0.191*\"jpeg\" + 0.130*\"anonym\" + -0.127*\"widget\" + 0.125*\"imag\" + 0.120*\"firearm\" + 0.117*\"wire\" + -0.113*\"drive\"'),\n",
              " (7,\n",
              "  '0.341*\"drive\" + 0.243*\"stephanopoulo\" + -0.227*\"anonym\" + 0.196*\"control\" + 0.193*\"presid\" + 0.190*\"disk\" + -0.158*\"peopl\" + -0.147*\"jpeg\" + -0.144*\"post\" + 0.143*\"support\"'),\n",
              " (8,\n",
              "  '-0.427*\"stephanopoulo\" + 0.315*\"drive\" + -0.284*\"presid\" + 0.171*\"disk\" + 0.162*\"control\" + 0.160*\"armenian\" + 0.141*\"peopl\" + -0.120*\"imag\" + 0.111*\"didnt\" + 0.110*\"hard\"'),\n",
              " (9,\n",
              "  '0.272*\"team\" + 0.248*\"hockei\" + 0.220*\"game\" + 0.219*\"leagu\" + -0.181*\"anonym\" + -0.170*\"stephanopoulo\" + 0.163*\"season\" + 0.153*\"year\" + -0.151*\"drive\" + 0.138*\"imag\"'),\n",
              " (10,\n",
              "  '-0.328*\"widget\" + 0.323*\"drive\" + 0.219*\"imag\" + 0.208*\"jpeg\" + 0.208*\"entri\" + -0.181*\"window\" + 0.177*\"disk\" + -0.176*\"applic\" + -0.158*\"resourc\" + 0.157*\"anonym\"'),\n",
              " (11,\n",
              "  '0.274*\"launch\" + 0.252*\"space\" + -0.215*\"hockei\" + -0.206*\"team\" + -0.198*\"game\" + -0.186*\"leagu\" + 0.180*\"satellit\" + -0.178*\"stephanopoulo\" + -0.132*\"season\" + -0.118*\"drive\"'),\n",
              " (12,\n",
              "  '-0.206*\"jesu\" + 0.184*\"launch\" + -0.179*\"atheist\" + -0.163*\"christian\" + 0.160*\"space\" + -0.152*\"jpeg\" + -0.152*\"believ\" + -0.136*\"exist\" + 0.124*\"satellit\" + 0.122*\"didnt\"'),\n",
              " (13,\n",
              "  '-0.317*\"launch\" + -0.274*\"space\" + -0.202*\"satellit\" + 0.149*\"govern\" + 0.143*\"administr\" + -0.141*\"stephanopoulo\" + 0.138*\"russian\" + 0.132*\"program\" + 0.132*\"armenian\" + 0.125*\"turkish\"'),\n",
              " (14,\n",
              "  '0.242*\"jpeg\" + -0.174*\"stephanopoulo\" + 0.152*\"russian\" + 0.149*\"administr\" + -0.137*\"entri\" + 0.133*\"russia\" + -0.128*\"jesu\" + 0.123*\"govern\" + -0.123*\"imag\" + 0.121*\"work\"'),\n",
              " (15,\n",
              "  '-0.390*\"entri\" + 0.270*\"onam\" + 0.251*\"output\" + 0.217*\"char\" + 0.167*\"stream\" + 0.143*\"eofnotok\" + 0.135*\"imag\" + 0.124*\"line\" + 0.120*\"write\" + -0.118*\"jpeg\"'),\n",
              " (16,\n",
              "  '-0.269*\"south\" + -0.232*\"secret\" + -0.219*\"island\" + -0.216*\"rockefel\" + -0.174*\"militari\" + -0.171*\"nuclear\" + -0.168*\"ship\" + -0.164*\"bolshevik\" + -0.150*\"stephanopoulo\" + -0.148*\"georgia\"'),\n",
              " (17,\n",
              "  '-0.196*\"widget\" + 0.164*\"jesu\" + -0.162*\"convert\" + -0.157*\"health\" + -0.146*\"applic\" + -0.144*\"stephanopoulo\" + 0.136*\"version\" + -0.132*\"data\" + -0.131*\"valu\" + 0.126*\"avail\"'),\n",
              " (18,\n",
              "  '-0.192*\"window\" + 0.187*\"turkish\" + -0.185*\"health\" + 0.160*\"jew\" + 0.156*\"imag\" + -0.142*\"jpeg\" + 0.142*\"data\" + 0.137*\"entri\" + 0.129*\"widget\" + -0.124*\"report\"'),\n",
              " (19,\n",
              "  '-0.410*\"turkish\" + -0.359*\"jew\" + -0.217*\"armenian\" + -0.216*\"turkei\" + -0.200*\"stephanopoulo\" + -0.188*\"jpeg\" + 0.162*\"data\" + 0.143*\"imag\" + -0.143*\"nazi\" + -0.116*\"book\"')]"
            ]
          },
          "metadata": {},
          "execution_count": 14
        }
      ]
    },
    {
      "cell_type": "code",
      "metadata": {
        "id": "SWoLB_a164Gq",
        "colab": {
          "base_uri": "https://localhost:8080/"
        },
        "outputId": "c271e463-a1b7-4e26-d519-6f1cb5125c47"
      },
      "source": [
        "# 몇개의 모델로 나누느게 좋을까? \n",
        "\n",
        "from gensim.models.coherencemodel import CoherenceModel\n",
        "\n",
        "min_topics, max_topics = 20, 25\n",
        "\n",
        "coherence_scores = []\n",
        "\n",
        "for num_topics in range(min_topics, max_topics):\n",
        "  model = LsiModel(corpus, num_topics=num_topics, id2word=dictionary)\n",
        "  coherence = CoherenceModel(model=model,\n",
        "                             texts=news_texts,\n",
        "                             dictionary=dictionary)\n",
        "  \n",
        "  coherence_scores.append(coherence.get_coherence())\n",
        "\n",
        "print(coherence_scores)"
      ],
      "execution_count": null,
      "outputs": [
        {
          "output_type": "stream",
          "name": "stdout",
          "text": [
            "[0.40304703118582175, 0.42657991250749205, 0.40894119788186684, 0.4201269189257343, 0.39460616017765265]\n"
          ]
        }
      ]
    },
    {
      "cell_type": "code",
      "metadata": {
        "id": "JVPXSgtK97Ez",
        "colab": {
          "base_uri": "https://localhost:8080/",
          "height": 409
        },
        "outputId": "b9fd6d2f-e649-4804-ac81-869a2c43c709"
      },
      "source": [
        "import matplotlib.pyplot as plt\n",
        "\n",
        "plt.style.use('seaborn-white')\n",
        "\n",
        "x = range(min_topics, max_topics)\n",
        "best_num = x[coherence_scores.index(max(coherence_scores))]\n",
        "plt.figure(figsize=(10, 6))\n",
        "plt.plot(x, coherence_scores)\n",
        "plt.scatter(x=best_num, y=max(coherence_scores),c='r', label='best-coherence')\n",
        "plt.legend()\n",
        "plt.xlabel('Number of Topics')\n",
        "plt.ylabel('Coherence_scores')"
      ],
      "execution_count": null,
      "outputs": [
        {
          "output_type": "execute_result",
          "data": {
            "text/plain": [
              "Text(0, 0.5, 'Coherence_scores')"
            ]
          },
          "metadata": {},
          "execution_count": 16
        },
        {
          "output_type": "display_data",
          "data": {
            "image/png": "[encoded data removed]",
            "text/plain": [
              "<Figure size 720x432 with 1 Axes>"
            ]
          },
          "metadata": {}
        }
      ]
    },
    {
      "cell_type": "code",
      "metadata": {
        "id": "zbI05R9O3Kc4",
        "colab": {
          "base_uri": "https://localhost:8080/"
        },
        "outputId": "45f47084-cb95-4556-d6b3-747870670103"
      },
      "source": [
        "# 가장 높은 게 좋은거~\n",
        "lsi_model = LsiModel(corpus, num_topics=best_num, id2word=dictionary)\n",
        "topics = lsi_model.print_topics(num_topics=best_num)\n",
        "topics"
      ],
      "execution_count": null,
      "outputs": [
        {
          "output_type": "execute_result",
          "data": {
            "text/plain": [
              "[(0,\n",
              "  '1.000*\"maxaxaxaxaxaxaxaxaxaxaxaxaxaxax\" + 0.008*\"mgvgvgvgvgvgvgvgvgvgvgvgvgvgvgv\" + 0.005*\"maxaxaxaxaxaxaxaxaxaxaxaxaxax\" + 0.003*\"maxaxaxaxaxaxaxaxaxaxaxaxaxaxaxq\" + 0.002*\"maxaxaxaxaxaxaxaxaxaxaxaxaxaxf\" + 0.002*\"mqaxaxaxaxaxaxaxaxaxaxaxaxaxax\" + 0.001*\"maxaxaxaxaxaxaxaxaxaxaxaxaxasqq\" + 0.001*\"maxaxaxaxaxaxaxaxaxaxaxaxaxaxqq\" + 0.001*\"maxaxaxaxaxaxaxaxaxaxaxaxaxaxasq\" + 0.001*\"maxaxaxaxaxaxaxaxaxaxaxaxaxaxqqf\"'),\n",
              " (1,\n",
              "  '0.393*\"file\" + 0.191*\"program\" + 0.158*\"imag\" + 0.126*\"peopl\" + 0.125*\"avail\" + 0.119*\"inform\" + 0.116*\"includ\" + 0.116*\"entri\" + 0.114*\"work\" + 0.112*\"dont\"'),\n",
              " (2,\n",
              "  '-0.456*\"file\" + 0.215*\"peopl\" + 0.210*\"know\" + 0.192*\"said\" + 0.176*\"dont\" + -0.158*\"entri\" + 0.158*\"think\" + 0.153*\"stephanopoulo\" + -0.139*\"imag\" + 0.129*\"go\"'),\n",
              " (3,\n",
              "  '0.409*\"file\" + 0.286*\"entri\" + -0.241*\"imag\" + -0.168*\"avail\" + -0.141*\"wire\" + -0.136*\"data\" + -0.122*\"version\" + 0.116*\"onam\" + -0.109*\"window\" + 0.104*\"said\"'),\n",
              " (4,\n",
              "  '-0.618*\"wire\" + -0.250*\"ground\" + -0.188*\"circuit\" + -0.180*\"outlet\" + 0.163*\"imag\" + -0.149*\"connect\" + -0.141*\"neutral\" + -0.139*\"entri\" + -0.134*\"gfci\" + -0.112*\"cabl\"'),\n",
              " (5,\n",
              "  '0.370*\"imag\" + 0.344*\"jpeg\" + -0.339*\"anonym\" + -0.186*\"post\" + -0.185*\"internet\" + -0.164*\"privaci\" + -0.138*\"inform\" + -0.126*\"email\" + 0.126*\"format\" + -0.125*\"mail\"'),\n",
              " (6,\n",
              "  '-0.405*\"entri\" + 0.393*\"file\" + -0.235*\"program\" + 0.191*\"jpeg\" + 0.130*\"anonym\" + -0.127*\"widget\" + 0.125*\"imag\" + 0.120*\"firearm\" + 0.117*\"wire\" + -0.113*\"drive\"'),\n",
              " (7,\n",
              "  '-0.341*\"drive\" + -0.243*\"stephanopoulo\" + 0.227*\"anonym\" + -0.196*\"control\" + -0.193*\"presid\" + -0.190*\"disk\" + 0.158*\"peopl\" + 0.147*\"jpeg\" + 0.144*\"post\" + -0.143*\"support\"'),\n",
              " (8,\n",
              "  '-0.427*\"stephanopoulo\" + 0.315*\"drive\" + -0.284*\"presid\" + 0.171*\"disk\" + 0.162*\"control\" + 0.160*\"armenian\" + 0.141*\"peopl\" + -0.120*\"imag\" + 0.111*\"didnt\" + 0.110*\"hard\"'),\n",
              " (9,\n",
              "  '0.272*\"team\" + 0.248*\"hockei\" + 0.220*\"game\" + 0.219*\"leagu\" + -0.181*\"anonym\" + -0.170*\"stephanopoulo\" + 0.163*\"season\" + 0.153*\"year\" + -0.151*\"drive\" + 0.138*\"imag\"'),\n",
              " (10,\n",
              "  '-0.328*\"widget\" + 0.323*\"drive\" + 0.218*\"imag\" + 0.208*\"jpeg\" + 0.208*\"entri\" + -0.181*\"window\" + 0.177*\"disk\" + -0.176*\"applic\" + -0.158*\"resourc\" + 0.157*\"anonym\"'),\n",
              " (11,\n",
              "  '0.274*\"launch\" + 0.252*\"space\" + -0.215*\"hockei\" + -0.206*\"team\" + -0.198*\"game\" + -0.186*\"leagu\" + 0.180*\"satellit\" + -0.178*\"stephanopoulo\" + -0.132*\"season\" + -0.118*\"drive\"'),\n",
              " (12,\n",
              "  '-0.206*\"jesu\" + 0.184*\"launch\" + -0.179*\"atheist\" + -0.163*\"christian\" + 0.160*\"space\" + -0.152*\"jpeg\" + -0.152*\"believ\" + -0.136*\"exist\" + 0.124*\"satellit\" + 0.122*\"didnt\"'),\n",
              " (13,\n",
              "  '0.317*\"launch\" + 0.274*\"space\" + 0.202*\"satellit\" + -0.149*\"govern\" + -0.143*\"administr\" + 0.141*\"stephanopoulo\" + -0.138*\"russian\" + -0.132*\"program\" + -0.132*\"armenian\" + -0.125*\"turkish\"'),\n",
              " (14,\n",
              "  '-0.242*\"jpeg\" + 0.174*\"stephanopoulo\" + -0.152*\"russian\" + -0.149*\"administr\" + 0.137*\"entri\" + -0.133*\"russia\" + 0.128*\"jesu\" + -0.124*\"govern\" + 0.123*\"imag\" + -0.121*\"work\"'),\n",
              " (15,\n",
              "  '0.390*\"entri\" + -0.270*\"onam\" + -0.251*\"output\" + -0.218*\"char\" + -0.167*\"stream\" + -0.143*\"eofnotok\" + -0.135*\"imag\" + -0.124*\"line\" + -0.120*\"write\" + 0.118*\"jpeg\"'),\n",
              " (16,\n",
              "  '-0.269*\"south\" + -0.232*\"secret\" + -0.219*\"island\" + -0.216*\"rockefel\" + -0.174*\"militari\" + -0.171*\"nuclear\" + -0.168*\"ship\" + -0.164*\"bolshevik\" + -0.150*\"stephanopoulo\" + -0.148*\"georgia\"'),\n",
              " (17,\n",
              "  '0.196*\"widget\" + -0.164*\"jesu\" + 0.162*\"convert\" + 0.157*\"health\" + 0.146*\"applic\" + 0.144*\"stephanopoulo\" + -0.136*\"version\" + 0.132*\"data\" + 0.131*\"valu\" + -0.125*\"avail\"'),\n",
              " (18,\n",
              "  '0.192*\"window\" + -0.187*\"turkish\" + 0.185*\"health\" + -0.160*\"jew\" + -0.156*\"imag\" + 0.142*\"jpeg\" + -0.142*\"data\" + -0.137*\"entri\" + -0.129*\"widget\" + 0.124*\"report\"'),\n",
              " (19,\n",
              "  '0.410*\"turkish\" + 0.359*\"jew\" + 0.217*\"armenian\" + 0.216*\"turkei\" + 0.200*\"stephanopoulo\" + 0.188*\"jpeg\" + -0.162*\"data\" + -0.144*\"imag\" + 0.143*\"nazi\" + 0.116*\"book\"'),\n",
              " (20,\n",
              "  '-0.274*\"encrypt\" + 0.239*\"post\" + 0.230*\"anonym\" + -0.197*\"privaci\" + -0.193*\"chip\" + -0.156*\"scsi\" + -0.155*\"secur\" + -0.130*\"technolog\" + -0.126*\"devic\" + 0.119*\"server\"')]"
            ]
          },
          "metadata": {},
          "execution_count": 17
        }
      ]
    },
    {
      "cell_type": "markdown",
      "metadata": {
        "id": "RxSqZmtV2QzN"
      },
      "source": [
        "### 잠재 디리클레 할당을 위한 `LdaModel`"
      ]
    },
    {
      "cell_type": "code",
      "metadata": {
        "id": "G2X_cCIRJbe1",
        "colab": {
          "base_uri": "https://localhost:8080/"
        },
        "outputId": "3caf044d-dcd3-4bac-e072-e2027736bf17"
      },
      "source": [
        "from gensim.models import LdaModel\n",
        "\n",
        "lda_model = LdaModel(corpus, num_topics=20, id2word=dictionary)\n",
        "topics = lda_model.print_topics()\n",
        "topics"
      ],
      "execution_count": null,
      "outputs": [
        {
          "output_type": "execute_result",
          "data": {
            "text/plain": [
              "[(0,\n",
              "  '0.010*\"team\" + 0.009*\"game\" + 0.007*\"hockei\" + 0.007*\"plai\" + 0.006*\"year\" + 0.005*\"player\" + 0.005*\"like\" + 0.005*\"leagu\" + 0.005*\"time\" + 0.005*\"think\"'),\n",
              " (1,\n",
              "  '0.007*\"wire\" + 0.006*\"ground\" + 0.005*\"control\" + 0.005*\"space\" + 0.004*\"time\" + 0.004*\"mile\" + 0.003*\"engin\" + 0.003*\"includ\" + 0.003*\"center\" + 0.003*\"electr\"'),\n",
              " (2,\n",
              "  '0.026*\"card\" + 0.014*\"modem\" + 0.007*\"port\" + 0.007*\"driver\" + 0.005*\"calgari\" + 0.005*\"slot\" + 0.005*\"vesa\" + 0.004*\"video\" + 0.004*\"stealth\" + 0.004*\"vancouv\"'),\n",
              " (3,\n",
              "  '0.010*\"govern\" + 0.009*\"state\" + 0.008*\"peopl\" + 0.007*\"public\" + 0.006*\"right\" + 0.005*\"health\" + 0.004*\"nation\" + 0.004*\"american\" + 0.004*\"secur\" + 0.004*\"unit\"'),\n",
              " (4,\n",
              "  '0.140*\"maxaxaxaxaxaxaxaxaxaxaxaxaxaxax\" + 0.004*\"jesu\" + 0.003*\"iniqu\" + 0.002*\"father\" + 0.002*\"baptism\" + 0.002*\"mormon\" + 0.002*\"christ\" + 0.002*\"ciphertext\" + 0.002*\"quantiti\" + 0.002*\"mari\"'),\n",
              " (5,\n",
              "  '0.005*\"number\" + 0.004*\"time\" + 0.004*\"encrypt\" + 0.004*\"kei\" + 0.004*\"scienc\" + 0.004*\"gener\" + 0.003*\"like\" + 0.003*\"program\" + 0.003*\"reason\" + 0.003*\"block\"'),\n",
              " (6,\n",
              "  '0.017*\"output\" + 0.010*\"onam\" + 0.009*\"input\" + 0.006*\"stream\" + 0.005*\"eofnotok\" + 0.005*\"program\" + 0.005*\"string\" + 0.005*\"data\" + 0.005*\"line\" + 0.004*\"fprintfstderr\"'),\n",
              " (7,\n",
              "  '0.016*\"game\" + 0.010*\"plai\" + 0.008*\"period\" + 0.006*\"king\" + 0.006*\"goal\" + 0.005*\"team\" + 0.005*\"season\" + 0.005*\"list\" + 0.005*\"offer\" + 0.005*\"copi\"'),\n",
              " (8,\n",
              "  '0.016*\"program\" + 0.011*\"version\" + 0.010*\"avail\" + 0.010*\"imag\" + 0.009*\"includ\" + 0.009*\"softwar\" + 0.009*\"scsi\" + 0.008*\"window\" + 0.007*\"file\" + 0.007*\"drive\"'),\n",
              " (9,\n",
              "  '0.035*\"file\" + 0.024*\"entri\" + 0.016*\"window\" + 0.011*\"program\" + 0.006*\"rule\" + 0.005*\"error\" + 0.005*\"number\" + 0.005*\"like\" + 0.005*\"chang\" + 0.005*\"line\"'),\n",
              " (10,\n",
              "  '0.013*\"armenian\" + 0.008*\"peopl\" + 0.008*\"said\" + 0.006*\"kill\" + 0.006*\"israel\" + 0.005*\"turkish\" + 0.005*\"isra\" + 0.005*\"jew\" + 0.004*\"children\" + 0.004*\"greek\"'),\n",
              " (11,\n",
              "  '0.016*\"year\" + 0.010*\"like\" + 0.009*\"game\" + 0.009*\"good\" + 0.007*\"team\" + 0.006*\"player\" + 0.006*\"think\" + 0.006*\"right\" + 0.005*\"dont\" + 0.005*\"look\"'),\n",
              " (12,\n",
              "  '0.013*\"think\" + 0.011*\"dont\" + 0.011*\"know\" + 0.011*\"peopl\" + 0.008*\"believ\" + 0.007*\"christian\" + 0.007*\"like\" + 0.007*\"question\" + 0.006*\"thing\" + 0.006*\"mean\"'),\n",
              " (13,\n",
              "  '0.009*\"peopl\" + 0.009*\"dont\" + 0.007*\"jesu\" + 0.007*\"moral\" + 0.006*\"like\" + 0.006*\"time\" + 0.005*\"know\" + 0.005*\"think\" + 0.005*\"come\" + 0.005*\"object\"'),\n",
              " (14,\n",
              "  '0.007*\"dont\" + 0.005*\"post\" + 0.005*\"know\" + 0.004*\"pain\" + 0.004*\"research\" + 0.003*\"caus\" + 0.003*\"year\" + 0.003*\"problem\" + 0.003*\"studi\" + 0.003*\"medic\"'),\n",
              " (15,\n",
              "  '0.008*\"inform\" + 0.008*\"mail\" + 0.007*\"char\" + 0.007*\"email\" + 0.007*\"includ\" + 0.007*\"post\" + 0.007*\"anonym\" + 0.007*\"avail\" + 0.006*\"ripem\" + 0.005*\"program\"'),\n",
              " (16,\n",
              "  '0.005*\"german\" + 0.005*\"peopl\" + 0.004*\"divis\" + 0.004*\"john\" + 0.004*\"germani\" + 0.004*\"decenso\" + 0.004*\"antisemit\" + 0.004*\"detroit\" + 0.003*\"wing\" + 0.003*\"jew\"'),\n",
              " (17,\n",
              "  '0.012*\"problem\" + 0.011*\"work\" + 0.010*\"like\" + 0.010*\"drive\" + 0.009*\"know\" + 0.009*\"thank\" + 0.008*\"need\" + 0.006*\"dont\" + 0.006*\"time\" + 0.006*\"want\"'),\n",
              " (18,\n",
              "  '0.018*\"space\" + 0.009*\"launch\" + 0.008*\"bike\" + 0.008*\"satellit\" + 0.006*\"like\" + 0.006*\"mission\" + 0.006*\"orbit\" + 0.005*\"nasa\" + 0.004*\"year\" + 0.004*\"shuttl\"'),\n",
              " (19,\n",
              "  '0.010*\"obfusc\" + 0.007*\"font\" + 0.006*\"contest\" + 0.006*\"print\" + 0.005*\"charact\" + 0.005*\"file\" + 0.004*\"section\" + 0.004*\"yanke\" + 0.004*\"char\" + 0.004*\"remark\"')]"
            ]
          },
          "metadata": {},
          "execution_count": 18
        }
      ]
    },
    {
      "cell_type": "code",
      "metadata": {
        "id": "o2Yn8BwIJqwt"
      },
      "source": [
        "from gensim.models.coherencemodel import CoherenceModel\n",
        "\n",
        "min_topics, max_topics = 20, 25\n",
        "\n",
        "coherence_scores = []\n",
        "\n",
        "for num_topics in range(min_topics, max_topics):\n",
        "  model = LdaModel(corpus, num_topics=num_topics, id2word=dictionary)\n",
        "  coherence = CoherenceModel(model=model,\n",
        "                             texts=news_texts,\n",
        "                             dictionary=dictionary)\n",
        "  \n",
        "  coherence_scores.append(coherence.get_coherence())\n",
        "\n",
        "print(coherence_scores)"
      ],
      "execution_count": null,
      "outputs": []
    },
    {
      "cell_type": "code",
      "metadata": {
        "id": "pD8aNQIK2q-p"
      },
      "source": [
        "import matplotlib.pyplot as plt\n",
        "\n",
        "plt.style.use('seaborn-white')\n",
        "\n",
        "x = range(min_topics, max_topics)\n",
        "best_num = x[coherence_scores.index(max(coherence_scores))]\n",
        "plt.figure(figsize=(10, 6))\n",
        "plt.plot(x, coherence_scores)\n",
        "plt.scatter(x=best_num, y=max(coherence_scores),c='r', label='best-coherence')\n",
        "plt.legend()\n",
        "plt.xlabel('Number of Topics')\n",
        "plt.ylabel('Coherence_scores')"
      ],
      "execution_count": null,
      "outputs": []
    },
    {
      "cell_type": "code",
      "metadata": {
        "id": "eziNq5h54tzF"
      },
      "source": [
        "from gensim.models import LdaModel\n",
        "# 가장 높은 게 좋은거~\n",
        "lda_model = LdaModel(corpus, num_topics=best_num, id2word=dictionary)\n",
        "topics = lda_model.print_topics(num_topics=best_num)\n",
        "topics"
      ],
      "execution_count": null,
      "outputs": []
    },
    {
      "cell_type": "markdown",
      "metadata": {
        "id": "vLljp8WR3qHB"
      },
      "source": [
        "## 토픽 모델링 시각화"
      ]
    },
    {
      "cell_type": "code",
      "metadata": {
        "id": "Z6lhKMEwJqAd"
      },
      "source": [
        "!pip install pyLDAvis"
      ],
      "execution_count": null,
      "outputs": []
    },
    {
      "cell_type": "code",
      "metadata": {
        "id": "FRYHzP_9JuC3"
      },
      "source": [
        "import pyLDAvis.gensim_models\n",
        "pyLDAvis.enable_notebook()\n",
        "vis = pyLDAvis.gensim_models.prepare(lda_model, corpus, dictionary)\n",
        "pyLDAvis.display(vis)"
      ],
      "execution_count": null,
      "outputs": []
    },
    {
      "cell_type": "code",
      "metadata": {
        "id": "aHMgXI9DD99x"
      },
      "source": [
        ""
      ],
      "execution_count": null,
      "outputs": []
    }
  ]
}
