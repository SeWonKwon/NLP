{
  "nbformat": 4,
  "nbformat_minor": 0,
  "metadata": {
    "colab": {
      "name": "L09_Convolution Neural Network.ipynb",
      "provenance": [],
      "collapsed_sections": [],
      "include_colab_link": true
    },
    "kernelspec": {
      "name": "python3",
      "display_name": "Python 3"
    },
    "accelerator": "GPU"
  },
  "cells": [
    {
      "cell_type": "markdown",
      "metadata": {
        "id": "view-in-github",
        "colab_type": "text"
      },
      "source": [
        "<a href=\"https://colab.research.google.com/github/SeWonKwon/NLP/blob/main/L09_Convolution_Neural_Network.ipynb\" target=\"_parent\"><img src=\"https://colab.research.google.com/assets/colab-badge.svg\" alt=\"Open In Colab\"/></a>"
      ]
    },
    {
      "cell_type": "markdown",
      "metadata": {
        "id": "86l7I5SQ_u9J"
      },
      "source": [
        "# 합성곱 신경망(Convolution Neural Network)\n",
        "\n",
        "- 이미지 인식, 음성 인식 등에 자주 사용되는데,  \n",
        "  특히, 이미지 인식 분야에서 거의 모든 딥러닝 기술에 사용\n",
        "\n",
        "<br>\n",
        "\n",
        "## 컨볼루션 신경망의 등장\n",
        "- 1989년 얀 르쿤(Yann LeCun) 교수의 논문에서 발표\n",
        "\n",
        "  - 필기체 인식에서 의미가 있었지만 범용화하는데에는 무리\n",
        "\n",
        "- 1998년, \"Gradient-Based Learning Applied to Document Recognition\"이라는 논문에서 LeNet-5 제시\n",
        "\n",
        "- 합성곱 층(convolution layer), 풀링 층(pooling layer) 소개\n",
        "  <br>\n",
        "\n",
        "  <img src=\"https://miro.medium.com/max/4308/1*1TI1aGBZ4dybR6__DI9dzA.png\">\n",
        "  \n",
        "  <center>[LeNet-5 구조]</center>\n",
        "\n",
        "  <sub>출처: https://medium.com/@pechyonkin/key-deep-learning-architectures-lenet-5-6fc3c59e6f4</sub>"
      ]
    },
    {
      "cell_type": "markdown",
      "metadata": {
        "id": "Y46evOQHNukF"
      },
      "source": [
        "## 컨볼루션 신경망 구조 예시\n",
        "\n",
        "<img src=\"https://www.oreilly.com/library/view/neural-network-projects/9781789138900/assets/c38754ca-f2ea-425a-b7a6-1fe0f2f5074e.png\" width=\"600\">\n",
        "\n",
        "<sub>출처: https://www.oreilly.com/library/view/neural-network-projects/9781789138900/8e87ad66-6de3-4275-81a4-62b54436bf16.xhtml</sub>\n",
        "\n"
      ]
    },
    {
      "cell_type": "markdown",
      "metadata": {
        "id": "Wtb8UWyTNxp_"
      },
      "source": [
        "## 합성곱 연산\n",
        "- 필터(filter) 연산\n",
        "  - 입력 데이터에 필터를 통한 어떠한 연산을 진행\n",
        "  \n",
        "  - **필터에 대응하는 원소끼리 곱하고, 그 합을 구함**\n",
        "\n",
        "  - 연산이 완료된 결과 데이터를 **특징 맵(feature map)**이라 부름\n",
        "\n",
        "- 필터(filter)\n",
        "  - 커널(kernel)이라고도 칭함\n",
        "  \n",
        "  - 흔히 사진 어플에서 사용하는 '이미지 필터'와 비슷한 개념\n",
        "\n",
        "  - 필터의 사이즈는 \"거의 항상 홀수\"\n",
        "    - 짝수이면 패딩이 비대칭이 되어버림\n",
        "  \n",
        "    - 왼쪽, 오른쪽을 다르게 주어야함\n",
        "  \n",
        "    - 중심위치가 존재, 즉 구별된 하나의 픽셀(중심 픽셀)이 존재\n",
        "\n",
        "  - 필터의 학습 파라미터 개수는 입력 데이터의 크기와 상관없이 일정  \n",
        "    따라서, 과적합을 방지할 수 있음\n",
        "\n",
        "  <br>\n",
        "  <img src=\"https://user-images.githubusercontent.com/15958325/58780750-defb7480-8614-11e9-943c-4d44a9d1efc4.gif\"/>\n",
        "\n",
        "\n",
        "- 연산 시각화\n",
        "  <img src=\"https://www.researchgate.net/profile/Ihab_S_Mohamed/publication/324165524/figure/fig3/AS:611103423860736@1522709818959/An-example-of-convolution-operation-in-2D-2.png\" width=\"500\">\n",
        "\n",
        "  <sub>출처: https://www.researchgate.net/figure/An-example-of-convolution-operation-in-2D-2_fig3_324165524</sub>\n",
        "\n",
        "\n",
        "- 일반적으로, 합성곱 연산을 한 후의 데이터 사이즈는  \n",
        "  ### $\\quad (n-f+1) \\times (n-f+1)$\n",
        "    $n$: 입력 데이터의 크기  \n",
        "    $f$: 필터(커널)의 크기\n",
        "\n",
        "\n",
        "  <img src=\"https://miro.medium.com/max/1400/1*Fw-ehcNBR9byHtho-Rxbtw.gif\" width=\"400\">\n",
        "\n",
        "  <sub>출처: https://towardsdatascience.com/intuitively-understanding-convolutions-for-deep-learning-1f6f42faee1</sub>\n",
        "  \n",
        "  위 예에서 입력 데이터 크기($n$)는 5, 필터의 크기($k$)는 3이므로  \n",
        "  출력 데이터의 크기는 $(5 - 3 + 1) = 3$\n"
      ]
    },
    {
      "cell_type": "markdown",
      "metadata": {
        "id": "5-ekDsJwN2Y-"
      },
      "source": [
        "## 패딩(padding)과 스트라이드(stride)\n",
        "- 필터(커널) 사이즈과 함께 **입력 이미지와 출력 이미지의 사이즈를 결정**하기 위해 사용\n",
        "\n",
        "- 사용자가 결정할 수 있음\n"
      ]
    },
    {
      "cell_type": "markdown",
      "metadata": {
        "id": "alV1bgcjN4Kc"
      },
      "source": [
        "\n",
        "### 패딩\n",
        "- 입력 데이터의 주변을 특정 값으로 채우는 기법\n",
        "  - 주로 0으로 많이 채움\n",
        "\n",
        "  <img src=\"http://deeplearning.net/software/theano_versions/dev/_images/arbitrary_padding_no_strides.gif\" width=\"300\"/>\n",
        "\n",
        "- 출력 데이터의 크기\n",
        "  ### $\\quad (n+2p-f+1) \\times (n+2p-f+1)$\n",
        "\n",
        "  위 그림에서, 입력 데이터의 크기($n$)는 5, 필터의 크기($f$)는 4, 패딩값($p$)은 2이므로    \n",
        "  출력 데이터의 크기는 ($5 + 2\\times 2 - 4 + 1) = 6$\n",
        "\n",
        "### 'valid' 와 'same'\n",
        "- 'valid'\n",
        "  - 패딩을 주지 않음\n",
        "  - padding=0 (0으로 채워진 테두리가 아니라 패딩을 주지 않는다는 의미)\n",
        "\n",
        "- 'same'\n",
        "  - 패딩을 주어 입력 이미지의 크기와 연산 후의 이미지 크기를 같게함\n",
        "\n",
        "  - 만약, 필터(커널)의 크기가 $k$ 이면,  \n",
        "    패딩의 크기는 $p = \\frac{k-1}{2}$ (단, <u>stride=1)</u>"
      ]
    },
    {
      "cell_type": "markdown",
      "metadata": {
        "id": "zlZ7zG6ON85J"
      },
      "source": [
        "\n",
        "\n",
        "### 스트라이드\n",
        "- 필터를 적용하는 간격을 의미\n",
        "\n",
        "- 아래는 그림의 간격 2\n",
        "\n",
        "  <img src=\"http://deeplearning.net/software/theano_versions/dev/_images/no_padding_strides.gif\">\n"
      ]
    },
    {
      "cell_type": "markdown",
      "metadata": {
        "id": "LPcsND-0OCNm"
      },
      "source": [
        "## 출력 데이터의 크기\n",
        "\n",
        "## $\\qquad OH = \\frac{H + 2P - FH}{S} + 1 $ \n",
        "## $\\qquad OW = \\frac{W + 2P - FW}{S} + 1 $ \n",
        "\n",
        "- 입력 크기 : $(H, W)$\n",
        "\n",
        "- 필터 크기 : $(FH, FW)$\n",
        "\n",
        "- 출력 크기 : $(OH, OW)$\n",
        "\n",
        "- 패딩, 스트라이드 : $P, S$\n",
        "\n",
        "- (주의) \n",
        "  - 위 식의 값에서 $\\frac{H + 2P - FH}{S}$ 또는 $\\frac{W + 2P - FW}{S}$가 정수로 나누어 떨어지는 값이어야 함\n",
        "  - 만약, 정수로 나누어 떨어지지 않으면  \n",
        "    패딩, 스트라이드값을 조정하여 정수로 나누어 떨어지게 해야함\n"
      ]
    },
    {
      "cell_type": "markdown",
      "metadata": {
        "id": "1x4UoMbF8jJ9"
      },
      "source": [
        "## 풀링(Pooling)\n",
        "\n",
        "- 필터(커널) 사이즈 내에서 특정 값을 추출하는 과정"
      ]
    },
    {
      "cell_type": "markdown",
      "metadata": {
        "id": "lDiaO3XF8oC_"
      },
      "source": [
        "### 맥스 풀링(Max Pooling)\n",
        "- 가장 많이 사용되는 방법\n",
        "\n",
        "- 출력 데이터의 사이즈 계산은 컨볼루션 연산과 동일\n",
        "## $\\quad OH = \\frac{H + 2P - FH}{S} + 1 $ \n",
        "## $\\quad OW = \\frac{W + 2P - FW}{S} + 1 $ \n",
        "\n",
        "- 일반적으로 stride=2, kernel_size=2 를 통해  \n",
        "  **특징맵의 크기를 <u>절반으로 줄이는 역할</u>**\n",
        "\n",
        "- 모델이 물체의 주요한 특징을 학습할 수 있도록 해주며,  \n",
        "  컨볼루션 신경망이 이동 불변성 특성을 가지게 해줌\n",
        "  - 예를 들어, 아래의 그림에서 초록색 사각형 안에 있는  \n",
        "    2와 8의 위치를 바꾼다해도 맥스 풀링 연산은 8을 추출\n",
        "\n",
        "- 모델의 파라미터 개수를 줄여주고, 연산 속도를 빠르게 해줌\n",
        "\n",
        "  <br>\n",
        "\n",
        "  <img src=\"https://cs231n.github.io/assets/cnn/maxpool.jpeg\" width=\"600\">\n",
        "\n",
        "  <sub>출처: https://cs231n.github.io/convolutional-networks/</sub>"
      ]
    },
    {
      "cell_type": "markdown",
      "metadata": {
        "id": "CrvtX4LrkhPI"
      },
      "source": [
        "## Conv1D \n",
        "\n",
        "- 텍스트 분류나 시계열 예측 같은 간단한 문제, 오디오 생성, 기계 번역 등의 문제에서 좋은 성능\n",
        "\n",
        "- 타임스텝의 순서에 민감하지 X\n",
        "\n",
        "\n",
        "- 2D Convolution\n",
        "  - 지역적 특징을 인식\n",
        "\n",
        "  <img src=\"https://missinglink.ai/wp-content/uploads/2019/03/2D-convolutional-example_2x-700x584.png\" width=\"500\">\n",
        "\n",
        "- 1D Convolution\n",
        "  - 문맥을 인식\n",
        "\n",
        "  <img src=\"https://missinglink.ai/wp-content/uploads/2019/03/1D-convolutional-example_2x.png\" width=\"500\">\n",
        "\n",
        "  <sub>출처: https://missinglink.ai/guides/keras/keras-conv1d-working-1d-convolutional-neural-networks-keras/</sub>"
      ]
    },
    {
      "cell_type": "markdown",
      "metadata": {
        "id": "aJNAI-aYnDuc"
      },
      "source": [
        "### Conv1D Layer\n",
        "- 입력: `(batch_size, timesteps, channels)`\n",
        "\n",
        "- 출력: `(batch_size, timesteps, filters)`\n",
        "\n",
        "- 필터의 사이즈가 커져도 모델이 급격히 증가하지 않기 때문에 다양한 크기를 사용할 수 있음\n",
        "- 데이터의 품질이 좋으면 굳이 크기를 달리하여 여러 개를 사용하지 않아도 될 수도 있음"
      ]
    },
    {
      "cell_type": "markdown",
      "metadata": {
        "id": "ADJZHPLJqTZa"
      },
      "source": [
        "### MaxPooling1D Layer\n",
        "- 다운 샘플링 효과\n",
        "\n",
        "- 단지 1차원형태로 바뀐 것 뿐"
      ]
    },
    {
      "cell_type": "markdown",
      "metadata": {
        "id": "wirZzwYJrNll"
      },
      "source": [
        "### GlobalMaxPooling Layer\n",
        "- 배치차원을 제외하고 2차원 형태를 1차원 형태로 바꾸어주는 레이어\n",
        "\n",
        "- Flatten layer로 대신 사용가능"
      ]
    },
    {
      "cell_type": "markdown",
      "metadata": {
        "id": "YQY_1IL9nQs2"
      },
      "source": [
        "## IMDB 데이터"
      ]
    },
    {
      "cell_type": "markdown",
      "metadata": {
        "id": "pl4Eu32qnUES"
      },
      "source": [
        "### 데이터 로드 및 전처리"
      ]
    },
    {
      "cell_type": "code",
      "metadata": {
        "id": "WcG-Hiltklbe"
      },
      "source": [
        "from tensorflow.keras.datasets import imdb\n",
        "from tensorflow.keras.preprocessing.sequence import pad_sequences\n",
        "from tensorflow.keras.models import Sequential\n",
        "from tensorflow.keras.optimizers import RMSprop\n",
        "from tensorflow.keras.layers import Dense, Embedding, Conv1D, MaxPooling1D, GlobalMaxPooling1D"
      ],
      "execution_count": 1,
      "outputs": []
    },
    {
      "cell_type": "code",
      "metadata": {
        "id": "GGYaNT8hnec5",
        "colab": {
          "base_uri": "https://localhost:8080/"
        },
        "outputId": "c2367479-7e41-4449-9cba-8d8fcea68c95"
      },
      "source": [
        "num_words =10000\n",
        "max_len = 500\n",
        "batch_size = 32\n",
        "\n",
        "(input_train, y_train), (input_test, y_test) = imdb.load_data(num_words=num_words)\n",
        "\n",
        "print(len(input_train))\n",
        "print(len(input_test))"
      ],
      "execution_count": 2,
      "outputs": [
        {
          "output_type": "stream",
          "name": "stdout",
          "text": [
            "Downloading data from https://storage.googleapis.com/tensorflow/tf-keras-datasets/imdb.npz\n",
            "17465344/17464789 [==============================] - 0s 0us/step\n",
            "17473536/17464789 [==============================] - 0s 0us/step\n",
            "25000\n",
            "25000\n"
          ]
        }
      ]
    },
    {
      "cell_type": "code",
      "metadata": {
        "id": "nQBzp3ownpEK",
        "colab": {
          "base_uri": "https://localhost:8080/"
        },
        "outputId": "e591607b-af6a-4f23-bdf0-8965874c3c22"
      },
      "source": [
        "pad_x_train = pad_sequences(input_train, maxlen=max_len)\n",
        "pad_x_test = pad_sequences(input_test, maxlen=max_len)\n",
        "\n",
        "print(pad_x_train.shape)\n",
        "print(pad_x_test.shape)"
      ],
      "execution_count": 4,
      "outputs": [
        {
          "output_type": "stream",
          "name": "stdout",
          "text": [
            "(25000, 500)\n",
            "(25000, 500)\n"
          ]
        }
      ]
    },
    {
      "cell_type": "markdown",
      "metadata": {
        "id": "j3E0hYiHoBO0"
      },
      "source": [
        "### 모델 구성"
      ]
    },
    {
      "cell_type": "code",
      "metadata": {
        "id": "PvKPr7N6nuHr"
      },
      "source": [
        "def build_model():\n",
        "  model = Sequential()\n",
        "  model.add(Embedding(input_dim=num_words, output_dim=32, input_length=max_len))\n",
        "  model.add(Conv1D(32, 7, activation='relu'))\n",
        "  model.add(MaxPooling1D(7))\n",
        "  model.add(Conv1D(32, 5, activation='relu'))\n",
        "  model.add(MaxPooling1D(5))\n",
        "  model.add(GlobalMaxPooling1D())\n",
        "  model.add(Dense(1, activation='sigmoid'))\n",
        "\n",
        "  model.compile(optimizer=RMSprop(learning_rate=1e-4),\n",
        "                loss='binary_crossentropy',\n",
        "                metrics=['accuracy'])\n",
        "  \n",
        "  return model"
      ],
      "execution_count": 5,
      "outputs": []
    },
    {
      "cell_type": "code",
      "metadata": {
        "id": "wwWZ47NHolB6",
        "colab": {
          "base_uri": "https://localhost:8080/"
        },
        "outputId": "f4e9dc19-9f30-4b3c-871d-10f29d0186f9"
      },
      "source": [
        "model = build_model()\n",
        "model.summary()"
      ],
      "execution_count": 9,
      "outputs": [
        {
          "output_type": "stream",
          "name": "stdout",
          "text": [
            "Model: \"sequential_2\"\n",
            "_________________________________________________________________\n",
            "Layer (type)                 Output Shape              Param #   \n",
            "=================================================================\n",
            "embedding_2 (Embedding)      (None, 500, 32)           320000    \n",
            "_________________________________________________________________\n",
            "conv1d_4 (Conv1D)            (None, 494, 32)           7200      \n",
            "_________________________________________________________________\n",
            "max_pooling1d_4 (MaxPooling1 (None, 70, 32)            0         \n",
            "_________________________________________________________________\n",
            "conv1d_5 (Conv1D)            (None, 66, 32)            5152      \n",
            "_________________________________________________________________\n",
            "max_pooling1d_5 (MaxPooling1 (None, 13, 32)            0         \n",
            "_________________________________________________________________\n",
            "global_max_pooling1d_2 (Glob (None, 32)                0         \n",
            "_________________________________________________________________\n",
            "dense_2 (Dense)              (None, 1)                 33        \n",
            "=================================================================\n",
            "Total params: 332,385\n",
            "Trainable params: 332,385\n",
            "Non-trainable params: 0\n",
            "_________________________________________________________________\n"
          ]
        }
      ]
    },
    {
      "cell_type": "markdown",
      "metadata": {
        "id": "0qUbPGdmpHpQ"
      },
      "source": [
        "### 모델 학습"
      ]
    },
    {
      "cell_type": "code",
      "metadata": {
        "id": "xcCgjLHvonWB",
        "colab": {
          "base_uri": "https://localhost:8080/"
        },
        "outputId": "93b034de-5eec-4902-9e05-ada9dc9b6d29"
      },
      "source": [
        "history = model.fit(pad_x_train, y_train,\n",
        "                    batch_size=128, epochs=30,\n",
        "                    validation_split=0.2)"
      ],
      "execution_count": 10,
      "outputs": [
        {
          "output_type": "stream",
          "name": "stdout",
          "text": [
            "Epoch 1/30\n",
            "157/157 [==============================] - 35s 16ms/step - loss: 0.6927 - accuracy: 0.5134 - val_loss: 0.6921 - val_accuracy: 0.5156\n",
            "Epoch 2/30\n",
            "157/157 [==============================] - 2s 14ms/step - loss: 0.6902 - accuracy: 0.6030 - val_loss: 0.6908 - val_accuracy: 0.5370\n",
            "Epoch 3/30\n",
            "157/157 [==============================] - 2s 13ms/step - loss: 0.6862 - accuracy: 0.6935 - val_loss: 0.6862 - val_accuracy: 0.6172\n",
            "Epoch 4/30\n",
            "157/157 [==============================] - 2s 13ms/step - loss: 0.6765 - accuracy: 0.7363 - val_loss: 0.6711 - val_accuracy: 0.7016\n",
            "Epoch 5/30\n",
            "157/157 [==============================] - 2s 13ms/step - loss: 0.6499 - accuracy: 0.7655 - val_loss: 0.6296 - val_accuracy: 0.7672\n",
            "Epoch 6/30\n",
            "157/157 [==============================] - 2s 13ms/step - loss: 0.5892 - accuracy: 0.7988 - val_loss: 0.5533 - val_accuracy: 0.7980\n",
            "Epoch 7/30\n",
            "157/157 [==============================] - 2s 13ms/step - loss: 0.4994 - accuracy: 0.8252 - val_loss: 0.4660 - val_accuracy: 0.8204\n",
            "Epoch 8/30\n",
            "157/157 [==============================] - 2s 14ms/step - loss: 0.4141 - accuracy: 0.8453 - val_loss: 0.4033 - val_accuracy: 0.8364\n",
            "Epoch 9/30\n",
            "157/157 [==============================] - 2s 13ms/step - loss: 0.3562 - accuracy: 0.8622 - val_loss: 0.3683 - val_accuracy: 0.8454\n",
            "Epoch 10/30\n",
            "157/157 [==============================] - 2s 14ms/step - loss: 0.3188 - accuracy: 0.8737 - val_loss: 0.3491 - val_accuracy: 0.8506\n",
            "Epoch 11/30\n",
            "157/157 [==============================] - 2s 13ms/step - loss: 0.2928 - accuracy: 0.8834 - val_loss: 0.3397 - val_accuracy: 0.8544\n",
            "Epoch 12/30\n",
            "157/157 [==============================] - 2s 14ms/step - loss: 0.2728 - accuracy: 0.8913 - val_loss: 0.3322 - val_accuracy: 0.8584\n",
            "Epoch 13/30\n",
            "157/157 [==============================] - 2s 14ms/step - loss: 0.2559 - accuracy: 0.8994 - val_loss: 0.3271 - val_accuracy: 0.8598\n",
            "Epoch 14/30\n",
            "157/157 [==============================] - 2s 13ms/step - loss: 0.2417 - accuracy: 0.9048 - val_loss: 0.3267 - val_accuracy: 0.8608\n",
            "Epoch 15/30\n",
            "157/157 [==============================] - 2s 14ms/step - loss: 0.2289 - accuracy: 0.9111 - val_loss: 0.3242 - val_accuracy: 0.8628\n",
            "Epoch 16/30\n",
            "157/157 [==============================] - 2s 13ms/step - loss: 0.2175 - accuracy: 0.9162 - val_loss: 0.3281 - val_accuracy: 0.8602\n",
            "Epoch 17/30\n",
            "157/157 [==============================] - 2s 13ms/step - loss: 0.2072 - accuracy: 0.9216 - val_loss: 0.3286 - val_accuracy: 0.8616\n",
            "Epoch 18/30\n",
            "157/157 [==============================] - 2s 13ms/step - loss: 0.1975 - accuracy: 0.9265 - val_loss: 0.3285 - val_accuracy: 0.8630\n",
            "Epoch 19/30\n",
            "157/157 [==============================] - 2s 13ms/step - loss: 0.1886 - accuracy: 0.9316 - val_loss: 0.3319 - val_accuracy: 0.8634\n",
            "Epoch 20/30\n",
            "157/157 [==============================] - 2s 14ms/step - loss: 0.1807 - accuracy: 0.9348 - val_loss: 0.3329 - val_accuracy: 0.8636\n",
            "Epoch 21/30\n",
            "157/157 [==============================] - 2s 13ms/step - loss: 0.1730 - accuracy: 0.9387 - val_loss: 0.3366 - val_accuracy: 0.8648\n",
            "Epoch 22/30\n",
            "157/157 [==============================] - 2s 14ms/step - loss: 0.1656 - accuracy: 0.9415 - val_loss: 0.3405 - val_accuracy: 0.8642\n",
            "Epoch 23/30\n",
            "157/157 [==============================] - 2s 13ms/step - loss: 0.1594 - accuracy: 0.9441 - val_loss: 0.3458 - val_accuracy: 0.8636\n",
            "Epoch 24/30\n",
            "157/157 [==============================] - 2s 13ms/step - loss: 0.1530 - accuracy: 0.9471 - val_loss: 0.3478 - val_accuracy: 0.8646\n",
            "Epoch 25/30\n",
            "157/157 [==============================] - 2s 14ms/step - loss: 0.1472 - accuracy: 0.9496 - val_loss: 0.3576 - val_accuracy: 0.8622\n",
            "Epoch 26/30\n",
            "157/157 [==============================] - 2s 13ms/step - loss: 0.1416 - accuracy: 0.9513 - val_loss: 0.3584 - val_accuracy: 0.8620\n",
            "Epoch 27/30\n",
            "157/157 [==============================] - 2s 14ms/step - loss: 0.1363 - accuracy: 0.9538 - val_loss: 0.3616 - val_accuracy: 0.8634\n",
            "Epoch 28/30\n",
            "157/157 [==============================] - 2s 13ms/step - loss: 0.1315 - accuracy: 0.9563 - val_loss: 0.3668 - val_accuracy: 0.8626\n",
            "Epoch 29/30\n",
            "157/157 [==============================] - 2s 13ms/step - loss: 0.1265 - accuracy: 0.9571 - val_loss: 0.3718 - val_accuracy: 0.8638\n",
            "Epoch 30/30\n",
            "157/157 [==============================] - 2s 13ms/step - loss: 0.1220 - accuracy: 0.9589 - val_loss: 0.3798 - val_accuracy: 0.8582\n"
          ]
        }
      ]
    },
    {
      "cell_type": "code",
      "metadata": {
        "colab": {
          "base_uri": "https://localhost:8080/"
        },
        "id": "BeW_TH2gkn3_",
        "outputId": "01000c7d-3cab-4c0a-9508-da19be3e71d5"
      },
      "source": [
        "model.evaluate(pad_x_test, y_test)"
      ],
      "execution_count": 12,
      "outputs": [
        {
          "output_type": "stream",
          "name": "stdout",
          "text": [
            "782/782 [==============================] - 3s 3ms/step - loss: 0.4060 - accuracy: 0.8450\n"
          ]
        },
        {
          "output_type": "execute_result",
          "data": {
            "text/plain": [
              "[0.4060198962688446, 0.8450000286102295]"
            ]
          },
          "metadata": {},
          "execution_count": 12
        }
      ]
    },
    {
      "cell_type": "markdown",
      "metadata": {
        "id": "n2yEkawIph4C"
      },
      "source": [
        "### 시각화"
      ]
    },
    {
      "cell_type": "code",
      "metadata": {
        "id": "BfKC0UOkpPmP",
        "colab": {
          "base_uri": "https://localhost:8080/",
          "height": 507
        },
        "outputId": "fd674cb5-a614-460f-fcdf-6aa7c8f6147c"
      },
      "source": [
        "import matplotlib.pyplot as plt\n",
        "plt.style.use('seaborn-white')\n",
        "\n",
        "\n",
        "loss= history.history['loss']\n",
        "val_loss= history.history['val_loss']\n",
        "acc = history.history['accuracy']\n",
        "val_acc= history.history['val_accuracy']\n",
        "\n",
        "epochs = range(1, len(loss) + 1)\n",
        "\n",
        "plt.plot(epochs, loss,'b--', label='training loss')\n",
        "plt.plot(epochs, val_loss, 'r:', label='validation loss')\n",
        "plt.grid()\n",
        "plt.legend()\n",
        "\n",
        "plt.figure()\n",
        "plt.plot(epochs, acc, 'b--', label='training acc')\n",
        "plt.plot(epochs, val_acc, 'r:', label='validation acc')\n",
        "plt.grid()\n",
        "plt.legend()\n",
        "\n",
        "plt.show();"
      ],
      "execution_count": 16,
      "outputs": [
        {
          "output_type": "display_data",
          "data": {
            "image/png": "[encoded data removed]",
            "text/plain": [
              "<Figure size 432x288 with 1 Axes>"
            ]
          },
          "metadata": {}
        },
        {
          "output_type": "display_data",
          "data": {
            "image/png": "[encoded data removed]",
            "text/plain": [
              "<Figure size 432x288 with 1 Axes>"
            ]
          },
          "metadata": {}
        }
      ]
    },
    {
      "cell_type": "markdown",
      "metadata": {
        "id": "Oz_Iu_VHV7Z5"
      },
      "source": [
        "## Reuters 데이터"
      ]
    },
    {
      "cell_type": "code",
      "metadata": {
        "id": "79zme-jNmF2l"
      },
      "source": [
        "from tensorflow.keras.datasets import reuters\n",
        "from tensorflow.keras.preprocessing.sequence import pad_sequences\n",
        "from tensorflow.keras.models import Sequential\n",
        "from tensorflow.keras.optimizers import RMSprop\n",
        "from tensorflow.keras.layers import Dense, Embedding, Conv1D, MaxPooling1D, GlobalMaxPooling1D"
      ],
      "execution_count": 17,
      "outputs": []
    },
    {
      "cell_type": "code",
      "metadata": {
        "colab": {
          "base_uri": "https://localhost:8080/"
        },
        "id": "QiBfIPthmF2p",
        "outputId": "d50c5a56-d35e-4516-8eed-444aeec7c69c"
      },
      "source": [
        "num_words =10000\n",
        "max_len = 500\n",
        "\n",
        "(input_train, y_train), (input_test, y_test) = reuters.load_data(num_words=num_words)\n",
        "\n",
        "print(len(input_train))\n",
        "print(len(input_test))"
      ],
      "execution_count": 34,
      "outputs": [
        {
          "output_type": "stream",
          "name": "stdout",
          "text": [
            "8982\n",
            "2246\n"
          ]
        }
      ]
    },
    {
      "cell_type": "code",
      "metadata": {
        "colab": {
          "base_uri": "https://localhost:8080/"
        },
        "id": "co2PguYAmF2q",
        "outputId": "ccd0c945-6514-4a54-b658-c143da18c62f"
      },
      "source": [
        "pad_x_train = pad_sequences(input_train, maxlen=max_len)\n",
        "pad_x_test = pad_sequences(input_test, maxlen=max_len)\n",
        "\n",
        "print(pad_x_train.shape)\n",
        "print(pad_x_test.shape)"
      ],
      "execution_count": 35,
      "outputs": [
        {
          "output_type": "stream",
          "name": "stdout",
          "text": [
            "(8982, 500)\n",
            "(2246, 500)\n"
          ]
        }
      ]
    },
    {
      "cell_type": "markdown",
      "metadata": {
        "id": "Y_buhqwnmF2q"
      },
      "source": [
        "### 모델 구성"
      ]
    },
    {
      "cell_type": "code",
      "metadata": {
        "id": "Qz8LC46kmF2q"
      },
      "source": [
        "def build_model():\n",
        "  model = Sequential()\n",
        "  model.add(Embedding(input_dim=num_words, output_dim=64, input_length=max_len))\n",
        "  model.add(Conv1D(32, 7, activation='relu'))\n",
        "  model.add(MaxPooling1D(7))\n",
        "  model.add(Conv1D(32, 5, activation='relu'))\n",
        "  model.add(MaxPooling1D(5))\n",
        "  model.add(GlobalMaxPooling1D())\n",
        "  model.add(Dense(46, activation='softmax'))\n",
        "\n",
        "  model.compile(optimizer='adam',\n",
        "                loss='sparse_categorical_crossentropy',\n",
        "                metrics=['accuracy'])\n",
        "  \n",
        "  return model"
      ],
      "execution_count": 36,
      "outputs": []
    },
    {
      "cell_type": "code",
      "metadata": {
        "colab": {
          "base_uri": "https://localhost:8080/"
        },
        "id": "vaGv7Am8mF2q",
        "outputId": "e70aa8ef-169d-4c47-9d82-88c7b5e2e3be"
      },
      "source": [
        "model = build_model()\n",
        "model.summary()"
      ],
      "execution_count": 37,
      "outputs": [
        {
          "output_type": "stream",
          "name": "stdout",
          "text": [
            "Model: \"sequential_5\"\n",
            "_________________________________________________________________\n",
            "Layer (type)                 Output Shape              Param #   \n",
            "=================================================================\n",
            "embedding_5 (Embedding)      (None, 500, 64)           640000    \n",
            "_________________________________________________________________\n",
            "conv1d_10 (Conv1D)           (None, 494, 32)           14368     \n",
            "_________________________________________________________________\n",
            "max_pooling1d_10 (MaxPooling (None, 70, 32)            0         \n",
            "_________________________________________________________________\n",
            "conv1d_11 (Conv1D)           (None, 66, 32)            5152      \n",
            "_________________________________________________________________\n",
            "max_pooling1d_11 (MaxPooling (None, 13, 32)            0         \n",
            "_________________________________________________________________\n",
            "global_max_pooling1d_5 (Glob (None, 32)                0         \n",
            "_________________________________________________________________\n",
            "dense_5 (Dense)              (None, 46)                1518      \n",
            "=================================================================\n",
            "Total params: 661,038\n",
            "Trainable params: 661,038\n",
            "Non-trainable params: 0\n",
            "_________________________________________________________________\n"
          ]
        }
      ]
    },
    {
      "cell_type": "markdown",
      "metadata": {
        "id": "BViYMC8JmF2q"
      },
      "source": [
        "### 모델 학습"
      ]
    },
    {
      "cell_type": "code",
      "metadata": {
        "colab": {
          "base_uri": "https://localhost:8080/"
        },
        "id": "DU7U9kzamF2q",
        "outputId": "c9168ad8-ccaf-4b11-c69a-30a6992fa100"
      },
      "source": [
        "history = model.fit(pad_x_train, y_train,\n",
        "                    batch_size=128, epochs=30,\n",
        "                    validation_split=0.2)"
      ],
      "execution_count": 38,
      "outputs": [
        {
          "output_type": "stream",
          "name": "stdout",
          "text": [
            "Epoch 1/30\n",
            "57/57 [==============================] - 2s 21ms/step - loss: 2.9393 - accuracy: 0.2988 - val_loss: 2.2920 - val_accuracy: 0.3450\n",
            "Epoch 2/30\n",
            "57/57 [==============================] - 1s 15ms/step - loss: 2.0133 - accuracy: 0.4667 - val_loss: 1.8040 - val_accuracy: 0.5047\n",
            "Epoch 3/30\n",
            "57/57 [==============================] - 1s 15ms/step - loss: 1.6935 - accuracy: 0.5645 - val_loss: 1.6210 - val_accuracy: 0.5960\n",
            "Epoch 4/30\n",
            "57/57 [==============================] - 1s 16ms/step - loss: 1.5003 - accuracy: 0.6411 - val_loss: 1.5119 - val_accuracy: 0.6311\n",
            "Epoch 5/30\n",
            "57/57 [==============================] - 1s 15ms/step - loss: 1.3273 - accuracy: 0.6892 - val_loss: 1.4089 - val_accuracy: 0.6678\n",
            "Epoch 6/30\n",
            "57/57 [==============================] - 1s 17ms/step - loss: 1.1490 - accuracy: 0.7257 - val_loss: 1.3286 - val_accuracy: 0.6856\n",
            "Epoch 7/30\n",
            "57/57 [==============================] - 1s 15ms/step - loss: 0.9974 - accuracy: 0.7563 - val_loss: 1.3130 - val_accuracy: 0.6873\n",
            "Epoch 8/30\n",
            "57/57 [==============================] - 1s 15ms/step - loss: 0.8721 - accuracy: 0.7801 - val_loss: 1.3162 - val_accuracy: 0.6900\n",
            "Epoch 9/30\n",
            "57/57 [==============================] - 1s 15ms/step - loss: 0.7561 - accuracy: 0.8033 - val_loss: 1.3516 - val_accuracy: 0.6889\n",
            "Epoch 10/30\n",
            "57/57 [==============================] - 1s 15ms/step - loss: 0.6522 - accuracy: 0.8328 - val_loss: 1.3868 - val_accuracy: 0.7045\n",
            "Epoch 11/30\n",
            "57/57 [==============================] - 1s 17ms/step - loss: 0.5586 - accuracy: 0.8597 - val_loss: 1.4468 - val_accuracy: 0.7001\n",
            "Epoch 12/30\n",
            "57/57 [==============================] - 1s 15ms/step - loss: 0.4734 - accuracy: 0.8860 - val_loss: 1.5193 - val_accuracy: 0.7117\n",
            "Epoch 13/30\n",
            "57/57 [==============================] - 1s 15ms/step - loss: 0.4079 - accuracy: 0.9026 - val_loss: 1.5716 - val_accuracy: 0.7095\n",
            "Epoch 14/30\n",
            "57/57 [==============================] - 1s 15ms/step - loss: 0.3466 - accuracy: 0.9187 - val_loss: 1.6384 - val_accuracy: 0.7084\n",
            "Epoch 15/30\n",
            "57/57 [==============================] - 1s 16ms/step - loss: 0.2975 - accuracy: 0.9292 - val_loss: 1.6762 - val_accuracy: 0.7062\n",
            "Epoch 16/30\n",
            "57/57 [==============================] - 1s 17ms/step - loss: 0.2640 - accuracy: 0.9424 - val_loss: 1.7807 - val_accuracy: 0.7023\n",
            "Epoch 17/30\n",
            "57/57 [==============================] - 1s 17ms/step - loss: 0.2293 - accuracy: 0.9484 - val_loss: 1.8195 - val_accuracy: 0.7040\n",
            "Epoch 18/30\n",
            "57/57 [==============================] - 1s 15ms/step - loss: 0.2068 - accuracy: 0.9498 - val_loss: 1.8357 - val_accuracy: 0.7084\n",
            "Epoch 19/30\n",
            "57/57 [==============================] - 1s 15ms/step - loss: 0.1864 - accuracy: 0.9562 - val_loss: 1.8603 - val_accuracy: 0.7056\n",
            "Epoch 20/30\n",
            "57/57 [==============================] - 1s 15ms/step - loss: 0.1778 - accuracy: 0.9577 - val_loss: 1.8761 - val_accuracy: 0.7056\n",
            "Epoch 21/30\n",
            "57/57 [==============================] - 1s 15ms/step - loss: 0.1585 - accuracy: 0.9603 - val_loss: 1.9364 - val_accuracy: 0.7017\n",
            "Epoch 22/30\n",
            "57/57 [==============================] - 1s 15ms/step - loss: 0.1469 - accuracy: 0.9624 - val_loss: 1.9419 - val_accuracy: 0.7051\n",
            "Epoch 23/30\n",
            "57/57 [==============================] - 1s 17ms/step - loss: 0.1503 - accuracy: 0.9610 - val_loss: 1.9612 - val_accuracy: 0.7034\n",
            "Epoch 24/30\n",
            "57/57 [==============================] - 1s 17ms/step - loss: 0.1319 - accuracy: 0.9609 - val_loss: 1.9622 - val_accuracy: 0.7056\n",
            "Epoch 25/30\n",
            "57/57 [==============================] - 1s 15ms/step - loss: 0.1266 - accuracy: 0.9640 - val_loss: 2.0229 - val_accuracy: 0.7056\n",
            "Epoch 26/30\n",
            "57/57 [==============================] - 1s 17ms/step - loss: 0.1209 - accuracy: 0.9642 - val_loss: 2.0222 - val_accuracy: 0.7006\n",
            "Epoch 27/30\n",
            "57/57 [==============================] - 1s 15ms/step - loss: 0.1237 - accuracy: 0.9638 - val_loss: 2.0129 - val_accuracy: 0.7062\n",
            "Epoch 28/30\n",
            "57/57 [==============================] - 1s 17ms/step - loss: 0.1185 - accuracy: 0.9649 - val_loss: 2.0113 - val_accuracy: 0.7073\n",
            "Epoch 29/30\n",
            "57/57 [==============================] - 1s 15ms/step - loss: 0.1115 - accuracy: 0.9649 - val_loss: 2.0391 - val_accuracy: 0.7090\n",
            "Epoch 30/30\n",
            "57/57 [==============================] - 1s 17ms/step - loss: 0.1115 - accuracy: 0.9642 - val_loss: 2.0733 - val_accuracy: 0.6984\n"
          ]
        }
      ]
    },
    {
      "cell_type": "code",
      "metadata": {
        "colab": {
          "base_uri": "https://localhost:8080/"
        },
        "id": "hoTM5JnmmF2r",
        "outputId": "b2540733-9608-447f-bb4f-7562c36819cd"
      },
      "source": [
        "model.evaluate(pad_x_test, y_test)"
      ],
      "execution_count": 39,
      "outputs": [
        {
          "output_type": "stream",
          "name": "stdout",
          "text": [
            "71/71 [==============================] - 0s 3ms/step - loss: 1.8886 - accuracy: 0.7119\n"
          ]
        },
        {
          "output_type": "execute_result",
          "data": {
            "text/plain": [
              "[1.8886388540267944, 0.7119323015213013]"
            ]
          },
          "metadata": {},
          "execution_count": 39
        }
      ]
    },
    {
      "cell_type": "markdown",
      "metadata": {
        "id": "bt0SAzpumF2r"
      },
      "source": [
        "### 시각화"
      ]
    },
    {
      "cell_type": "code",
      "metadata": {
        "colab": {
          "base_uri": "https://localhost:8080/",
          "height": 507
        },
        "id": "ZUXaipT2mF2r",
        "outputId": "8cf10fff-4250-47f8-b2db-1934495bb793"
      },
      "source": [
        "import matplotlib.pyplot as plt\n",
        "plt.style.use('seaborn-white')\n",
        "\n",
        "\n",
        "loss= history.history['loss']\n",
        "val_loss= history.history['val_loss']\n",
        "acc = history.history['accuracy']\n",
        "val_acc= history.history['val_accuracy']\n",
        "\n",
        "epochs = range(1, len(loss) + 1)\n",
        "\n",
        "plt.plot(epochs, loss,'b--', label='training loss')\n",
        "plt.plot(epochs, val_loss, 'r:', label='validation loss')\n",
        "plt.grid()\n",
        "plt.legend()\n",
        "\n",
        "plt.figure()\n",
        "plt.plot(epochs, acc, 'b--', label='training acc')\n",
        "plt.plot(epochs, val_acc, 'r:', label='validation acc')\n",
        "plt.grid()\n",
        "plt.legend()\n",
        "\n",
        "plt.show();"
      ],
      "execution_count": 40,
      "outputs": [
        {
          "output_type": "display_data",
          "data": {
            "image/png": "[encoded data removed]",
            "text/plain": [
              "<Figure size 432x288 with 1 Axes>"
            ]
          },
          "metadata": {}
        },
        {
          "output_type": "display_data",
          "data": {
            "image/png": "[encoded data removed]",
            "text/plain": [
              "<Figure size 432x288 with 1 Axes>"
            ]
          },
          "metadata": {}
        }
      ]
    }
  ]
}
