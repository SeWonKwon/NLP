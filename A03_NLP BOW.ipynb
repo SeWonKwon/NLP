{
 "cells": [
  {
   "cell_type": "markdown",
   "id": "6417edc8",
   "metadata": {},
   "source": [
    "<a href='https://github.com/SeWonKwon' ><div> <img src ='https://slid-capture.s3.ap-northeast-2.amazonaws.com/public/image_upload/6556674324ed41a289a354258718280d/964e5a8b-75ad-41fc-ae75-0ca66d06fbc7.png' align='left' /> </div></a>"
   ]
  },
  {
   "cell_type": "markdown",
   "id": "de593c68",
   "metadata": {},
   "source": [
    "BOW"
   ]
  },
  {
   "cell_type": "markdown",
   "id": "01b77610",
   "metadata": {},
   "source": [
    "# 희소 행렬\n",
    "\n",
    "대규모 행렬의 대부분의 값을 0이 차지하는 행렬\n",
    "\n",
    "이 희소 행렬은 너무 많은 불필요한 0 값이 메모리 공간에 할당되어 메모리 공간이 많이 필요하며, 행렬의 크기가 커서 연산 시에도 데이터 액세스를 위한 시간이 많이 소모된다. \n",
    "\n",
    "물리적으로 적은 메모리 공간을 차지할 수 있도록 변환 해야 하는데 대표적으로 COO 형식과 CSR 형식이 있다. "
   ]
  },
  {
   "cell_type": "markdown",
   "id": "93377971",
   "metadata": {},
   "source": [
    "참조 : https://ko.wikipedia.org/wiki/%ED%9D%AC%EC%86%8C%ED%96%89%EB%A0%AC"
   ]
  },
  {
   "cell_type": "markdown",
   "id": "95d7f357",
   "metadata": {},
   "source": [
    "## 희소 행렬 - COO 형식"
   ]
  },
  {
   "cell_type": "markdown",
   "id": "634d197f",
   "metadata": {},
   "source": [
    "COO(Coordinate : 좌표) 형식은 0이 아닌 데이터만 별도의 데이터 배열(Array)에 저장하고, 그 데이터가 가리키는 행과 열의 위치를 별도의 배열로 저장하는 방식."
   ]
  },
  {
   "cell_type": "markdown",
   "id": "156d4895",
   "metadata": {},
   "source": [
    "즉, 아래와 같이 0 아닌 값과 row, col 위치 값을 따로 만들어서 메모리 용량을 줄이는 방법"
   ]
  },
  {
   "cell_type": "code",
   "execution_count": 1,
   "id": "24baa5b7",
   "metadata": {
    "ExecuteTime": {
     "end_time": "2021-09-12T02:54:02.940186Z",
     "start_time": "2021-09-12T02:54:02.563079Z"
    }
   },
   "outputs": [],
   "source": [
    "import numpy as np\n",
    "\n",
    "dense = np.array([[3, 0, 1],\n",
    "                  [0, 2, 0]])"
   ]
  },
  {
   "cell_type": "code",
   "execution_count": 3,
   "id": "4e36fa91",
   "metadata": {
    "ExecuteTime": {
     "end_time": "2021-09-12T02:56:45.785242Z",
     "start_time": "2021-09-12T02:56:45.769446Z"
    }
   },
   "outputs": [],
   "source": [
    "from scipy import sparse\n",
    "\n",
    "# 0이 아닌 데이터 추출\n",
    "data = np.array([3, 1, 2])\n",
    "\n",
    "# 행 위치와 열 위치를 각각 배열로 생성\n",
    "row_pos = np.array([0, 0, 1])\n",
    "col_pos = np.array([0, 2, 1])\n",
    "\n",
    "# sparse 패키지의 coo_matrix를 이용해 COO 형식으로 희소 행렬 생성\n",
    "sparse_coo = sparse.coo_matrix((data, (row_pos, col_pos)))"
   ]
  },
  {
   "cell_type": "code",
   "execution_count": 5,
   "id": "7cd2921c",
   "metadata": {
    "ExecuteTime": {
     "end_time": "2021-09-12T02:57:00.831414Z",
     "start_time": "2021-09-12T02:57:00.827410Z"
    }
   },
   "outputs": [
    {
     "data": {
      "text/plain": [
       "array([[3, 0, 1],\n",
       "       [0, 2, 0]])"
      ]
     },
     "execution_count": 5,
     "metadata": {},
     "output_type": "execute_result"
    }
   ],
   "source": [
    "sparse_coo.toarray()"
   ]
  },
  {
   "cell_type": "markdown",
   "id": "ee4dc65e",
   "metadata": {},
   "source": [
    "## 희소 행렬 - CSR 형식"
   ]
  },
  {
   "cell_type": "markdown",
   "id": "8997ba4a",
   "metadata": {},
   "source": [
    "CSR(Compressed Sparse Row) 형식은 COO 형식이 행과 열의 위치를 나타내기 위해서 반복적인 위치 데이터를 사용해야 하는 문제점을 해결한 방식이다. \n",
    "\n",
    "행의 위치 배열(`row_pos`)는 0, 0, 1, 1, 1, 1, 2, 2, 2, ... 이런식으로 반복적으로 일어 날수밖에 없기 때문에 , 행 위치 배열 내에 있는 고유한 값의 시작 위치만 다시 별도의 위치 배열로 가지는 변환 방식"
   ]
  },
  {
   "cell_type": "code",
   "execution_count": 6,
   "id": "3e90de81",
   "metadata": {
    "ExecuteTime": {
     "end_time": "2021-09-12T03:09:02.986467Z",
     "start_time": "2021-09-12T03:09:02.973455Z"
    }
   },
   "outputs": [
    {
     "name": "stdout",
     "output_type": "stream",
     "text": [
      "COO 변환된 데이터가 제대로 되었는지 다시 Dense로 출력 확인\n",
      "[[0 0 1 0 0 5]\n",
      " [1 4 0 3 2 5]\n",
      " [0 6 0 3 0 0]\n",
      " [2 0 0 0 0 0]\n",
      " [0 0 0 7 0 8]\n",
      " [1 0 0 0 0 0]]\n",
      "CSR 변환된 데이터가 제대로 되었는지 다시 Dense로 출력 확인\n",
      "[[0 0 1 0 0 5]\n",
      " [1 4 0 3 2 5]\n",
      " [0 6 0 3 0 0]\n",
      " [2 0 0 0 0 0]\n",
      " [0 0 0 7 0 8]\n",
      " [1 0 0 0 0 0]]\n"
     ]
    }
   ],
   "source": [
    "from scipy import sparse\n",
    "\n",
    "dense2 = np.array([[0,0,1,0,0,5],\n",
    "             [1,4,0,3,2,5],\n",
    "             [0,6,0,3,0,0],\n",
    "             [2,0,0,0,0,0],\n",
    "             [0,0,0,7,0,8],\n",
    "             [1,0,0,0,0,0]])\n",
    "\n",
    "# 0 이 아닌 데이터 추출\n",
    "data2 = np.array([1, 5, 1, 4, 3, 2, 5, 6, 3, 2, 7, 8, 1])\n",
    "\n",
    "# 행 위치와 열 위치를 각각 array로 생성 \n",
    "row_pos = np.array([0, 0, 1, 1, 1, 1, 1, 2, 2, 3, 4, 4, 5])\n",
    "col_pos = np.array([2, 5, 0, 1, 3, 4, 5, 1, 3, 0, 3, 5, 0])\n",
    "\n",
    "# COO 형식으로 변환 \n",
    "sparse_coo = sparse.coo_matrix((data2, (row_pos,col_pos)))\n",
    "\n",
    "# 행 위치 배열의 고유한 값들의 시작 위치 인덱스를 배열로 생성\n",
    "row_pos_ind = np.array([0, 2, 7, 9, 10, 12, 13])\n",
    "\n",
    "# CSR 형식으로 변환 \n",
    "sparse_csr = sparse.csr_matrix((data2, col_pos, row_pos_ind))\n",
    "\n",
    "print('COO 변환된 데이터가 제대로 되었는지 다시 Dense로 출력 확인')\n",
    "print(sparse_coo.toarray())\n",
    "print('CSR 변환된 데이터가 제대로 되었는지 다시 Dense로 출력 확인')\n",
    "print(sparse_csr.toarray())\n"
   ]
  },
  {
   "cell_type": "code",
   "execution_count": 7,
   "id": "b4c4310a",
   "metadata": {
    "ExecuteTime": {
     "end_time": "2021-09-12T03:09:28.175778Z",
     "start_time": "2021-09-12T03:09:28.162765Z"
    }
   },
   "outputs": [],
   "source": [
    "dense3 = np.array([[0,0,1,0,0,5],\n",
    "             [1,4,0,3,2,5],\n",
    "             [0,6,0,3,0,0],\n",
    "             [2,0,0,0,0,0],\n",
    "             [0,0,0,7,0,8],\n",
    "             [1,0,0,0,0,0]])\n",
    "\n",
    "coo = sparse.coo_matrix(dense3)\n",
    "csr = sparse.csr_matrix(dense3)"
   ]
  },
  {
   "cell_type": "markdown",
   "id": "d78426ff",
   "metadata": {},
   "source": [
    "**Reference**\n",
    "\n",
    "* <a href='https://github.com/SeWonKwon' ><div> <img src ='https://slid-capture.s3.ap-northeast-2.amazonaws.com/public/image_upload/6556674324ed41a289a354258718280d/964e5a8b-75ad-41fc-ae75-0ca66d06fbc7.png' align='left' /> </div></a>\n",
    "\n",
    "<br>\n",
    "\n",
    "* 파이썬 머신러닝 완벽 가이드, 권철민\n",
    "* [이수안 컴퓨터 연구소](http://suanlab.com/)\n",
    "* [딥 러닝을 이용한 자연어 처리 입분](https://wikidocs.net/21693)"
   ]
  }
 ],
 "metadata": {
  "kernelspec": {
   "display_name": "Python 3 (ipykernel)",
   "language": "python",
   "name": "python3"
  },
  "language_info": {
   "codemirror_mode": {
    "name": "ipython",
    "version": 3
   },
   "file_extension": ".py",
   "mimetype": "text/x-python",
   "name": "python",
   "nbconvert_exporter": "python",
   "pygments_lexer": "ipython3",
   "version": "3.8.11"
  },
  "toc": {
   "base_numbering": 1,
   "nav_menu": {},
   "number_sections": true,
   "sideBar": true,
   "skip_h1_title": false,
   "title_cell": "Table of Contents",
   "title_sidebar": "Contents",
   "toc_cell": false,
   "toc_position": {},
   "toc_section_display": true,
   "toc_window_display": false
  }
 },
 "nbformat": 4,
 "nbformat_minor": 5
}
