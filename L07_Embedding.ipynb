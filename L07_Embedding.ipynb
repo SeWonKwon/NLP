{
  "nbformat": 4,
  "nbformat_minor": 0,
  "metadata": {
    "colab": {
      "name": "L07_Embedding.ipynb",
      "provenance": [],
      "collapsed_sections": [],
      "include_colab_link": true
    },
    "kernelspec": {
      "name": "python3",
      "display_name": "Python 3"
    },
    "accelerator": "GPU"
  },
  "cells": [
    {
      "cell_type": "markdown",
      "metadata": {
        "id": "view-in-github",
        "colab_type": "text"
      },
      "source": [
        "<a href=\"https://colab.research.google.com/github/SeWonKwon/NLP/blob/main/L07_Embedding.ipynb\" target=\"_parent\"><img src=\"https://colab.research.google.com/assets/colab-badge.svg\" alt=\"Open In Colab\"/></a>"
      ]
    },
    {
      "cell_type": "code",
      "metadata": {
        "id": "fhB2r4HRe6S-"
      },
      "source": [
        ""
      ],
      "execution_count": null,
      "outputs": []
    },
    {
      "cell_type": "markdown",
      "metadata": {
        "id": "sqJ4qz2uwHHH"
      },
      "source": [
        "# 임베딩(Embedding)"
      ]
    },
    {
      "cell_type": "markdown",
      "metadata": {
        "id": "E2HuxbsICXZc"
      },
      "source": [
        "* 워드 임베딩은 단어를 컴퓨터가 이해하고, 효율적으로 처리할 수 있도록 단어를 벡터화하는 기술\n",
        "* 워드 임베딩은 단어의 의미를 잘 표현해야만 하며, 현재까지도 많은 표현 방법이 연구\n",
        "* 워드 임베딩을 거쳐 잘 표현된 단어 벡터들은 계산이 가능하며, 모델 투입도 가능"
      ]
    },
    {
      "cell_type": "markdown",
      "metadata": {
        "id": "m0bGg7PjHyKM"
      },
      "source": [
        "## 인코딩(Encoding)"
      ]
    },
    {
      "cell_type": "markdown",
      "metadata": {
        "id": "lWVay2ofi4vR"
      },
      "source": [
        "* 기계는 자연어(영어, 한국어 등)을 이해할 수 없음\n",
        "* 데이터를 기계가 이해할 수 있도록 숫자 등으로 변환해주는 작업이 필요\n",
        "* 이러한 작업을 인코딩이라고 함\n",
        "\n",
        "* 텍스트 처리에서는 주로 정수 인코딩, 원 핫 인코딩을 사용"
      ]
    },
    {
      "cell_type": "markdown",
      "metadata": {
        "id": "QPXDPmRtKDfr"
      },
      "source": [
        "### 정수 인코딩"
      ]
    },
    {
      "cell_type": "markdown",
      "metadata": {
        "id": "zzb5eqDEPJDs"
      },
      "source": [
        "#### dictionary를 이용한 정수 인코딩"
      ]
    },
    {
      "cell_type": "markdown",
      "metadata": {
        "id": "MecMDCLZQz8X"
      },
      "source": [
        "* 각 단어와 정수 인덱스를 연결하고, 토큰을 변환해주는 정수 인코딩"
      ]
    },
    {
      "cell_type": "code",
      "metadata": {
        "id": "AZoYLia2PQTV",
        "colab": {
          "base_uri": "https://localhost:8080/"
        },
        "outputId": "70aabb41-ffe5-45e7-9ce0-5e47a2868500"
      },
      "source": [
        "text = '평생 살 것처럼 꿈을 꾸어라. 그리고 내일 죽을 것처럼 오늘을 살아라.'\n",
        "\n",
        "tokens = [x for x in text.split(' ')]\n",
        "unique = list(set(tokens))\n",
        "\n",
        "token2idx = {}\n",
        "for i in range(len(unique)):\n",
        "  token2idx[unique[i]] = i\n",
        "\n",
        "encode = [token2idx[x] for x in tokens]\n",
        "encode"
      ],
      "execution_count": 7,
      "outputs": [
        {
          "output_type": "execute_result",
          "data": {
            "text/plain": [
              "[8, 9, 2, 1, 6, 7, 0, 3, 2, 5, 4]"
            ]
          },
          "metadata": {},
          "execution_count": 7
        }
      ]
    },
    {
      "cell_type": "code",
      "metadata": {
        "colab": {
          "base_uri": "https://localhost:8080/"
        },
        "id": "Gi8NOHDEbjZR",
        "outputId": "3ec4988d-af0a-40ae-b2f7-207079104666"
      },
      "source": [
        "for i in encode:\n",
        "  print(unique[i])"
      ],
      "execution_count": 8,
      "outputs": [
        {
          "output_type": "stream",
          "name": "stdout",
          "text": [
            "평생\n",
            "살\n",
            "것처럼\n",
            "꿈을\n",
            "꾸어라.\n",
            "그리고\n",
            "내일\n",
            "죽을\n",
            "것처럼\n",
            "오늘을\n",
            "살아라.\n"
          ]
        }
      ]
    },
    {
      "cell_type": "markdown",
      "metadata": {
        "id": "uBEtdH1cPENH"
      },
      "source": [
        "#### keras를 이용한 정수 인코딩"
      ]
    },
    {
      "cell_type": "markdown",
      "metadata": {
        "id": "OpuQdjiLhogy"
      },
      "source": [
        "* 정수 인코딩은 단어에 정수로 레이블을 부여\n",
        "* `dictionary`, `nltk` 패키지를 이용한 방법들도 있지만, `keras`에서는 텍스트 처리에 필요한 도구들을 지원\n",
        "* 해당 도구는 자동으로 단어 빈도가 높은 단어의 인덱스는 낮게끔 설정"
      ]
    },
    {
      "cell_type": "code",
      "metadata": {
        "id": "fIqPMClFiMvb",
        "colab": {
          "base_uri": "https://localhost:8080/"
        },
        "outputId": "d946a688-b170-4853-9d82-8f7882466a0f"
      },
      "source": [
        "from tensorflow.keras.preprocessing.text import Tokenizer\n",
        "\n",
        "text = '평생 살 것처럼 꿈을 꾸어라. 그리고 내일 죽을 것처럼 오늘을 살아라.'\n",
        "\n",
        "t = Tokenizer()\n",
        "t.fit_on_texts([text])\n",
        "print(t.word_index)\n",
        "\n",
        "encoded = t.texts_to_sequences([text])[0]\n",
        "print(encoded)"
      ],
      "execution_count": 9,
      "outputs": [
        {
          "output_type": "stream",
          "name": "stdout",
          "text": [
            "{'것처럼': 1, '평생': 2, '살': 3, '꿈을': 4, '꾸어라': 5, '그리고': 6, '내일': 7, '죽을': 8, '오늘을': 9, '살아라': 10}\n",
            "[2, 3, 1, 4, 5, 6, 7, 8, 1, 9, 10]\n"
          ]
        }
      ]
    },
    {
      "cell_type": "markdown",
      "metadata": {
        "id": "2TDrAJL-KEt8"
      },
      "source": [
        "### 원 핫 인코딩(One-Hot Encoding)"
      ]
    },
    {
      "cell_type": "markdown",
      "metadata": {
        "id": "2zA6x8FbmeqS"
      },
      "source": [
        "#### 조건문과 반복문을 이용한 원 핫 인코딩"
      ]
    },
    {
      "cell_type": "markdown",
      "metadata": {
        "id": "IKGnvTw7RFf5"
      },
      "source": [
        "* 원 핫 인코딩은 정수 인코딩한 결과를 벡터로 변환한 인코딩\n",
        "* 원 핫 인코딩은 전체 단어 개수 만큼의 길이를 가진 배열에 해당 정수를 가진 위치는 1, 나머지는 0을 가진 벡터로 변환   "
      ]
    },
    {
      "cell_type": "code",
      "metadata": {
        "id": "MlHc9XXERFla",
        "colab": {
          "base_uri": "https://localhost:8080/"
        },
        "outputId": "a762ed9c-3d04-4c61-f34f-88139f0ecc63"
      },
      "source": [
        "import numpy as np\n",
        "\n",
        "one_hot = []\n",
        "for i in range(len(encoded)):\n",
        "  temp = []\n",
        "  for j in range(max(encoded)):\n",
        "    if j == (encoded[i] - 1):\n",
        "      temp.append(1)\n",
        "    else:\n",
        "      temp.append(0)\n",
        "  one_hot.append(temp)\n",
        "\n",
        "np.array(one_hot)"
      ],
      "execution_count": 12,
      "outputs": [
        {
          "output_type": "execute_result",
          "data": {
            "text/plain": [
              "array([[0, 1, 0, 0, 0, 0, 0, 0, 0, 0],\n",
              "       [0, 0, 1, 0, 0, 0, 0, 0, 0, 0],\n",
              "       [1, 0, 0, 0, 0, 0, 0, 0, 0, 0],\n",
              "       [0, 0, 0, 1, 0, 0, 0, 0, 0, 0],\n",
              "       [0, 0, 0, 0, 1, 0, 0, 0, 0, 0],\n",
              "       [0, 0, 0, 0, 0, 1, 0, 0, 0, 0],\n",
              "       [0, 0, 0, 0, 0, 0, 1, 0, 0, 0],\n",
              "       [0, 0, 0, 0, 0, 0, 0, 1, 0, 0],\n",
              "       [1, 0, 0, 0, 0, 0, 0, 0, 0, 0],\n",
              "       [0, 0, 0, 0, 0, 0, 0, 0, 1, 0],\n",
              "       [0, 0, 0, 0, 0, 0, 0, 0, 0, 1]])"
            ]
          },
          "metadata": {},
          "execution_count": 12
        }
      ]
    },
    {
      "cell_type": "markdown",
      "metadata": {
        "id": "xk_Bna8tmmqS"
      },
      "source": [
        "#### keras를 이용한 원 핫 인코딩"
      ]
    },
    {
      "cell_type": "markdown",
      "metadata": {
        "id": "oxlWLLJfht7i"
      },
      "source": [
        "* `keras`에서는 정수 인코딩을 원 핫 인코딩을 간단하게 변환해주는 `to_categorical()` 함수를 제공 "
      ]
    },
    {
      "cell_type": "code",
      "metadata": {
        "id": "xRJ8frWZiMeS",
        "colab": {
          "base_uri": "https://localhost:8080/"
        },
        "outputId": "54d10be6-5f48-4c2e-8f71-7fd57f5bd125"
      },
      "source": [
        "from tensorflow.keras.utils import to_categorical\n",
        "\n",
        "one_hot = to_categorical(encoded)\n",
        "one_hot"
      ],
      "execution_count": 13,
      "outputs": [
        {
          "output_type": "execute_result",
          "data": {
            "text/plain": [
              "array([[0., 0., 1., 0., 0., 0., 0., 0., 0., 0., 0.],\n",
              "       [0., 0., 0., 1., 0., 0., 0., 0., 0., 0., 0.],\n",
              "       [0., 1., 0., 0., 0., 0., 0., 0., 0., 0., 0.],\n",
              "       [0., 0., 0., 0., 1., 0., 0., 0., 0., 0., 0.],\n",
              "       [0., 0., 0., 0., 0., 1., 0., 0., 0., 0., 0.],\n",
              "       [0., 0., 0., 0., 0., 0., 1., 0., 0., 0., 0.],\n",
              "       [0., 0., 0., 0., 0., 0., 0., 1., 0., 0., 0.],\n",
              "       [0., 0., 0., 0., 0., 0., 0., 0., 1., 0., 0.],\n",
              "       [0., 1., 0., 0., 0., 0., 0., 0., 0., 0., 0.],\n",
              "       [0., 0., 0., 0., 0., 0., 0., 0., 0., 1., 0.],\n",
              "       [0., 0., 0., 0., 0., 0., 0., 0., 0., 0., 1.]], dtype=float32)"
            ]
          },
          "metadata": {},
          "execution_count": 13
        }
      ]
    },
    {
      "cell_type": "markdown",
      "metadata": {
        "id": "0T4R-JlP2-6k"
      },
      "source": [
        "## IMDB 데이터\n",
        "\n",
        "- 인터넷 영화 데이터베이스(Internet Movie Database)\n",
        "\n",
        "- 양극단의 리뷰 5만개로 이루어진 데이터셋\n",
        "  - 훈련데이터: 25,000개\n",
        "  - 테스트데이터 : 25,000개\n",
        "\n",
        "  <img src=\"https://encrypted-tbn0.gstatic.com/images?q=tbn%3AANd9GcQlk-f2SHB6-Vs3RWwIugMctsyEn2QVZWC5KQ&usqp=CAU\">\n",
        "\n",
        "- https://www.imdb.com/interfaces/"
      ]
    },
    {
      "cell_type": "markdown",
      "metadata": {
        "id": "gxmuXi9L3-O2"
      },
      "source": [
        "### module import"
      ]
    },
    {
      "cell_type": "code",
      "metadata": {
        "id": "XrfsUoGS2EVN"
      },
      "source": [
        "from tensorflow.keras.datasets import imdb\n",
        "from tensorflow.keras.models import Sequential\n",
        "from tensorflow.keras.layers import Embedding, Dense, Flatten"
      ],
      "execution_count": 14,
      "outputs": []
    },
    {
      "cell_type": "markdown",
      "metadata": {
        "id": "YyMXXlpY4Ajz"
      },
      "source": [
        "### 데이터 로드"
      ]
    },
    {
      "cell_type": "code",
      "metadata": {
        "id": "wNnbw2tH2EiP"
      },
      "source": [
        "num_words = 1000\n",
        "\n",
        "(x_train, y_train), (x_test, y_test) = imdb.load_data(num_words=num_words)"
      ],
      "execution_count": 16,
      "outputs": []
    },
    {
      "cell_type": "code",
      "metadata": {
        "id": "OGnkPs_U2Ezk",
        "colab": {
          "base_uri": "https://localhost:8080/"
        },
        "outputId": "4e25efe5-4c1d-4171-eec4-90b1d52ed288"
      },
      "source": [
        "print(x_train.shape)\n",
        "print(y_train.shape)\n",
        "print(x_test.shape)\n",
        "print(y_test.shape)"
      ],
      "execution_count": 17,
      "outputs": [
        {
          "output_type": "stream",
          "name": "stdout",
          "text": [
            "(25000,)\n",
            "(25000,)\n",
            "(25000,)\n",
            "(25000,)\n"
          ]
        }
      ]
    },
    {
      "cell_type": "markdown",
      "metadata": {
        "id": "bvtDvmuX4_JB"
      },
      "source": [
        "### 데이터 확인\n",
        "- 긍정: 1\n",
        "- 부정: 0"
      ]
    },
    {
      "cell_type": "code",
      "metadata": {
        "id": "wFruX-Vp2ExJ",
        "colab": {
          "base_uri": "https://localhost:8080/"
        },
        "outputId": "c568d5bc-31df-41e2-d42a-f10620378f08"
      },
      "source": [
        "print(x_train[0])\n",
        "print(y_train[0])"
      ],
      "execution_count": 18,
      "outputs": [
        {
          "output_type": "stream",
          "name": "stdout",
          "text": [
            "[1, 14, 22, 16, 43, 530, 973, 2, 2, 65, 458, 2, 66, 2, 4, 173, 36, 256, 5, 25, 100, 43, 838, 112, 50, 670, 2, 9, 35, 480, 284, 5, 150, 4, 172, 112, 167, 2, 336, 385, 39, 4, 172, 2, 2, 17, 546, 38, 13, 447, 4, 192, 50, 16, 6, 147, 2, 19, 14, 22, 4, 2, 2, 469, 4, 22, 71, 87, 12, 16, 43, 530, 38, 76, 15, 13, 2, 4, 22, 17, 515, 17, 12, 16, 626, 18, 2, 5, 62, 386, 12, 8, 316, 8, 106, 5, 4, 2, 2, 16, 480, 66, 2, 33, 4, 130, 12, 16, 38, 619, 5, 25, 124, 51, 36, 135, 48, 25, 2, 33, 6, 22, 12, 215, 28, 77, 52, 5, 14, 407, 16, 82, 2, 8, 4, 107, 117, 2, 15, 256, 4, 2, 7, 2, 5, 723, 36, 71, 43, 530, 476, 26, 400, 317, 46, 7, 4, 2, 2, 13, 104, 88, 4, 381, 15, 297, 98, 32, 2, 56, 26, 141, 6, 194, 2, 18, 4, 226, 22, 21, 134, 476, 26, 480, 5, 144, 30, 2, 18, 51, 36, 28, 224, 92, 25, 104, 4, 226, 65, 16, 38, 2, 88, 12, 16, 283, 5, 16, 2, 113, 103, 32, 15, 16, 2, 19, 178, 32]\n",
            "1\n"
          ]
        }
      ]
    },
    {
      "cell_type": "code",
      "metadata": {
        "id": "xSZ37jXC5qoj",
        "colab": {
          "base_uri": "https://localhost:8080/"
        },
        "outputId": "7c422fc6-277a-4f89-8bb3-1f4cff23e22a"
      },
      "source": [
        "for i in range(5):\n",
        "  if y_train[i] == 0:\n",
        "    label = '부정'\n",
        "  else:\n",
        "    label = '긍정'\n",
        "  print(\"{}\\n{}\\n{}\\n\".format(i, x_train[i], label))"
      ],
      "execution_count": 22,
      "outputs": [
        {
          "output_type": "stream",
          "name": "stdout",
          "text": [
            "0\n",
            "[1, 14, 22, 16, 43, 530, 973, 2, 2, 65, 458, 2, 66, 2, 4, 173, 36, 256, 5, 25, 100, 43, 838, 112, 50, 670, 2, 9, 35, 480, 284, 5, 150, 4, 172, 112, 167, 2, 336, 385, 39, 4, 172, 2, 2, 17, 546, 38, 13, 447, 4, 192, 50, 16, 6, 147, 2, 19, 14, 22, 4, 2, 2, 469, 4, 22, 71, 87, 12, 16, 43, 530, 38, 76, 15, 13, 2, 4, 22, 17, 515, 17, 12, 16, 626, 18, 2, 5, 62, 386, 12, 8, 316, 8, 106, 5, 4, 2, 2, 16, 480, 66, 2, 33, 4, 130, 12, 16, 38, 619, 5, 25, 124, 51, 36, 135, 48, 25, 2, 33, 6, 22, 12, 215, 28, 77, 52, 5, 14, 407, 16, 82, 2, 8, 4, 107, 117, 2, 15, 256, 4, 2, 7, 2, 5, 723, 36, 71, 43, 530, 476, 26, 400, 317, 46, 7, 4, 2, 2, 13, 104, 88, 4, 381, 15, 297, 98, 32, 2, 56, 26, 141, 6, 194, 2, 18, 4, 226, 22, 21, 134, 476, 26, 480, 5, 144, 30, 2, 18, 51, 36, 28, 224, 92, 25, 104, 4, 226, 65, 16, 38, 2, 88, 12, 16, 283, 5, 16, 2, 113, 103, 32, 15, 16, 2, 19, 178, 32]\n",
            "긍정\n",
            "\n",
            "1\n",
            "[1, 194, 2, 194, 2, 78, 228, 5, 6, 2, 2, 2, 134, 26, 4, 715, 8, 118, 2, 14, 394, 20, 13, 119, 954, 189, 102, 5, 207, 110, 2, 21, 14, 69, 188, 8, 30, 23, 7, 4, 249, 126, 93, 4, 114, 9, 2, 2, 5, 647, 4, 116, 9, 35, 2, 4, 229, 9, 340, 2, 4, 118, 9, 4, 130, 2, 19, 4, 2, 5, 89, 29, 952, 46, 37, 4, 455, 9, 45, 43, 38, 2, 2, 398, 4, 2, 26, 2, 5, 163, 11, 2, 2, 4, 2, 9, 194, 775, 7, 2, 2, 349, 2, 148, 605, 2, 2, 15, 123, 125, 68, 2, 2, 15, 349, 165, 2, 98, 5, 4, 228, 9, 43, 2, 2, 15, 299, 120, 5, 120, 174, 11, 220, 175, 136, 50, 9, 2, 228, 2, 5, 2, 656, 245, 2, 5, 4, 2, 131, 152, 491, 18, 2, 32, 2, 2, 14, 9, 6, 371, 78, 22, 625, 64, 2, 9, 8, 168, 145, 23, 4, 2, 15, 16, 4, 2, 5, 28, 6, 52, 154, 462, 33, 89, 78, 285, 16, 145, 95]\n",
            "부정\n",
            "\n",
            "2\n",
            "[1, 14, 47, 8, 30, 31, 7, 4, 249, 108, 7, 4, 2, 54, 61, 369, 13, 71, 149, 14, 22, 112, 4, 2, 311, 12, 16, 2, 33, 75, 43, 2, 296, 4, 86, 320, 35, 534, 19, 263, 2, 2, 4, 2, 33, 89, 78, 12, 66, 16, 4, 360, 7, 4, 58, 316, 334, 11, 4, 2, 43, 645, 662, 8, 257, 85, 2, 42, 2, 2, 83, 68, 2, 15, 36, 165, 2, 278, 36, 69, 2, 780, 8, 106, 14, 2, 2, 18, 6, 22, 12, 215, 28, 610, 40, 6, 87, 326, 23, 2, 21, 23, 22, 12, 272, 40, 57, 31, 11, 4, 22, 47, 6, 2, 51, 9, 170, 23, 595, 116, 595, 2, 13, 191, 79, 638, 89, 2, 14, 9, 8, 106, 607, 624, 35, 534, 6, 227, 7, 129, 113]\n",
            "부정\n",
            "\n",
            "3\n",
            "[1, 4, 2, 2, 33, 2, 4, 2, 432, 111, 153, 103, 4, 2, 13, 70, 131, 67, 11, 61, 2, 744, 35, 2, 761, 61, 2, 452, 2, 4, 985, 7, 2, 59, 166, 4, 105, 216, 2, 41, 2, 9, 15, 7, 35, 744, 2, 31, 8, 4, 687, 23, 4, 2, 2, 6, 2, 42, 38, 39, 121, 59, 456, 10, 10, 7, 265, 12, 575, 111, 153, 159, 59, 16, 2, 21, 25, 586, 482, 39, 4, 96, 59, 716, 12, 4, 172, 65, 9, 579, 11, 2, 4, 2, 5, 2, 7, 2, 17, 13, 2, 12, 19, 6, 464, 31, 314, 11, 2, 6, 719, 605, 11, 8, 202, 27, 310, 4, 2, 2, 8, 2, 58, 10, 10, 537, 2, 180, 40, 14, 413, 173, 7, 263, 112, 37, 152, 377, 4, 537, 263, 846, 579, 178, 54, 75, 71, 476, 36, 413, 263, 2, 182, 5, 17, 75, 2, 922, 36, 279, 131, 2, 17, 2, 42, 17, 35, 921, 2, 192, 5, 2, 2, 19, 2, 217, 2, 2, 537, 2, 2, 5, 736, 10, 10, 61, 403, 9, 2, 40, 61, 2, 5, 27, 2, 159, 90, 263, 2, 2, 309, 8, 178, 5, 82, 2, 4, 65, 15, 2, 145, 143, 2, 12, 2, 537, 746, 537, 537, 15, 2, 4, 2, 594, 7, 2, 94, 2, 2, 2, 11, 2, 4, 538, 7, 2, 246, 2, 9, 2, 11, 635, 14, 9, 51, 408, 12, 94, 318, 2, 12, 47, 6, 2, 936, 5, 2, 2, 19, 49, 7, 4, 2, 2, 2, 25, 80, 126, 842, 10, 10, 2, 2, 2, 27, 2, 11, 2, 2, 159, 27, 341, 29, 2, 19, 2, 173, 7, 90, 2, 8, 30, 11, 4, 2, 86, 2, 8, 2, 46, 11, 2, 21, 29, 9, 2, 23, 4, 2, 2, 793, 6, 2, 2, 2, 10, 10, 246, 50, 9, 6, 2, 2, 746, 90, 29, 2, 8, 124, 4, 882, 4, 882, 496, 27, 2, 2, 537, 121, 127, 2, 130, 5, 29, 494, 8, 124, 4, 882, 496, 4, 341, 7, 27, 846, 10, 10, 29, 9, 2, 8, 97, 6, 236, 2, 2, 8, 4, 2, 7, 31, 7, 2, 91, 2, 2, 70, 4, 882, 30, 579, 42, 9, 12, 32, 11, 537, 10, 10, 11, 14, 65, 44, 537, 75, 2, 2, 2, 2, 2, 4, 2, 7, 154, 5, 4, 518, 53, 2, 2, 7, 2, 882, 11, 399, 38, 75, 257, 2, 19, 2, 17, 29, 456, 4, 65, 7, 27, 205, 113, 10, 10, 2, 4, 2, 2, 9, 242, 4, 91, 2, 2, 5, 2, 307, 22, 7, 2, 126, 93, 40, 2, 13, 188, 2, 2, 19, 4, 2, 7, 2, 537, 23, 53, 537, 21, 82, 40, 2, 13, 2, 14, 280, 13, 219, 4, 2, 431, 758, 859, 4, 953, 2, 2, 7, 2, 5, 94, 40, 25, 238, 60, 2, 4, 2, 804, 2, 7, 4, 2, 132, 8, 67, 6, 22, 15, 9, 283, 8, 2, 14, 31, 9, 242, 955, 48, 25, 279, 2, 23, 12, 2, 195, 25, 238, 60, 796, 2, 4, 671, 7, 2, 5, 4, 559, 154, 888, 7, 726, 50, 26, 49, 2, 15, 566, 30, 579, 21, 64, 2]\n",
            "긍정\n",
            "\n",
            "4\n",
            "[1, 249, 2, 7, 61, 113, 10, 10, 13, 2, 14, 20, 56, 33, 2, 18, 457, 88, 13, 2, 2, 45, 2, 13, 70, 79, 49, 706, 919, 13, 16, 355, 340, 355, 2, 96, 143, 4, 22, 32, 289, 7, 61, 369, 71, 2, 5, 13, 16, 131, 2, 249, 114, 249, 229, 249, 20, 13, 28, 126, 110, 13, 473, 8, 569, 61, 419, 56, 429, 6, 2, 18, 35, 534, 95, 474, 570, 5, 25, 124, 138, 88, 12, 421, 2, 52, 725, 2, 61, 419, 11, 13, 2, 15, 2, 20, 11, 4, 2, 5, 296, 12, 2, 5, 15, 421, 128, 74, 233, 334, 207, 126, 224, 12, 562, 298, 2, 2, 7, 2, 5, 516, 988, 43, 8, 79, 120, 15, 595, 13, 784, 25, 2, 18, 165, 170, 143, 19, 14, 5, 2, 6, 226, 251, 7, 61, 113]\n",
            "부정\n",
            "\n"
          ]
        }
      ]
    },
    {
      "cell_type": "markdown",
      "metadata": {
        "id": "izJKnVgY7NWl"
      },
      "source": [
        "### 데이터 전처리\n",
        "- 모든 데이터를 같은 길이로 맞추기\n",
        "\n",
        "  - `pad_sequence()`\n",
        "    - 데이터가 maxlen보다 길면 데이터를 자름\n",
        "\n",
        "    - 데이터가 길면 `padding` 설정\n",
        "      - `pre`: 데이터 앞에 0으로 채움\n",
        "      -  `post`: 데이터 뒤에 0으로 채움\n",
        "\n",
        "\n",
        "- 모든 데이터(문장 하나하나)가 같은 길이로 맞추어야 `Embedding` 레이어를 사용할 수 있음"
      ]
    },
    {
      "cell_type": "code",
      "metadata": {
        "id": "took47l5e8xi"
      },
      "source": [
        "from tensorflow.keras.preprocessing.sequence import pad_sequences"
      ],
      "execution_count": 23,
      "outputs": []
    },
    {
      "cell_type": "code",
      "metadata": {
        "id": "oAF2ZRV32Eup"
      },
      "source": [
        "max_len = 100\n",
        "\n",
        "pad_x_train = pad_sequences(x_train, maxlen=max_len, padding='pre') # pre 는 앞을 채우는것\n",
        "pad_x_test = pad_sequences(x_test, maxlen=max_len, padding='pre') \n"
      ],
      "execution_count": 24,
      "outputs": []
    },
    {
      "cell_type": "code",
      "metadata": {
        "id": "NOEVDkuD2EqT",
        "colab": {
          "base_uri": "https://localhost:8080/"
        },
        "outputId": "b3b0c793-fe42-4bae-89b3-1d76eba73ab4"
      },
      "source": [
        "print(len(x_train[5]),len(pad_x_train[5]))"
      ],
      "execution_count": 25,
      "outputs": [
        {
          "output_type": "stream",
          "name": "stdout",
          "text": [
            "43 100\n"
          ]
        }
      ]
    },
    {
      "cell_type": "code",
      "metadata": {
        "id": "nwpMCUb92Eoe",
        "colab": {
          "base_uri": "https://localhost:8080/"
        },
        "outputId": "d75ae04a-a1a2-4ec5-b166-85130468082d"
      },
      "source": [
        "print(x_train[5])\n",
        "print(pad_x_train[5])"
      ],
      "execution_count": 26,
      "outputs": [
        {
          "output_type": "stream",
          "name": "stdout",
          "text": [
            "[1, 778, 128, 74, 12, 630, 163, 15, 4, 2, 2, 2, 2, 32, 85, 156, 45, 40, 148, 139, 121, 664, 665, 10, 10, 2, 173, 4, 749, 2, 16, 2, 8, 4, 226, 65, 12, 43, 127, 24, 2, 10, 10]\n",
            "[  0   0   0   0   0   0   0   0   0   0   0   0   0   0   0   0   0   0\n",
            "   0   0   0   0   0   0   0   0   0   0   0   0   0   0   0   0   0   0\n",
            "   0   0   0   0   0   0   0   0   0   0   0   0   0   0   0   0   0   0\n",
            "   0   0   0   1 778 128  74  12 630 163  15   4   2   2   2   2  32  85\n",
            " 156  45  40 148 139 121 664 665  10  10   2 173   4 749   2  16   2   8\n",
            "   4 226  65  12  43 127  24   2  10  10]\n"
          ]
        }
      ]
    },
    {
      "cell_type": "markdown",
      "metadata": {
        "id": "iVSjFumg-TBt"
      },
      "source": [
        "### 모델 구성"
      ]
    },
    {
      "cell_type": "code",
      "metadata": {
        "id": "RF9sFjn62El8",
        "colab": {
          "base_uri": "https://localhost:8080/"
        },
        "outputId": "27b75ed0-58ed-4eb8-c073-b8c4b9157ebc"
      },
      "source": [
        "model = Sequential()\n",
        "\n",
        "model.add(Embedding(input_dim=num_words, output_dim=32, \n",
        "                    input_length=max_len))\n",
        "\n",
        "model.add(Flatten())\n",
        "model.add(Dense(1, activation='sigmoid'))\n",
        "\n",
        "model.summary()\n"
      ],
      "execution_count": 27,
      "outputs": [
        {
          "output_type": "stream",
          "name": "stdout",
          "text": [
            "Model: \"sequential\"\n",
            "_________________________________________________________________\n",
            "Layer (type)                 Output Shape              Param #   \n",
            "=================================================================\n",
            "embedding (Embedding)        (None, 100, 32)           32000     \n",
            "_________________________________________________________________\n",
            "flatten (Flatten)            (None, 3200)              0         \n",
            "_________________________________________________________________\n",
            "dense (Dense)                (None, 1)                 3201      \n",
            "=================================================================\n",
            "Total params: 35,201\n",
            "Trainable params: 35,201\n",
            "Non-trainable params: 0\n",
            "_________________________________________________________________\n"
          ]
        }
      ]
    },
    {
      "cell_type": "markdown",
      "metadata": {
        "id": "H1VqPWEa-m9i"
      },
      "source": [
        "### 모델 컴파일 및 학습"
      ]
    },
    {
      "cell_type": "code",
      "metadata": {
        "id": "CEXe_6de2EcK"
      },
      "source": [
        "model.compile(optimizer='rmsprop',\n",
        "              loss='binary_crossentropy',\n",
        "              metrics=['acc'])"
      ],
      "execution_count": 28,
      "outputs": []
    },
    {
      "cell_type": "code",
      "metadata": {
        "id": "Xr3pegjQ2Eal",
        "colab": {
          "base_uri": "https://localhost:8080/"
        },
        "outputId": "a8def8f7-d1b8-4128-c30d-2f2bc2646747"
      },
      "source": [
        "history = model.fit(pad_x_train, y_train,\n",
        "                    epochs=10,\n",
        "                    batch_size=32,\n",
        "                    validation_split=0.2)"
      ],
      "execution_count": 29,
      "outputs": [
        {
          "output_type": "stream",
          "name": "stdout",
          "text": [
            "Epoch 1/10\n",
            "625/625 [==============================] - 6s 5ms/step - loss: 0.5602 - acc: 0.7161 - val_loss: 0.4159 - val_acc: 0.8126\n",
            "Epoch 2/10\n",
            "625/625 [==============================] - 3s 4ms/step - loss: 0.3715 - acc: 0.8343 - val_loss: 0.3819 - val_acc: 0.8286\n",
            "Epoch 3/10\n",
            "625/625 [==============================] - 3s 4ms/step - loss: 0.3334 - acc: 0.8561 - val_loss: 0.3836 - val_acc: 0.8250\n",
            "Epoch 4/10\n",
            "625/625 [==============================] - 3s 4ms/step - loss: 0.3060 - acc: 0.8728 - val_loss: 0.3870 - val_acc: 0.8272\n",
            "Epoch 5/10\n",
            "625/625 [==============================] - 3s 4ms/step - loss: 0.2755 - acc: 0.8871 - val_loss: 0.3975 - val_acc: 0.8200\n",
            "Epoch 6/10\n",
            "625/625 [==============================] - 3s 5ms/step - loss: 0.2436 - acc: 0.9056 - val_loss: 0.4104 - val_acc: 0.8174\n",
            "Epoch 7/10\n",
            "625/625 [==============================] - 3s 4ms/step - loss: 0.2112 - acc: 0.9220 - val_loss: 0.4268 - val_acc: 0.8116\n",
            "Epoch 8/10\n",
            "625/625 [==============================] - 3s 4ms/step - loss: 0.1790 - acc: 0.9405 - val_loss: 0.4443 - val_acc: 0.8116\n",
            "Epoch 9/10\n",
            "625/625 [==============================] - 3s 5ms/step - loss: 0.1490 - acc: 0.9555 - val_loss: 0.4680 - val_acc: 0.8088\n",
            "Epoch 10/10\n",
            "625/625 [==============================] - 3s 4ms/step - loss: 0.1226 - acc: 0.9679 - val_loss: 0.4948 - val_acc: 0.8072\n"
          ]
        }
      ]
    },
    {
      "cell_type": "markdown",
      "metadata": {
        "id": "lflm7be5gdeg"
      },
      "source": [
        "레귤레이션이 전혀 없기 때문에 오버 핏이 될수 밖에 없다. "
      ]
    },
    {
      "cell_type": "markdown",
      "metadata": {
        "id": "-gNKkWKP_3c0"
      },
      "source": [
        "### 시각화"
      ]
    },
    {
      "cell_type": "code",
      "metadata": {
        "id": "PYKPQO1B_-EJ"
      },
      "source": [
        "import matplotlib.pyplot as plt\n",
        "plt.style.use('seaborn-white')"
      ],
      "execution_count": 31,
      "outputs": []
    },
    {
      "cell_type": "code",
      "metadata": {
        "id": "vMP67mYsAQ9q",
        "colab": {
          "base_uri": "https://localhost:8080/"
        },
        "outputId": "74f0a119-4b30-4a0f-b461-ea07f72a68e2"
      },
      "source": [
        "hist_dict = history.history\n",
        "hist_dict.keys()"
      ],
      "execution_count": 32,
      "outputs": [
        {
          "output_type": "execute_result",
          "data": {
            "text/plain": [
              "dict_keys(['loss', 'acc', 'val_loss', 'val_acc'])"
            ]
          },
          "metadata": {},
          "execution_count": 32
        }
      ]
    },
    {
      "cell_type": "code",
      "metadata": {
        "id": "d_EjuJva_4YP",
        "colab": {
          "base_uri": "https://localhost:8080/",
          "height": 507
        },
        "outputId": "70fc0e46-f9bb-4679-de3c-ae36ec96b229"
      },
      "source": [
        "plt.plot(hist_dict['loss'], 'b-', label='Train Loss')\n",
        "plt.plot(hist_dict['val_loss'], 'r:', label='Validation Loss')\n",
        "plt.legend()\n",
        "plt.grid()\n",
        "\n",
        "plt.figure()\n",
        "plt.plot(hist_dict['acc'], 'b-', label='Train Acc')\n",
        "plt.plot(hist_dict['val_acc'], 'r:', label='Validation Acc')\n",
        "plt.legend()\n",
        "plt.grid()"
      ],
      "execution_count": 33,
      "outputs": [
        {
          "output_type": "display_data",
          "data": {
            "image/png": "[encoded data removed]",
            "text/plain": [
              "<Figure size 432x288 with 1 Axes>"
            ]
          },
          "metadata": {}
        },
        {
          "output_type": "display_data",
          "data": {
            "image/png": "[encoded data removed]",
            "text/plain": [
              "<Figure size 432x288 with 1 Axes>"
            ]
          },
          "metadata": {}
        }
      ]
    },
    {
      "cell_type": "markdown",
      "metadata": {
        "id": "3GtELilA_avO"
      },
      "source": [
        "### 모델 평가"
      ]
    },
    {
      "cell_type": "code",
      "metadata": {
        "id": "_U0Dz9je2ESh",
        "colab": {
          "base_uri": "https://localhost:8080/"
        },
        "outputId": "7ace08df-3865-4b73-e2e4-417622511667"
      },
      "source": [
        "model.evaluate(pad_x_test, y_test)"
      ],
      "execution_count": 34,
      "outputs": [
        {
          "output_type": "stream",
          "name": "stdout",
          "text": [
            "782/782 [==============================] - 2s 2ms/step - loss: 0.4880 - acc: 0.8034\n"
          ]
        },
        {
          "output_type": "execute_result",
          "data": {
            "text/plain": [
              "[0.48798108100891113, 0.8033599853515625]"
            ]
          },
          "metadata": {},
          "execution_count": 34
        }
      ]
    },
    {
      "cell_type": "markdown",
      "metadata": {
        "id": "6aJqudd0AwGa"
      },
      "source": [
        "### 단어의 수를 늘린 후 재학습"
      ]
    },
    {
      "cell_type": "code",
      "metadata": {
        "id": "C1itQHMDA1hn"
      },
      "source": [
        "num_words=2000\n",
        "max_len=400\n",
        "\n",
        "(x_train, y_train), (x_test, y_test) = imdb.load_data(num_words=num_words)\n",
        "pad_x_train2 = pad_sequences(x_train, maxlen=max_len, padding='pre')\n",
        "pad_x_test2 = pad_sequences(x_test, maxlen=max_len, padding='pre')"
      ],
      "execution_count": 37,
      "outputs": []
    },
    {
      "cell_type": "markdown",
      "metadata": {
        "id": "e2WL_yueBibH"
      },
      "source": [
        "데이터 확인"
      ]
    },
    {
      "cell_type": "code",
      "metadata": {
        "id": "AydBwyBMA1ku",
        "colab": {
          "base_uri": "https://localhost:8080/"
        },
        "outputId": "ef506c17-7a28-4ee1-aaa2-f9b6d57128d7"
      },
      "source": [
        "print(x_train[0])\n",
        "print(pad_x_train2[0])"
      ],
      "execution_count": 40,
      "outputs": [
        {
          "output_type": "stream",
          "name": "stdout",
          "text": [
            "[1, 14, 22, 16, 43, 530, 973, 1622, 1385, 65, 458, 2, 66, 2, 4, 173, 36, 256, 5, 25, 100, 43, 838, 112, 50, 670, 2, 9, 35, 480, 284, 5, 150, 4, 172, 112, 167, 2, 336, 385, 39, 4, 172, 2, 1111, 17, 546, 38, 13, 447, 4, 192, 50, 16, 6, 147, 2, 19, 14, 22, 4, 1920, 2, 469, 4, 22, 71, 87, 12, 16, 43, 530, 38, 76, 15, 13, 1247, 4, 22, 17, 515, 17, 12, 16, 626, 18, 2, 5, 62, 386, 12, 8, 316, 8, 106, 5, 4, 2, 2, 16, 480, 66, 2, 33, 4, 130, 12, 16, 38, 619, 5, 25, 124, 51, 36, 135, 48, 25, 1415, 33, 6, 22, 12, 215, 28, 77, 52, 5, 14, 407, 16, 82, 2, 8, 4, 107, 117, 2, 15, 256, 4, 2, 7, 2, 5, 723, 36, 71, 43, 530, 476, 26, 400, 317, 46, 7, 4, 2, 1029, 13, 104, 88, 4, 381, 15, 297, 98, 32, 2, 56, 26, 141, 6, 194, 2, 18, 4, 226, 22, 21, 134, 476, 26, 480, 5, 144, 30, 2, 18, 51, 36, 28, 224, 92, 25, 104, 4, 226, 65, 16, 38, 1334, 88, 12, 16, 283, 5, 16, 2, 113, 103, 32, 15, 16, 2, 19, 178, 32]\n",
            "[   0    0    0    0    0    0    0    0    0    0    0    0    0    0\n",
            "    0    0    0    0    0    0    0    0    0    0    0    0    0    0\n",
            "    0    0    0    0    0    0    0    0    0    0    0    0    0    0\n",
            "    0    0    0    0    0    0    0    0    0    0    0    0    0    0\n",
            "    0    0    0    0    0    0    0    0    0    0    0    0    0    0\n",
            "    0    0    0    0    0    0    0    0    0    0    0    0    0    0\n",
            "    0    0    0    0    0    0    0    0    0    0    0    0    0    0\n",
            "    0    0    0    0    0    0    0    0    0    0    0    0    0    0\n",
            "    0    0    0    0    0    0    0    0    0    0    0    0    0    0\n",
            "    0    0    0    0    0    0    0    0    0    0    0    0    0    0\n",
            "    0    0    0    0    0    0    0    0    0    0    0    0    0    0\n",
            "    0    0    0    0    0    0    0    0    0    0    0    0    0    0\n",
            "    0    0    0    0    0    0    0    0    0    0    0    0    0    0\n",
            "    1   14   22   16   43  530  973 1622 1385   65  458    2   66    2\n",
            "    4  173   36  256    5   25  100   43  838  112   50  670    2    9\n",
            "   35  480  284    5  150    4  172  112  167    2  336  385   39    4\n",
            "  172    2 1111   17  546   38   13  447    4  192   50   16    6  147\n",
            "    2   19   14   22    4 1920    2  469    4   22   71   87   12   16\n",
            "   43  530   38   76   15   13 1247    4   22   17  515   17   12   16\n",
            "  626   18    2    5   62  386   12    8  316    8  106    5    4    2\n",
            "    2   16  480   66    2   33    4  130   12   16   38  619    5   25\n",
            "  124   51   36  135   48   25 1415   33    6   22   12  215   28   77\n",
            "   52    5   14  407   16   82    2    8    4  107  117    2   15  256\n",
            "    4    2    7    2    5  723   36   71   43  530  476   26  400  317\n",
            "   46    7    4    2 1029   13  104   88    4  381   15  297   98   32\n",
            "    2   56   26  141    6  194    2   18    4  226   22   21  134  476\n",
            "   26  480    5  144   30    2   18   51   36   28  224   92   25  104\n",
            "    4  226   65   16   38 1334   88   12   16  283    5   16    2  113\n",
            "  103   32   15   16    2   19  178   32]\n"
          ]
        }
      ]
    },
    {
      "cell_type": "code",
      "metadata": {
        "id": "mK2kQxNUA1eB",
        "colab": {
          "base_uri": "https://localhost:8080/"
        },
        "outputId": "5477a8e1-cd20-4e9d-c9c6-26bcd54da72c"
      },
      "source": [
        "model = Sequential()\n",
        "\n",
        "model.add(Embedding(input_dim=num_words, output_dim=32, \n",
        "                    input_length=max_len))\n",
        "\n",
        "model.add(Flatten())\n",
        "model.add(Dense(1, activation='sigmoid'))\n",
        "\n",
        "model.summary()"
      ],
      "execution_count": 41,
      "outputs": [
        {
          "output_type": "stream",
          "name": "stdout",
          "text": [
            "Model: \"sequential_1\"\n",
            "_________________________________________________________________\n",
            "Layer (type)                 Output Shape              Param #   \n",
            "=================================================================\n",
            "embedding_1 (Embedding)      (None, 400, 32)           64000     \n",
            "_________________________________________________________________\n",
            "flatten_1 (Flatten)          (None, 12800)             0         \n",
            "_________________________________________________________________\n",
            "dense_1 (Dense)              (None, 1)                 12801     \n",
            "=================================================================\n",
            "Total params: 76,801\n",
            "Trainable params: 76,801\n",
            "Non-trainable params: 0\n",
            "_________________________________________________________________\n"
          ]
        }
      ]
    },
    {
      "cell_type": "code",
      "metadata": {
        "id": "I5BK5HXnBtIN"
      },
      "source": [
        "model.compile(optimizer='rmsprop',\n",
        "              loss='binary_crossentropy',\n",
        "              metrics=['acc'])"
      ],
      "execution_count": 45,
      "outputs": []
    },
    {
      "cell_type": "code",
      "metadata": {
        "id": "odClZim0Bs-O",
        "colab": {
          "base_uri": "https://localhost:8080/"
        },
        "outputId": "c0491c2d-5e5f-47f0-ca6d-3cc40b8c4a79"
      },
      "source": [
        "history = model.fit(pad_x_train2, y_train,\n",
        "                    epochs=10,\n",
        "                    batch_size=32,\n",
        "                    validation_split=0.2)"
      ],
      "execution_count": 46,
      "outputs": [
        {
          "output_type": "stream",
          "name": "stdout",
          "text": [
            "Epoch 1/10\n",
            "625/625 [==============================] - 4s 5ms/step - loss: 0.4931 - acc: 0.7574 - val_loss: 0.3526 - val_acc: 0.8392\n",
            "Epoch 2/10\n",
            "625/625 [==============================] - 3s 5ms/step - loss: 0.2778 - acc: 0.8851 - val_loss: 0.3058 - val_acc: 0.8782\n",
            "Epoch 3/10\n",
            "625/625 [==============================] - 3s 5ms/step - loss: 0.2269 - acc: 0.9097 - val_loss: 0.3026 - val_acc: 0.8760\n",
            "Epoch 4/10\n",
            "625/625 [==============================] - 3s 5ms/step - loss: 0.1833 - acc: 0.9323 - val_loss: 0.3192 - val_acc: 0.8740\n",
            "Epoch 5/10\n",
            "625/625 [==============================] - 3s 5ms/step - loss: 0.1430 - acc: 0.9503 - val_loss: 0.3333 - val_acc: 0.8714\n",
            "Epoch 6/10\n",
            "625/625 [==============================] - 3s 5ms/step - loss: 0.1067 - acc: 0.9667 - val_loss: 0.3556 - val_acc: 0.8702\n",
            "Epoch 7/10\n",
            "625/625 [==============================] - 3s 5ms/step - loss: 0.0754 - acc: 0.9803 - val_loss: 0.3889 - val_acc: 0.8658\n",
            "Epoch 8/10\n",
            "625/625 [==============================] - 3s 5ms/step - loss: 0.0519 - acc: 0.9874 - val_loss: 0.4184 - val_acc: 0.8642\n",
            "Epoch 9/10\n",
            "625/625 [==============================] - 3s 5ms/step - loss: 0.0343 - acc: 0.9934 - val_loss: 0.4616 - val_acc: 0.8610\n",
            "Epoch 10/10\n",
            "625/625 [==============================] - 3s 5ms/step - loss: 0.0221 - acc: 0.9959 - val_loss: 0.5084 - val_acc: 0.8554\n"
          ]
        }
      ]
    },
    {
      "cell_type": "code",
      "metadata": {
        "id": "rVPTlmjZB--j",
        "colab": {
          "base_uri": "https://localhost:8080/"
        },
        "outputId": "8dd8090c-ffb8-47f7-8cf1-f332727b017a"
      },
      "source": [
        "hist_dict = history.history\n",
        "hist_dict.keys()"
      ],
      "execution_count": 47,
      "outputs": [
        {
          "output_type": "execute_result",
          "data": {
            "text/plain": [
              "dict_keys(['loss', 'acc', 'val_loss', 'val_acc'])"
            ]
          },
          "metadata": {},
          "execution_count": 47
        }
      ]
    },
    {
      "cell_type": "code",
      "metadata": {
        "id": "mZ5WbSX_CHUa",
        "colab": {
          "base_uri": "https://localhost:8080/",
          "height": 507
        },
        "outputId": "c740ed7f-f74c-4034-c5c1-fa8442e1f8ca"
      },
      "source": [
        "plt.plot(hist_dict['loss'], 'b-', label='Train Loss')\n",
        "plt.plot(hist_dict['val_loss'], 'r:', label='Validation Loss')\n",
        "plt.legend()\n",
        "plt.grid()\n",
        "\n",
        "plt.figure()\n",
        "plt.plot(hist_dict['acc'], 'b-', label='Train Acc')\n",
        "plt.plot(hist_dict['val_acc'], 'r:', label='Validation Acc')\n",
        "plt.legend()\n",
        "plt.grid()"
      ],
      "execution_count": 48,
      "outputs": [
        {
          "output_type": "display_data",
          "data": {
            "image/png": "[encoded data removed]",
            "text/plain": [
              "<Figure size 432x288 with 1 Axes>"
            ]
          },
          "metadata": {}
        },
        {
          "output_type": "display_data",
          "data": {
            "image/png": "[encoded data removed]",
            "text/plain": [
              "<Figure size 432x288 with 1 Axes>"
            ]
          },
          "metadata": {}
        }
      ]
    },
    {
      "cell_type": "code",
      "metadata": {
        "colab": {
          "base_uri": "https://localhost:8080/"
        },
        "id": "H8m-a-e2itqN",
        "outputId": "4fcf5b63-8cab-4895-b51f-28c7836b205f"
      },
      "source": [
        "model.evaluate(pad_x_test2, y_test)"
      ],
      "execution_count": 50,
      "outputs": [
        {
          "output_type": "stream",
          "name": "stdout",
          "text": [
            "782/782 [==============================] - 2s 2ms/step - loss: 0.4902 - acc: 0.8510\n"
          ]
        },
        {
          "output_type": "execute_result",
          "data": {
            "text/plain": [
              "[0.49019166827201843, 0.8510400056838989]"
            ]
          },
          "metadata": {},
          "execution_count": 50
        }
      ]
    },
    {
      "cell_type": "markdown",
      "metadata": {
        "id": "6I0C5ueK73_g"
      },
      "source": [
        "위의 결과도 나쁘지 않으나 과적합이 되는 이유\n",
        "- 단어간 관계나 문장 구조 등 의미적 연결을 고려하지 않음\n",
        "\n",
        "- 시퀀스 전체를 고려한 특성을 학습하는 것은 `Embedding`층 위에 `RNN`층이나 `1D 합성곱`을 추가하는 것이 좋음\n"
      ]
    },
    {
      "cell_type": "markdown",
      "metadata": {
        "id": "ud_-PnE873_h"
      },
      "source": [
        "## Word2Vec\n",
        "\n",
        "- 2013년, Mikolov 와 동료들이 제안한 모형\n",
        "\n",
        "- 분류 등과 같이 별도의 레이블이 없이 텍스트 자체만 있어도 학습이 가능\n",
        "\n",
        "- Word2Vec의 방식  \n",
        "  주변 단어의 관계를 이용\n",
        "\n",
        "  - CBOW(continuous bag-of-words)\n",
        "    - 주변단어의 임베딩을 더해서 대상단어를 예측\n",
        "\n",
        "  - Skip-Gram\n",
        "    - 대상 단어의 임베딩으로 주변단어를 예측\n",
        "\n",
        "    - 일반적으로 CBOW보다 성능이 좋은 편\n",
        "\n",
        "    - 한번에 여러 단어를 예측해야하기 때문에 비효율적  \n",
        "      최근에는 **negative sampling**이라는 방법을 사용\n",
        "\n",
        "  <img src=\"https://www.researchgate.net/publication/328160770/figure/fig14/AS:679665089925122@1539056193562/CBOW-and-Skip-Gram-neural-architectures.ppm\">\n",
        "\n",
        "  <sub>출처: https://www.researchgate.net/figure/CBOW-and-Skip-Gram-neural-architectures_fig14_328160770</sub>"
      ]
    },
    {
      "cell_type": "markdown",
      "metadata": {
        "id": "QARhfhIt1j4I"
      },
      "source": [
        "## T-SNE"
      ]
    },
    {
      "cell_type": "markdown",
      "metadata": {
        "id": "v9ymcBIKl40u"
      },
      "source": [
        "* T-SNE(t-Stochastic Neighbor Embedding)은 고차원의 벡터들의 구조를 보존하며 저차원으로 사상하는 차원 축소 알고리즘\n",
        "* 단어 임베딩에서도 생성된 고차원 벡터들을 시각화하기 위해 이 T-SNE 알고리즘을 많이 이용\n",
        "\n",
        "* t-sne는 가장 먼저 원 공간의 데이터 유사도 $p_{ij}$와 임베딩 공간의 데이터 유사도 $q_{ij}$를 정의\n",
        "* $x_i$에서 $x_j$ 간의 유사도 $p_{j|i}$ 는 다음과 같이 정의\n",
        "\n",
        "$$ p_{j|i} = \\frac {exp({-|x_i - x_j|}^2 / 2  \\sigma^2_i)}{\\sum_{k \\neq i}exp({-|x_i - x_k|}^2 / 2  \\sigma^2_i)} $$\n",
        "\n",
        "* 설명하자면 $p_{j|i}$는 $x_i$와 $x_j$ 간의 거리에서 가중치 $\\sigma^2_i$로 나눈 후, 이를 negative exponential을 취해 모든 점 간의 거리의 합과 나누어준 값으로 두 점 간의 거리가 가까울 수록 큰 값을 가짐\n",
        "\n",
        "* 또한 임베딩 공간에서의 $y_i$에서 $y_j$ 간의 유사도 $q_{j|i}$ 는 다음과 같이 정의\n",
        "\n",
        "$$ q_{j|i} = \\frac {(1 + |y_i-y_j|^2)^{-1}}{\\sum_{k \\neq l}(1 + |y_i-y_j|^2)^{-1}} $$\n",
        "\n",
        "* $q_{j|i}$는 $x_i$와 $x_j$ 간의 거리에서 1을 더해준 후 역수를 취한 값과 전체 합산 값과 나누어 유사도를 정의\n",
        "\n",
        "* T-SNE의 학습은 $p_{j|i}$와 비슷해지도록 $q_{j|i}$의 위치를 조정하는 것이라고 할 수 있음\n",
        "\n"
      ]
    },
    {
      "cell_type": "markdown",
      "metadata": {
        "id": "d7ocZw5XSRDN"
      },
      "source": [
        "## 데이터 준비"
      ]
    },
    {
      "cell_type": "code",
      "metadata": {
        "id": "ohSE_JnMSRDR",
        "colab": {
          "base_uri": "https://localhost:8080/",
          "height": 167
        },
        "outputId": "fb5ff587-0835-4746-eb94-9452479e1158"
      },
      "source": [
        "31:24"
      ],
      "execution_count": 51,
      "outputs": [
        {
          "output_type": "error",
          "ename": "SyntaxError",
          "evalue": "ignored",
          "traceback": [
            "\u001b[0;36m  File \u001b[0;32m\"<ipython-input-51-ab7d818791a3>\"\u001b[0;36m, line \u001b[0;32m1\u001b[0m\n\u001b[0;31m    31:24\u001b[0m\n\u001b[0m         ^\u001b[0m\n\u001b[0;31mSyntaxError\u001b[0m\u001b[0;31m:\u001b[0m illegal target for annotation\n"
          ]
        }
      ]
    },
    {
      "cell_type": "code",
      "metadata": {
        "id": "E56d3KXroenQ"
      },
      "source": [
        ""
      ],
      "execution_count": null,
      "outputs": []
    },
    {
      "cell_type": "code",
      "metadata": {
        "id": "QCo9S9RlrfQg"
      },
      "source": [
        ""
      ],
      "execution_count": null,
      "outputs": []
    },
    {
      "cell_type": "code",
      "metadata": {
        "id": "9xzZu6Iprj5B"
      },
      "source": [
        ""
      ],
      "execution_count": null,
      "outputs": []
    },
    {
      "cell_type": "code",
      "metadata": {
        "id": "Oi3PJ7dMsF8K"
      },
      "source": [
        ""
      ],
      "execution_count": null,
      "outputs": []
    },
    {
      "cell_type": "code",
      "metadata": {
        "id": "ViSra6MYuM9x"
      },
      "source": [
        ""
      ],
      "execution_count": null,
      "outputs": []
    },
    {
      "cell_type": "code",
      "metadata": {
        "id": "Z3JgTpVfSRD_"
      },
      "source": [
        ""
      ],
      "execution_count": null,
      "outputs": []
    },
    {
      "cell_type": "code",
      "metadata": {
        "id": "uMCYgUIpSREH"
      },
      "source": [
        ""
      ],
      "execution_count": null,
      "outputs": []
    },
    {
      "cell_type": "markdown",
      "metadata": {
        "id": "IJ8Zkrar1umI"
      },
      "source": [
        "## Gensim을 이용한 Word2Vec"
      ]
    },
    {
      "cell_type": "markdown",
      "metadata": {
        "id": "-vw3V1fPp88u"
      },
      "source": [
        "### CBOW"
      ]
    },
    {
      "cell_type": "code",
      "metadata": {
        "id": "aByJKUOXp-64"
      },
      "source": [
        ""
      ],
      "execution_count": null,
      "outputs": []
    },
    {
      "cell_type": "code",
      "metadata": {
        "id": "u9Qigdn1THXO"
      },
      "source": [
        ""
      ],
      "execution_count": null,
      "outputs": []
    },
    {
      "cell_type": "code",
      "metadata": {
        "id": "Yp8qBYyITHXd"
      },
      "source": [
        ""
      ],
      "execution_count": null,
      "outputs": []
    },
    {
      "cell_type": "code",
      "metadata": {
        "id": "eVjZt1u0THX1"
      },
      "source": [
        ""
      ],
      "execution_count": null,
      "outputs": []
    },
    {
      "cell_type": "markdown",
      "metadata": {
        "id": "bKUEE4nnp5CR"
      },
      "source": [
        "### Skip-gram"
      ]
    },
    {
      "cell_type": "code",
      "metadata": {
        "id": "lcXY8cG50VuX"
      },
      "source": [
        ""
      ],
      "execution_count": null,
      "outputs": []
    },
    {
      "cell_type": "code",
      "metadata": {
        "id": "BGFj05bES53-"
      },
      "source": [
        ""
      ],
      "execution_count": null,
      "outputs": []
    },
    {
      "cell_type": "code",
      "metadata": {
        "id": "s4m5KmQVTAje"
      },
      "source": [
        ""
      ],
      "execution_count": null,
      "outputs": []
    },
    {
      "cell_type": "code",
      "metadata": {
        "id": "0ezmKn03TC3d"
      },
      "source": [
        ""
      ],
      "execution_count": null,
      "outputs": []
    },
    {
      "cell_type": "markdown",
      "metadata": {
        "id": "nrBZX9ZlSw6O"
      },
      "source": [
        "### 임베딩 벡터 시각화"
      ]
    },
    {
      "cell_type": "code",
      "metadata": {
        "id": "gA674OcrStUQ"
      },
      "source": [
        ""
      ],
      "execution_count": null,
      "outputs": []
    },
    {
      "cell_type": "markdown",
      "metadata": {
        "id": "8yRepgJTWSte"
      },
      "source": [
        "* metadata.tsv와 tensor.tsv 데이터 생성"
      ]
    },
    {
      "cell_type": "code",
      "metadata": {
        "id": "zrfecS8nS9NE"
      },
      "source": [
        ""
      ],
      "execution_count": null,
      "outputs": []
    },
    {
      "cell_type": "code",
      "metadata": {
        "id": "9saj56WLW0qT"
      },
      "source": [
        ""
      ],
      "execution_count": null,
      "outputs": []
    },
    {
      "cell_type": "markdown",
      "metadata": {
        "id": "nD_aU-YOTEon"
      },
      "source": [
        "* Embedding Projector: https://projector.tensorflow.org/"
      ]
    }
  ]
}