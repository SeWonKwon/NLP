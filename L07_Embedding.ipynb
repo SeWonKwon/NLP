{
  "nbformat": 4,
  "nbformat_minor": 0,
  "metadata": {
    "colab": {
      "name": "L07_Embedding.ipynb",
      "provenance": [],
      "collapsed_sections": [],
      "include_colab_link": true
    },
    "kernelspec": {
      "name": "python3",
      "display_name": "Python 3"
    },
    "accelerator": "GPU"
  },
  "cells": [
    {
      "cell_type": "markdown",
      "metadata": {
        "id": "view-in-github",
        "colab_type": "text"
      },
      "source": [
        "<a href=\"https://colab.research.google.com/github/SeWonKwon/NLP/blob/main/L07_Embedding.ipynb\" target=\"_parent\"><img src=\"https://colab.research.google.com/assets/colab-badge.svg\" alt=\"Open In Colab\"/></a>"
      ]
    },
    {
      "cell_type": "code",
      "metadata": {
        "id": "fhB2r4HRe6S-"
      },
      "source": [
        ""
      ],
      "execution_count": null,
      "outputs": []
    },
    {
      "cell_type": "markdown",
      "metadata": {
        "id": "sqJ4qz2uwHHH"
      },
      "source": [
        "# 임베딩(Embedding)"
      ]
    },
    {
      "cell_type": "markdown",
      "metadata": {
        "id": "E2HuxbsICXZc"
      },
      "source": [
        "* 워드 임베딩은 단어를 컴퓨터가 이해하고, 효율적으로 처리할 수 있도록 단어를 벡터화하는 기술\n",
        "* 워드 임베딩은 단어의 의미를 잘 표현해야만 하며, 현재까지도 많은 표현 방법이 연구\n",
        "* 워드 임베딩을 거쳐 잘 표현된 단어 벡터들은 계산이 가능하며, 모델 투입도 가능"
      ]
    },
    {
      "cell_type": "markdown",
      "metadata": {
        "id": "m0bGg7PjHyKM"
      },
      "source": [
        "## 인코딩(Encoding)"
      ]
    },
    {
      "cell_type": "markdown",
      "metadata": {
        "id": "lWVay2ofi4vR"
      },
      "source": [
        "* 기계는 자연어(영어, 한국어 등)을 이해할 수 없음\n",
        "* 데이터를 기계가 이해할 수 있도록 숫자 등으로 변환해주는 작업이 필요\n",
        "* 이러한 작업을 인코딩이라고 함\n",
        "\n",
        "* 텍스트 처리에서는 주로 정수 인코딩, 원 핫 인코딩을 사용"
      ]
    },
    {
      "cell_type": "markdown",
      "metadata": {
        "id": "QPXDPmRtKDfr"
      },
      "source": [
        "### 정수 인코딩"
      ]
    },
    {
      "cell_type": "markdown",
      "metadata": {
        "id": "zzb5eqDEPJDs"
      },
      "source": [
        "#### dictionary를 이용한 정수 인코딩"
      ]
    },
    {
      "cell_type": "markdown",
      "metadata": {
        "id": "MecMDCLZQz8X"
      },
      "source": [
        "* 각 단어와 정수 인덱스를 연결하고, 토큰을 변환해주는 정수 인코딩"
      ]
    },
    {
      "cell_type": "code",
      "metadata": {
        "id": "AZoYLia2PQTV",
        "colab": {
          "base_uri": "https://localhost:8080/"
        },
        "outputId": "8c0e5931-3f9a-4101-f80c-1bd1cc89bedf"
      },
      "source": [
        "text = '평생 살 것처럼 꿈을 꾸어라. 그리고 내일 죽을 것처럼 오늘을 살아라.'\n",
        "\n",
        "tokens = [x for x in text.split(' ')]\n",
        "unique = list(set(tokens))\n",
        "\n",
        "token2idx = {}\n",
        "for i in range(len(unique)):\n",
        "  token2idx[unique[i]] = i\n",
        "\n",
        "encode = [token2idx[x] for x in tokens]\n",
        "encode"
      ],
      "execution_count": 1,
      "outputs": [
        {
          "output_type": "execute_result",
          "data": {
            "text/plain": [
              "[9, 4, 8, 2, 0, 6, 7, 5, 8, 1, 3]"
            ]
          },
          "metadata": {},
          "execution_count": 1
        }
      ]
    },
    {
      "cell_type": "code",
      "metadata": {
        "id": "Gi8NOHDEbjZR",
        "colab": {
          "base_uri": "https://localhost:8080/"
        },
        "outputId": "4ecd20ad-59a2-44f3-ea0c-e85ef0a031b4"
      },
      "source": [
        "for i in encode:\n",
        "  print(unique[i])"
      ],
      "execution_count": 2,
      "outputs": [
        {
          "output_type": "stream",
          "name": "stdout",
          "text": [
            "평생\n",
            "살\n",
            "것처럼\n",
            "꿈을\n",
            "꾸어라.\n",
            "그리고\n",
            "내일\n",
            "죽을\n",
            "것처럼\n",
            "오늘을\n",
            "살아라.\n"
          ]
        }
      ]
    },
    {
      "cell_type": "markdown",
      "metadata": {
        "id": "uBEtdH1cPENH"
      },
      "source": [
        "#### keras를 이용한 정수 인코딩"
      ]
    },
    {
      "cell_type": "markdown",
      "metadata": {
        "id": "OpuQdjiLhogy"
      },
      "source": [
        "* 정수 인코딩은 단어에 정수로 레이블을 부여\n",
        "* `dictionary`, `nltk` 패키지를 이용한 방법들도 있지만, `keras`에서는 텍스트 처리에 필요한 도구들을 지원\n",
        "* 해당 도구는 자동으로 단어 빈도가 높은 단어의 인덱스는 낮게끔 설정"
      ]
    },
    {
      "cell_type": "code",
      "metadata": {
        "id": "fIqPMClFiMvb",
        "colab": {
          "base_uri": "https://localhost:8080/"
        },
        "outputId": "08cb8ce0-4b58-4851-f825-1261c78467bb"
      },
      "source": [
        "from tensorflow.keras.preprocessing.text import Tokenizer\n",
        "\n",
        "text = '평생 살 것처럼 꿈을 꾸어라. 그리고 내일 죽을 것처럼 오늘을 살아라.'\n",
        "\n",
        "t = Tokenizer()\n",
        "t.fit_on_texts([text])\n",
        "print(t.word_index)\n",
        "\n",
        "encoded = t.texts_to_sequences([text])[0]\n",
        "print(encoded)"
      ],
      "execution_count": 3,
      "outputs": [
        {
          "output_type": "stream",
          "name": "stdout",
          "text": [
            "{'것처럼': 1, '평생': 2, '살': 3, '꿈을': 4, '꾸어라': 5, '그리고': 6, '내일': 7, '죽을': 8, '오늘을': 9, '살아라': 10}\n",
            "[2, 3, 1, 4, 5, 6, 7, 8, 1, 9, 10]\n"
          ]
        }
      ]
    },
    {
      "cell_type": "markdown",
      "metadata": {
        "id": "2TDrAJL-KEt8"
      },
      "source": [
        "### 원 핫 인코딩(One-Hot Encoding)"
      ]
    },
    {
      "cell_type": "markdown",
      "metadata": {
        "id": "2zA6x8FbmeqS"
      },
      "source": [
        "#### 조건문과 반복문을 이용한 원 핫 인코딩"
      ]
    },
    {
      "cell_type": "markdown",
      "metadata": {
        "id": "IKGnvTw7RFf5"
      },
      "source": [
        "* 원 핫 인코딩은 정수 인코딩한 결과를 벡터로 변환한 인코딩\n",
        "* 원 핫 인코딩은 전체 단어 개수 만큼의 길이를 가진 배열에 해당 정수를 가진 위치는 1, 나머지는 0을 가진 벡터로 변환   "
      ]
    },
    {
      "cell_type": "code",
      "metadata": {
        "id": "MlHc9XXERFla",
        "colab": {
          "base_uri": "https://localhost:8080/"
        },
        "outputId": "bb8cab1a-9fb2-4955-e101-995822c2d5e9"
      },
      "source": [
        "import numpy as np\n",
        "\n",
        "one_hot = []\n",
        "for i in range(len(encoded)):\n",
        "  temp = []\n",
        "  for j in range(max(encoded)):\n",
        "    if j == (encoded[i] - 1):\n",
        "      temp.append(1)\n",
        "    else:\n",
        "      temp.append(0)\n",
        "  one_hot.append(temp)\n",
        "\n",
        "np.array(one_hot)"
      ],
      "execution_count": 4,
      "outputs": [
        {
          "output_type": "execute_result",
          "data": {
            "text/plain": [
              "array([[0, 1, 0, 0, 0, 0, 0, 0, 0, 0],\n",
              "       [0, 0, 1, 0, 0, 0, 0, 0, 0, 0],\n",
              "       [1, 0, 0, 0, 0, 0, 0, 0, 0, 0],\n",
              "       [0, 0, 0, 1, 0, 0, 0, 0, 0, 0],\n",
              "       [0, 0, 0, 0, 1, 0, 0, 0, 0, 0],\n",
              "       [0, 0, 0, 0, 0, 1, 0, 0, 0, 0],\n",
              "       [0, 0, 0, 0, 0, 0, 1, 0, 0, 0],\n",
              "       [0, 0, 0, 0, 0, 0, 0, 1, 0, 0],\n",
              "       [1, 0, 0, 0, 0, 0, 0, 0, 0, 0],\n",
              "       [0, 0, 0, 0, 0, 0, 0, 0, 1, 0],\n",
              "       [0, 0, 0, 0, 0, 0, 0, 0, 0, 1]])"
            ]
          },
          "metadata": {},
          "execution_count": 4
        }
      ]
    },
    {
      "cell_type": "markdown",
      "metadata": {
        "id": "xk_Bna8tmmqS"
      },
      "source": [
        "#### keras를 이용한 원 핫 인코딩"
      ]
    },
    {
      "cell_type": "markdown",
      "metadata": {
        "id": "oxlWLLJfht7i"
      },
      "source": [
        "* `keras`에서는 정수 인코딩을 원 핫 인코딩을 간단하게 변환해주는 `to_categorical()` 함수를 제공 "
      ]
    },
    {
      "cell_type": "code",
      "metadata": {
        "id": "xRJ8frWZiMeS",
        "colab": {
          "base_uri": "https://localhost:8080/"
        },
        "outputId": "b9d19f5a-0529-4e75-a279-10460c79dc14"
      },
      "source": [
        "from tensorflow.keras.utils import to_categorical\n",
        "\n",
        "one_hot = to_categorical(encoded)\n",
        "one_hot"
      ],
      "execution_count": 5,
      "outputs": [
        {
          "output_type": "execute_result",
          "data": {
            "text/plain": [
              "array([[0., 0., 1., 0., 0., 0., 0., 0., 0., 0., 0.],\n",
              "       [0., 0., 0., 1., 0., 0., 0., 0., 0., 0., 0.],\n",
              "       [0., 1., 0., 0., 0., 0., 0., 0., 0., 0., 0.],\n",
              "       [0., 0., 0., 0., 1., 0., 0., 0., 0., 0., 0.],\n",
              "       [0., 0., 0., 0., 0., 1., 0., 0., 0., 0., 0.],\n",
              "       [0., 0., 0., 0., 0., 0., 1., 0., 0., 0., 0.],\n",
              "       [0., 0., 0., 0., 0., 0., 0., 1., 0., 0., 0.],\n",
              "       [0., 0., 0., 0., 0., 0., 0., 0., 1., 0., 0.],\n",
              "       [0., 1., 0., 0., 0., 0., 0., 0., 0., 0., 0.],\n",
              "       [0., 0., 0., 0., 0., 0., 0., 0., 0., 1., 0.],\n",
              "       [0., 0., 0., 0., 0., 0., 0., 0., 0., 0., 1.]], dtype=float32)"
            ]
          },
          "metadata": {},
          "execution_count": 5
        }
      ]
    },
    {
      "cell_type": "markdown",
      "metadata": {
        "id": "0T4R-JlP2-6k"
      },
      "source": [
        "## IMDB 데이터\n",
        "\n",
        "- 인터넷 영화 데이터베이스(Internet Movie Database)\n",
        "\n",
        "- 양극단의 리뷰 5만개로 이루어진 데이터셋\n",
        "  - 훈련데이터: 25,000개\n",
        "  - 테스트데이터 : 25,000개\n",
        "\n",
        "  <img src=\"https://encrypted-tbn0.gstatic.com/images?q=tbn%3AANd9GcQlk-f2SHB6-Vs3RWwIugMctsyEn2QVZWC5KQ&usqp=CAU\">\n",
        "\n",
        "- https://www.imdb.com/interfaces/"
      ]
    },
    {
      "cell_type": "markdown",
      "metadata": {
        "id": "gxmuXi9L3-O2"
      },
      "source": [
        "### module import"
      ]
    },
    {
      "cell_type": "code",
      "metadata": {
        "id": "XrfsUoGS2EVN"
      },
      "source": [
        "from tensorflow.keras.datasets import imdb\n",
        "from tensorflow.keras.models import Sequential\n",
        "from tensorflow.keras.layers import Embedding, Dense, Flatten"
      ],
      "execution_count": 6,
      "outputs": []
    },
    {
      "cell_type": "markdown",
      "metadata": {
        "id": "YyMXXlpY4Ajz"
      },
      "source": [
        "### 데이터 로드"
      ]
    },
    {
      "cell_type": "code",
      "metadata": {
        "id": "wNnbw2tH2EiP"
      },
      "source": [
        "num_words = 1000\n",
        "\n",
        "(x_train, y_train), (x_test, y_test) = imdb.load_data(num_words=num_words)"
      ],
      "execution_count": 7,
      "outputs": []
    },
    {
      "cell_type": "code",
      "metadata": {
        "id": "OGnkPs_U2Ezk",
        "colab": {
          "base_uri": "https://localhost:8080/"
        },
        "outputId": "916a0ed2-d28e-4db7-d991-fae16110c69b"
      },
      "source": [
        "print(x_train.shape)\n",
        "print(y_train.shape)\n",
        "print(x_test.shape)\n",
        "print(y_test.shape)"
      ],
      "execution_count": 8,
      "outputs": [
        {
          "output_type": "stream",
          "name": "stdout",
          "text": [
            "(25000,)\n",
            "(25000,)\n",
            "(25000,)\n",
            "(25000,)\n"
          ]
        }
      ]
    },
    {
      "cell_type": "markdown",
      "metadata": {
        "id": "bvtDvmuX4_JB"
      },
      "source": [
        "### 데이터 확인\n",
        "- 긍정: 1\n",
        "- 부정: 0"
      ]
    },
    {
      "cell_type": "code",
      "metadata": {
        "id": "wFruX-Vp2ExJ",
        "colab": {
          "base_uri": "https://localhost:8080/"
        },
        "outputId": "330b5cd3-a603-43ea-e198-f8899e297c84"
      },
      "source": [
        "print(x_train[0])\n",
        "print(y_train[0])"
      ],
      "execution_count": 9,
      "outputs": [
        {
          "output_type": "stream",
          "name": "stdout",
          "text": [
            "[1, 14, 22, 16, 43, 530, 973, 2, 2, 65, 458, 2, 66, 2, 4, 173, 36, 256, 5, 25, 100, 43, 838, 112, 50, 670, 2, 9, 35, 480, 284, 5, 150, 4, 172, 112, 167, 2, 336, 385, 39, 4, 172, 2, 2, 17, 546, 38, 13, 447, 4, 192, 50, 16, 6, 147, 2, 19, 14, 22, 4, 2, 2, 469, 4, 22, 71, 87, 12, 16, 43, 530, 38, 76, 15, 13, 2, 4, 22, 17, 515, 17, 12, 16, 626, 18, 2, 5, 62, 386, 12, 8, 316, 8, 106, 5, 4, 2, 2, 16, 480, 66, 2, 33, 4, 130, 12, 16, 38, 619, 5, 25, 124, 51, 36, 135, 48, 25, 2, 33, 6, 22, 12, 215, 28, 77, 52, 5, 14, 407, 16, 82, 2, 8, 4, 107, 117, 2, 15, 256, 4, 2, 7, 2, 5, 723, 36, 71, 43, 530, 476, 26, 400, 317, 46, 7, 4, 2, 2, 13, 104, 88, 4, 381, 15, 297, 98, 32, 2, 56, 26, 141, 6, 194, 2, 18, 4, 226, 22, 21, 134, 476, 26, 480, 5, 144, 30, 2, 18, 51, 36, 28, 224, 92, 25, 104, 4, 226, 65, 16, 38, 2, 88, 12, 16, 283, 5, 16, 2, 113, 103, 32, 15, 16, 2, 19, 178, 32]\n",
            "1\n"
          ]
        }
      ]
    },
    {
      "cell_type": "code",
      "metadata": {
        "id": "xSZ37jXC5qoj",
        "colab": {
          "base_uri": "https://localhost:8080/"
        },
        "outputId": "c27d95eb-8ca5-4871-b627-0227a3547c67"
      },
      "source": [
        "for i in range(5):\n",
        "  if y_train[i] == 0:\n",
        "    label = '부정'\n",
        "  else:\n",
        "    label = '긍정'\n",
        "  print(\"{}\\n{}\\n{}\\n\".format(i, x_train[i], label))"
      ],
      "execution_count": 10,
      "outputs": [
        {
          "output_type": "stream",
          "name": "stdout",
          "text": [
            "0\n",
            "[1, 14, 22, 16, 43, 530, 973, 2, 2, 65, 458, 2, 66, 2, 4, 173, 36, 256, 5, 25, 100, 43, 838, 112, 50, 670, 2, 9, 35, 480, 284, 5, 150, 4, 172, 112, 167, 2, 336, 385, 39, 4, 172, 2, 2, 17, 546, 38, 13, 447, 4, 192, 50, 16, 6, 147, 2, 19, 14, 22, 4, 2, 2, 469, 4, 22, 71, 87, 12, 16, 43, 530, 38, 76, 15, 13, 2, 4, 22, 17, 515, 17, 12, 16, 626, 18, 2, 5, 62, 386, 12, 8, 316, 8, 106, 5, 4, 2, 2, 16, 480, 66, 2, 33, 4, 130, 12, 16, 38, 619, 5, 25, 124, 51, 36, 135, 48, 25, 2, 33, 6, 22, 12, 215, 28, 77, 52, 5, 14, 407, 16, 82, 2, 8, 4, 107, 117, 2, 15, 256, 4, 2, 7, 2, 5, 723, 36, 71, 43, 530, 476, 26, 400, 317, 46, 7, 4, 2, 2, 13, 104, 88, 4, 381, 15, 297, 98, 32, 2, 56, 26, 141, 6, 194, 2, 18, 4, 226, 22, 21, 134, 476, 26, 480, 5, 144, 30, 2, 18, 51, 36, 28, 224, 92, 25, 104, 4, 226, 65, 16, 38, 2, 88, 12, 16, 283, 5, 16, 2, 113, 103, 32, 15, 16, 2, 19, 178, 32]\n",
            "긍정\n",
            "\n",
            "1\n",
            "[1, 194, 2, 194, 2, 78, 228, 5, 6, 2, 2, 2, 134, 26, 4, 715, 8, 118, 2, 14, 394, 20, 13, 119, 954, 189, 102, 5, 207, 110, 2, 21, 14, 69, 188, 8, 30, 23, 7, 4, 249, 126, 93, 4, 114, 9, 2, 2, 5, 647, 4, 116, 9, 35, 2, 4, 229, 9, 340, 2, 4, 118, 9, 4, 130, 2, 19, 4, 2, 5, 89, 29, 952, 46, 37, 4, 455, 9, 45, 43, 38, 2, 2, 398, 4, 2, 26, 2, 5, 163, 11, 2, 2, 4, 2, 9, 194, 775, 7, 2, 2, 349, 2, 148, 605, 2, 2, 15, 123, 125, 68, 2, 2, 15, 349, 165, 2, 98, 5, 4, 228, 9, 43, 2, 2, 15, 299, 120, 5, 120, 174, 11, 220, 175, 136, 50, 9, 2, 228, 2, 5, 2, 656, 245, 2, 5, 4, 2, 131, 152, 491, 18, 2, 32, 2, 2, 14, 9, 6, 371, 78, 22, 625, 64, 2, 9, 8, 168, 145, 23, 4, 2, 15, 16, 4, 2, 5, 28, 6, 52, 154, 462, 33, 89, 78, 285, 16, 145, 95]\n",
            "부정\n",
            "\n",
            "2\n",
            "[1, 14, 47, 8, 30, 31, 7, 4, 249, 108, 7, 4, 2, 54, 61, 369, 13, 71, 149, 14, 22, 112, 4, 2, 311, 12, 16, 2, 33, 75, 43, 2, 296, 4, 86, 320, 35, 534, 19, 263, 2, 2, 4, 2, 33, 89, 78, 12, 66, 16, 4, 360, 7, 4, 58, 316, 334, 11, 4, 2, 43, 645, 662, 8, 257, 85, 2, 42, 2, 2, 83, 68, 2, 15, 36, 165, 2, 278, 36, 69, 2, 780, 8, 106, 14, 2, 2, 18, 6, 22, 12, 215, 28, 610, 40, 6, 87, 326, 23, 2, 21, 23, 22, 12, 272, 40, 57, 31, 11, 4, 22, 47, 6, 2, 51, 9, 170, 23, 595, 116, 595, 2, 13, 191, 79, 638, 89, 2, 14, 9, 8, 106, 607, 624, 35, 534, 6, 227, 7, 129, 113]\n",
            "부정\n",
            "\n",
            "3\n",
            "[1, 4, 2, 2, 33, 2, 4, 2, 432, 111, 153, 103, 4, 2, 13, 70, 131, 67, 11, 61, 2, 744, 35, 2, 761, 61, 2, 452, 2, 4, 985, 7, 2, 59, 166, 4, 105, 216, 2, 41, 2, 9, 15, 7, 35, 744, 2, 31, 8, 4, 687, 23, 4, 2, 2, 6, 2, 42, 38, 39, 121, 59, 456, 10, 10, 7, 265, 12, 575, 111, 153, 159, 59, 16, 2, 21, 25, 586, 482, 39, 4, 96, 59, 716, 12, 4, 172, 65, 9, 579, 11, 2, 4, 2, 5, 2, 7, 2, 17, 13, 2, 12, 19, 6, 464, 31, 314, 11, 2, 6, 719, 605, 11, 8, 202, 27, 310, 4, 2, 2, 8, 2, 58, 10, 10, 537, 2, 180, 40, 14, 413, 173, 7, 263, 112, 37, 152, 377, 4, 537, 263, 846, 579, 178, 54, 75, 71, 476, 36, 413, 263, 2, 182, 5, 17, 75, 2, 922, 36, 279, 131, 2, 17, 2, 42, 17, 35, 921, 2, 192, 5, 2, 2, 19, 2, 217, 2, 2, 537, 2, 2, 5, 736, 10, 10, 61, 403, 9, 2, 40, 61, 2, 5, 27, 2, 159, 90, 263, 2, 2, 309, 8, 178, 5, 82, 2, 4, 65, 15, 2, 145, 143, 2, 12, 2, 537, 746, 537, 537, 15, 2, 4, 2, 594, 7, 2, 94, 2, 2, 2, 11, 2, 4, 538, 7, 2, 246, 2, 9, 2, 11, 635, 14, 9, 51, 408, 12, 94, 318, 2, 12, 47, 6, 2, 936, 5, 2, 2, 19, 49, 7, 4, 2, 2, 2, 25, 80, 126, 842, 10, 10, 2, 2, 2, 27, 2, 11, 2, 2, 159, 27, 341, 29, 2, 19, 2, 173, 7, 90, 2, 8, 30, 11, 4, 2, 86, 2, 8, 2, 46, 11, 2, 21, 29, 9, 2, 23, 4, 2, 2, 793, 6, 2, 2, 2, 10, 10, 246, 50, 9, 6, 2, 2, 746, 90, 29, 2, 8, 124, 4, 882, 4, 882, 496, 27, 2, 2, 537, 121, 127, 2, 130, 5, 29, 494, 8, 124, 4, 882, 496, 4, 341, 7, 27, 846, 10, 10, 29, 9, 2, 8, 97, 6, 236, 2, 2, 8, 4, 2, 7, 31, 7, 2, 91, 2, 2, 70, 4, 882, 30, 579, 42, 9, 12, 32, 11, 537, 10, 10, 11, 14, 65, 44, 537, 75, 2, 2, 2, 2, 2, 4, 2, 7, 154, 5, 4, 518, 53, 2, 2, 7, 2, 882, 11, 399, 38, 75, 257, 2, 19, 2, 17, 29, 456, 4, 65, 7, 27, 205, 113, 10, 10, 2, 4, 2, 2, 9, 242, 4, 91, 2, 2, 5, 2, 307, 22, 7, 2, 126, 93, 40, 2, 13, 188, 2, 2, 19, 4, 2, 7, 2, 537, 23, 53, 537, 21, 82, 40, 2, 13, 2, 14, 280, 13, 219, 4, 2, 431, 758, 859, 4, 953, 2, 2, 7, 2, 5, 94, 40, 25, 238, 60, 2, 4, 2, 804, 2, 7, 4, 2, 132, 8, 67, 6, 22, 15, 9, 283, 8, 2, 14, 31, 9, 242, 955, 48, 25, 279, 2, 23, 12, 2, 195, 25, 238, 60, 796, 2, 4, 671, 7, 2, 5, 4, 559, 154, 888, 7, 726, 50, 26, 49, 2, 15, 566, 30, 579, 21, 64, 2]\n",
            "긍정\n",
            "\n",
            "4\n",
            "[1, 249, 2, 7, 61, 113, 10, 10, 13, 2, 14, 20, 56, 33, 2, 18, 457, 88, 13, 2, 2, 45, 2, 13, 70, 79, 49, 706, 919, 13, 16, 355, 340, 355, 2, 96, 143, 4, 22, 32, 289, 7, 61, 369, 71, 2, 5, 13, 16, 131, 2, 249, 114, 249, 229, 249, 20, 13, 28, 126, 110, 13, 473, 8, 569, 61, 419, 56, 429, 6, 2, 18, 35, 534, 95, 474, 570, 5, 25, 124, 138, 88, 12, 421, 2, 52, 725, 2, 61, 419, 11, 13, 2, 15, 2, 20, 11, 4, 2, 5, 296, 12, 2, 5, 15, 421, 128, 74, 233, 334, 207, 126, 224, 12, 562, 298, 2, 2, 7, 2, 5, 516, 988, 43, 8, 79, 120, 15, 595, 13, 784, 25, 2, 18, 165, 170, 143, 19, 14, 5, 2, 6, 226, 251, 7, 61, 113]\n",
            "부정\n",
            "\n"
          ]
        }
      ]
    },
    {
      "cell_type": "markdown",
      "metadata": {
        "id": "izJKnVgY7NWl"
      },
      "source": [
        "### 데이터 전처리\n",
        "- 모든 데이터를 같은 길이로 맞추기\n",
        "\n",
        "  - `pad_sequence()`\n",
        "    - 데이터가 maxlen보다 길면 데이터를 자름\n",
        "\n",
        "    - 데이터가 길면 `padding` 설정\n",
        "      - `pre`: 데이터 앞에 0으로 채움\n",
        "      -  `post`: 데이터 뒤에 0으로 채움\n",
        "\n",
        "\n",
        "- 모든 데이터(문장 하나하나)가 같은 길이로 맞추어야 `Embedding` 레이어를 사용할 수 있음"
      ]
    },
    {
      "cell_type": "code",
      "metadata": {
        "id": "took47l5e8xi"
      },
      "source": [
        "from tensorflow.keras.preprocessing.sequence import pad_sequences"
      ],
      "execution_count": 11,
      "outputs": []
    },
    {
      "cell_type": "code",
      "metadata": {
        "id": "oAF2ZRV32Eup"
      },
      "source": [
        "max_len = 100\n",
        "\n",
        "pad_x_train = pad_sequences(x_train, maxlen=max_len, padding='pre') # pre 는 앞을 채우는것\n",
        "pad_x_test = pad_sequences(x_test, maxlen=max_len, padding='pre') \n"
      ],
      "execution_count": 12,
      "outputs": []
    },
    {
      "cell_type": "code",
      "metadata": {
        "id": "NOEVDkuD2EqT",
        "colab": {
          "base_uri": "https://localhost:8080/"
        },
        "outputId": "1522b37c-bb13-4191-8450-fff3a0e26dbb"
      },
      "source": [
        "print(len(x_train[5]),len(pad_x_train[5]))"
      ],
      "execution_count": 13,
      "outputs": [
        {
          "output_type": "stream",
          "name": "stdout",
          "text": [
            "43 100\n"
          ]
        }
      ]
    },
    {
      "cell_type": "code",
      "metadata": {
        "id": "nwpMCUb92Eoe",
        "colab": {
          "base_uri": "https://localhost:8080/"
        },
        "outputId": "2f42ba58-dbef-4dcf-a782-eb4efffe3c22"
      },
      "source": [
        "print(x_train[5])\n",
        "print(pad_x_train[5])"
      ],
      "execution_count": 14,
      "outputs": [
        {
          "output_type": "stream",
          "name": "stdout",
          "text": [
            "[1, 778, 128, 74, 12, 630, 163, 15, 4, 2, 2, 2, 2, 32, 85, 156, 45, 40, 148, 139, 121, 664, 665, 10, 10, 2, 173, 4, 749, 2, 16, 2, 8, 4, 226, 65, 12, 43, 127, 24, 2, 10, 10]\n",
            "[  0   0   0   0   0   0   0   0   0   0   0   0   0   0   0   0   0   0\n",
            "   0   0   0   0   0   0   0   0   0   0   0   0   0   0   0   0   0   0\n",
            "   0   0   0   0   0   0   0   0   0   0   0   0   0   0   0   0   0   0\n",
            "   0   0   0   1 778 128  74  12 630 163  15   4   2   2   2   2  32  85\n",
            " 156  45  40 148 139 121 664 665  10  10   2 173   4 749   2  16   2   8\n",
            "   4 226  65  12  43 127  24   2  10  10]\n"
          ]
        }
      ]
    },
    {
      "cell_type": "markdown",
      "metadata": {
        "id": "iVSjFumg-TBt"
      },
      "source": [
        "### 모델 구성"
      ]
    },
    {
      "cell_type": "code",
      "metadata": {
        "id": "RF9sFjn62El8",
        "colab": {
          "base_uri": "https://localhost:8080/"
        },
        "outputId": "b1fc2168-b4b9-4f18-b505-54bdedd10a7e"
      },
      "source": [
        "model = Sequential()\n",
        "\n",
        "model.add(Embedding(input_dim=num_words, output_dim=32, \n",
        "                    input_length=max_len))\n",
        "\n",
        "model.add(Flatten())\n",
        "model.add(Dense(1, activation='sigmoid'))\n",
        "\n",
        "model.summary()\n"
      ],
      "execution_count": 15,
      "outputs": [
        {
          "output_type": "stream",
          "name": "stdout",
          "text": [
            "Model: \"sequential\"\n",
            "_________________________________________________________________\n",
            "Layer (type)                 Output Shape              Param #   \n",
            "=================================================================\n",
            "embedding (Embedding)        (None, 100, 32)           32000     \n",
            "_________________________________________________________________\n",
            "flatten (Flatten)            (None, 3200)              0         \n",
            "_________________________________________________________________\n",
            "dense (Dense)                (None, 1)                 3201      \n",
            "=================================================================\n",
            "Total params: 35,201\n",
            "Trainable params: 35,201\n",
            "Non-trainable params: 0\n",
            "_________________________________________________________________\n"
          ]
        }
      ]
    },
    {
      "cell_type": "markdown",
      "metadata": {
        "id": "H1VqPWEa-m9i"
      },
      "source": [
        "### 모델 컴파일 및 학습"
      ]
    },
    {
      "cell_type": "code",
      "metadata": {
        "id": "CEXe_6de2EcK"
      },
      "source": [
        "model.compile(optimizer='rmsprop',\n",
        "              loss='binary_crossentropy',\n",
        "              metrics=['acc'])"
      ],
      "execution_count": 16,
      "outputs": []
    },
    {
      "cell_type": "code",
      "metadata": {
        "id": "Xr3pegjQ2Eal",
        "colab": {
          "base_uri": "https://localhost:8080/"
        },
        "outputId": "bf84dc07-d3e3-4495-e9c8-380a6b9dd64b"
      },
      "source": [
        "history = model.fit(pad_x_train, y_train,\n",
        "                    epochs=10,\n",
        "                    batch_size=32,\n",
        "                    validation_split=0.2)"
      ],
      "execution_count": 17,
      "outputs": [
        {
          "output_type": "stream",
          "name": "stdout",
          "text": [
            "Epoch 1/10\n",
            "625/625 [==============================] - 4s 5ms/step - loss: 0.5611 - acc: 0.7126 - val_loss: 0.4177 - val_acc: 0.8066\n",
            "Epoch 2/10\n",
            "625/625 [==============================] - 3s 5ms/step - loss: 0.3735 - acc: 0.8364 - val_loss: 0.3811 - val_acc: 0.8250\n",
            "Epoch 3/10\n",
            "625/625 [==============================] - 3s 5ms/step - loss: 0.3375 - acc: 0.8539 - val_loss: 0.3839 - val_acc: 0.8256\n",
            "Epoch 4/10\n",
            "625/625 [==============================] - 3s 5ms/step - loss: 0.3085 - acc: 0.8709 - val_loss: 0.3854 - val_acc: 0.8218\n",
            "Epoch 5/10\n",
            "625/625 [==============================] - 3s 5ms/step - loss: 0.2772 - acc: 0.8882 - val_loss: 0.3942 - val_acc: 0.8212\n",
            "Epoch 6/10\n",
            "625/625 [==============================] - 3s 5ms/step - loss: 0.2441 - acc: 0.9058 - val_loss: 0.4091 - val_acc: 0.8178\n",
            "Epoch 7/10\n",
            "625/625 [==============================] - 3s 5ms/step - loss: 0.2105 - acc: 0.9229 - val_loss: 0.4220 - val_acc: 0.8134\n",
            "Epoch 8/10\n",
            "625/625 [==============================] - 3s 5ms/step - loss: 0.1778 - acc: 0.9406 - val_loss: 0.4420 - val_acc: 0.8078\n",
            "Epoch 9/10\n",
            "625/625 [==============================] - 3s 5ms/step - loss: 0.1471 - acc: 0.9539 - val_loss: 0.4688 - val_acc: 0.8042\n",
            "Epoch 10/10\n",
            "625/625 [==============================] - 3s 5ms/step - loss: 0.1202 - acc: 0.9676 - val_loss: 0.4905 - val_acc: 0.7984\n"
          ]
        }
      ]
    },
    {
      "cell_type": "markdown",
      "metadata": {
        "id": "lflm7be5gdeg"
      },
      "source": [
        "레귤레이션이 전혀 없기 때문에 오버 핏이 될수 밖에 없다. "
      ]
    },
    {
      "cell_type": "markdown",
      "metadata": {
        "id": "-gNKkWKP_3c0"
      },
      "source": [
        "### 시각화"
      ]
    },
    {
      "cell_type": "code",
      "metadata": {
        "id": "PYKPQO1B_-EJ"
      },
      "source": [
        "import matplotlib.pyplot as plt\n",
        "plt.style.use('seaborn-white')"
      ],
      "execution_count": 18,
      "outputs": []
    },
    {
      "cell_type": "code",
      "metadata": {
        "id": "vMP67mYsAQ9q",
        "colab": {
          "base_uri": "https://localhost:8080/"
        },
        "outputId": "f80484ca-ecd4-4742-d7bd-59a816cb2ca0"
      },
      "source": [
        "hist_dict = history.history\n",
        "hist_dict.keys()"
      ],
      "execution_count": 19,
      "outputs": [
        {
          "output_type": "execute_result",
          "data": {
            "text/plain": [
              "dict_keys(['loss', 'acc', 'val_loss', 'val_acc'])"
            ]
          },
          "metadata": {},
          "execution_count": 19
        }
      ]
    },
    {
      "cell_type": "code",
      "metadata": {
        "id": "d_EjuJva_4YP",
        "colab": {
          "base_uri": "https://localhost:8080/",
          "height": 507
        },
        "outputId": "3146bb39-8062-4ed5-9684-00fef94729c2"
      },
      "source": [
        "plt.plot(hist_dict['loss'], 'b-', label='Train Loss')\n",
        "plt.plot(hist_dict['val_loss'], 'r:', label='Validation Loss')\n",
        "plt.legend()\n",
        "plt.grid()\n",
        "\n",
        "plt.figure()\n",
        "plt.plot(hist_dict['acc'], 'b-', label='Train Acc')\n",
        "plt.plot(hist_dict['val_acc'], 'r:', label='Validation Acc')\n",
        "plt.legend()\n",
        "plt.grid()"
      ],
      "execution_count": 20,
      "outputs": [
        {
          "output_type": "display_data",
          "data": {
            "image/png": "[encoded data removed]",
            "text/plain": [
              "<Figure size 432x288 with 1 Axes>"
            ]
          },
          "metadata": {}
        },
        {
          "output_type": "display_data",
          "data": {
            "image/png": "[encoded data removed]",
            "text/plain": [
              "<Figure size 432x288 with 1 Axes>"
            ]
          },
          "metadata": {}
        }
      ]
    },
    {
      "cell_type": "markdown",
      "metadata": {
        "id": "3GtELilA_avO"
      },
      "source": [
        "### 모델 평가"
      ]
    },
    {
      "cell_type": "code",
      "metadata": {
        "id": "_U0Dz9je2ESh",
        "colab": {
          "base_uri": "https://localhost:8080/"
        },
        "outputId": "2ee71409-8134-4f2e-dbd2-f94ea7698e53"
      },
      "source": [
        "model.evaluate(pad_x_test, y_test)"
      ],
      "execution_count": 21,
      "outputs": [
        {
          "output_type": "stream",
          "name": "stdout",
          "text": [
            "782/782 [==============================] - 2s 3ms/step - loss: 0.4909 - acc: 0.8045\n"
          ]
        },
        {
          "output_type": "execute_result",
          "data": {
            "text/plain": [
              "[0.4908616840839386, 0.8044800162315369]"
            ]
          },
          "metadata": {},
          "execution_count": 21
        }
      ]
    },
    {
      "cell_type": "markdown",
      "metadata": {
        "id": "6aJqudd0AwGa"
      },
      "source": [
        "### 단어의 수를 늘린 후 재학습"
      ]
    },
    {
      "cell_type": "code",
      "metadata": {
        "id": "C1itQHMDA1hn"
      },
      "source": [
        "num_words=2000\n",
        "max_len=400\n",
        "\n",
        "(x_train, y_train), (x_test, y_test) = imdb.load_data(num_words=num_words)\n",
        "pad_x_train2 = pad_sequences(x_train, maxlen=max_len, padding='pre')\n",
        "pad_x_test2 = pad_sequences(x_test, maxlen=max_len, padding='pre')"
      ],
      "execution_count": 22,
      "outputs": []
    },
    {
      "cell_type": "markdown",
      "metadata": {
        "id": "e2WL_yueBibH"
      },
      "source": [
        "데이터 확인"
      ]
    },
    {
      "cell_type": "code",
      "metadata": {
        "id": "AydBwyBMA1ku",
        "colab": {
          "base_uri": "https://localhost:8080/"
        },
        "outputId": "a737ae40-f606-4c02-fdd1-639d6b3e3ee6"
      },
      "source": [
        "print(x_train[0])\n",
        "print(pad_x_train2[0])"
      ],
      "execution_count": 23,
      "outputs": [
        {
          "output_type": "stream",
          "name": "stdout",
          "text": [
            "[1, 14, 22, 16, 43, 530, 973, 1622, 1385, 65, 458, 2, 66, 2, 4, 173, 36, 256, 5, 25, 100, 43, 838, 112, 50, 670, 2, 9, 35, 480, 284, 5, 150, 4, 172, 112, 167, 2, 336, 385, 39, 4, 172, 2, 1111, 17, 546, 38, 13, 447, 4, 192, 50, 16, 6, 147, 2, 19, 14, 22, 4, 1920, 2, 469, 4, 22, 71, 87, 12, 16, 43, 530, 38, 76, 15, 13, 1247, 4, 22, 17, 515, 17, 12, 16, 626, 18, 2, 5, 62, 386, 12, 8, 316, 8, 106, 5, 4, 2, 2, 16, 480, 66, 2, 33, 4, 130, 12, 16, 38, 619, 5, 25, 124, 51, 36, 135, 48, 25, 1415, 33, 6, 22, 12, 215, 28, 77, 52, 5, 14, 407, 16, 82, 2, 8, 4, 107, 117, 2, 15, 256, 4, 2, 7, 2, 5, 723, 36, 71, 43, 530, 476, 26, 400, 317, 46, 7, 4, 2, 1029, 13, 104, 88, 4, 381, 15, 297, 98, 32, 2, 56, 26, 141, 6, 194, 2, 18, 4, 226, 22, 21, 134, 476, 26, 480, 5, 144, 30, 2, 18, 51, 36, 28, 224, 92, 25, 104, 4, 226, 65, 16, 38, 1334, 88, 12, 16, 283, 5, 16, 2, 113, 103, 32, 15, 16, 2, 19, 178, 32]\n",
            "[   0    0    0    0    0    0    0    0    0    0    0    0    0    0\n",
            "    0    0    0    0    0    0    0    0    0    0    0    0    0    0\n",
            "    0    0    0    0    0    0    0    0    0    0    0    0    0    0\n",
            "    0    0    0    0    0    0    0    0    0    0    0    0    0    0\n",
            "    0    0    0    0    0    0    0    0    0    0    0    0    0    0\n",
            "    0    0    0    0    0    0    0    0    0    0    0    0    0    0\n",
            "    0    0    0    0    0    0    0    0    0    0    0    0    0    0\n",
            "    0    0    0    0    0    0    0    0    0    0    0    0    0    0\n",
            "    0    0    0    0    0    0    0    0    0    0    0    0    0    0\n",
            "    0    0    0    0    0    0    0    0    0    0    0    0    0    0\n",
            "    0    0    0    0    0    0    0    0    0    0    0    0    0    0\n",
            "    0    0    0    0    0    0    0    0    0    0    0    0    0    0\n",
            "    0    0    0    0    0    0    0    0    0    0    0    0    0    0\n",
            "    1   14   22   16   43  530  973 1622 1385   65  458    2   66    2\n",
            "    4  173   36  256    5   25  100   43  838  112   50  670    2    9\n",
            "   35  480  284    5  150    4  172  112  167    2  336  385   39    4\n",
            "  172    2 1111   17  546   38   13  447    4  192   50   16    6  147\n",
            "    2   19   14   22    4 1920    2  469    4   22   71   87   12   16\n",
            "   43  530   38   76   15   13 1247    4   22   17  515   17   12   16\n",
            "  626   18    2    5   62  386   12    8  316    8  106    5    4    2\n",
            "    2   16  480   66    2   33    4  130   12   16   38  619    5   25\n",
            "  124   51   36  135   48   25 1415   33    6   22   12  215   28   77\n",
            "   52    5   14  407   16   82    2    8    4  107  117    2   15  256\n",
            "    4    2    7    2    5  723   36   71   43  530  476   26  400  317\n",
            "   46    7    4    2 1029   13  104   88    4  381   15  297   98   32\n",
            "    2   56   26  141    6  194    2   18    4  226   22   21  134  476\n",
            "   26  480    5  144   30    2   18   51   36   28  224   92   25  104\n",
            "    4  226   65   16   38 1334   88   12   16  283    5   16    2  113\n",
            "  103   32   15   16    2   19  178   32]\n"
          ]
        }
      ]
    },
    {
      "cell_type": "code",
      "metadata": {
        "id": "mK2kQxNUA1eB",
        "colab": {
          "base_uri": "https://localhost:8080/"
        },
        "outputId": "4e8e2c65-420d-4587-fd71-341de06d2afe"
      },
      "source": [
        "model = Sequential()\n",
        "\n",
        "model.add(Embedding(input_dim=num_words, output_dim=32, \n",
        "                    input_length=max_len))\n",
        "\n",
        "model.add(Flatten())\n",
        "model.add(Dense(1, activation='sigmoid'))\n",
        "\n",
        "model.summary()"
      ],
      "execution_count": 24,
      "outputs": [
        {
          "output_type": "stream",
          "name": "stdout",
          "text": [
            "Model: \"sequential_1\"\n",
            "_________________________________________________________________\n",
            "Layer (type)                 Output Shape              Param #   \n",
            "=================================================================\n",
            "embedding_1 (Embedding)      (None, 400, 32)           64000     \n",
            "_________________________________________________________________\n",
            "flatten_1 (Flatten)          (None, 12800)             0         \n",
            "_________________________________________________________________\n",
            "dense_1 (Dense)              (None, 1)                 12801     \n",
            "=================================================================\n",
            "Total params: 76,801\n",
            "Trainable params: 76,801\n",
            "Non-trainable params: 0\n",
            "_________________________________________________________________\n"
          ]
        }
      ]
    },
    {
      "cell_type": "code",
      "metadata": {
        "id": "I5BK5HXnBtIN"
      },
      "source": [
        "model.compile(optimizer='rmsprop',\n",
        "              loss='binary_crossentropy',\n",
        "              metrics=['acc'])"
      ],
      "execution_count": 25,
      "outputs": []
    },
    {
      "cell_type": "code",
      "metadata": {
        "id": "odClZim0Bs-O",
        "colab": {
          "base_uri": "https://localhost:8080/"
        },
        "outputId": "2c5ee1b8-9e88-42d6-cfba-90ef0d278b77"
      },
      "source": [
        "history = model.fit(pad_x_train2, y_train,\n",
        "                    epochs=10,\n",
        "                    batch_size=32,\n",
        "                    validation_split=0.2)"
      ],
      "execution_count": 26,
      "outputs": [
        {
          "output_type": "stream",
          "name": "stdout",
          "text": [
            "Epoch 1/10\n",
            "625/625 [==============================] - 4s 5ms/step - loss: 0.5013 - acc: 0.7502 - val_loss: 0.3434 - val_acc: 0.8516\n",
            "Epoch 2/10\n",
            "625/625 [==============================] - 3s 5ms/step - loss: 0.2813 - acc: 0.8843 - val_loss: 0.3030 - val_acc: 0.8746\n",
            "Epoch 3/10\n",
            "625/625 [==============================] - 3s 5ms/step - loss: 0.2277 - acc: 0.9110 - val_loss: 0.3014 - val_acc: 0.8776\n",
            "Epoch 4/10\n",
            "625/625 [==============================] - 3s 5ms/step - loss: 0.1818 - acc: 0.9325 - val_loss: 0.3175 - val_acc: 0.8718\n",
            "Epoch 5/10\n",
            "625/625 [==============================] - 3s 5ms/step - loss: 0.1397 - acc: 0.9523 - val_loss: 0.3302 - val_acc: 0.8762\n",
            "Epoch 6/10\n",
            "625/625 [==============================] - 3s 5ms/step - loss: 0.1030 - acc: 0.9688 - val_loss: 0.3514 - val_acc: 0.8672\n",
            "Epoch 7/10\n",
            "625/625 [==============================] - 3s 5ms/step - loss: 0.0719 - acc: 0.9806 - val_loss: 0.3819 - val_acc: 0.8642\n",
            "Epoch 8/10\n",
            "625/625 [==============================] - 3s 5ms/step - loss: 0.0494 - acc: 0.9886 - val_loss: 0.4167 - val_acc: 0.8576\n",
            "Epoch 9/10\n",
            "625/625 [==============================] - 3s 5ms/step - loss: 0.0324 - acc: 0.9941 - val_loss: 0.4567 - val_acc: 0.8540\n",
            "Epoch 10/10\n",
            "625/625 [==============================] - 3s 5ms/step - loss: 0.0212 - acc: 0.9962 - val_loss: 0.5101 - val_acc: 0.8514\n"
          ]
        }
      ]
    },
    {
      "cell_type": "code",
      "metadata": {
        "id": "rVPTlmjZB--j",
        "colab": {
          "base_uri": "https://localhost:8080/"
        },
        "outputId": "7cf30f79-0103-4961-c997-4c0a1a35f77b"
      },
      "source": [
        "hist_dict = history.history\n",
        "hist_dict.keys()"
      ],
      "execution_count": 27,
      "outputs": [
        {
          "output_type": "execute_result",
          "data": {
            "text/plain": [
              "dict_keys(['loss', 'acc', 'val_loss', 'val_acc'])"
            ]
          },
          "metadata": {},
          "execution_count": 27
        }
      ]
    },
    {
      "cell_type": "code",
      "metadata": {
        "id": "mZ5WbSX_CHUa",
        "colab": {
          "base_uri": "https://localhost:8080/",
          "height": 507
        },
        "outputId": "9689e8fe-dce0-4014-a2bc-9e0c60133c01"
      },
      "source": [
        "plt.plot(hist_dict['loss'], 'b-', label='Train Loss')\n",
        "plt.plot(hist_dict['val_loss'], 'r:', label='Validation Loss')\n",
        "plt.legend()\n",
        "plt.grid()\n",
        "\n",
        "plt.figure()\n",
        "plt.plot(hist_dict['acc'], 'b-', label='Train Acc')\n",
        "plt.plot(hist_dict['val_acc'], 'r:', label='Validation Acc')\n",
        "plt.legend()\n",
        "plt.grid()"
      ],
      "execution_count": 28,
      "outputs": [
        {
          "output_type": "display_data",
          "data": {
            "image/png": "[encoded data removed]",
            "text/plain": [
              "<Figure size 432x288 with 1 Axes>"
            ]
          },
          "metadata": {}
        },
        {
          "output_type": "display_data",
          "data": {
            "image/png": "[encoded data removed]",
            "text/plain": [
              "<Figure size 432x288 with 1 Axes>"
            ]
          },
          "metadata": {}
        }
      ]
    },
    {
      "cell_type": "code",
      "metadata": {
        "id": "H8m-a-e2itqN",
        "colab": {
          "base_uri": "https://localhost:8080/"
        },
        "outputId": "f4437682-5a35-4e31-ab47-63c3a45f486e"
      },
      "source": [
        "model.evaluate(pad_x_test2, y_test)"
      ],
      "execution_count": 29,
      "outputs": [
        {
          "output_type": "stream",
          "name": "stdout",
          "text": [
            "782/782 [==============================] - 2s 3ms/step - loss: 0.5062 - acc: 0.8458\n"
          ]
        },
        {
          "output_type": "execute_result",
          "data": {
            "text/plain": [
              "[0.5061695575714111, 0.8458399772644043]"
            ]
          },
          "metadata": {},
          "execution_count": 29
        }
      ]
    },
    {
      "cell_type": "markdown",
      "metadata": {
        "id": "6I0C5ueK73_g"
      },
      "source": [
        "위의 결과도 나쁘지 않으나 과적합이 되는 이유\n",
        "- 단어간 관계나 문장 구조 등 의미적 연결을 고려하지 않음\n",
        "\n",
        "- 시퀀스 전체를 고려한 특성을 학습하는 것은 `Embedding`층 위에 `RNN`층이나 `1D 합성곱`을 추가하는 것이 좋음\n"
      ]
    },
    {
      "cell_type": "markdown",
      "metadata": {
        "id": "ud_-PnE873_h"
      },
      "source": [
        "## Word2Vec\n",
        "\n",
        "- 2013년, Mikolov 와 동료들이 제안한 모형\n",
        "\n",
        "- 분류 등과 같이 별도의 레이블이 없이 텍스트 자체만 있어도 학습이 가능\n",
        "\n",
        "- Word2Vec의 방식  \n",
        "  주변 단어의 관계를 이용\n",
        "\n",
        "  - CBOW(continuous bag-of-words)\n",
        "    - 주변단어의 임베딩을 더해서 대상단어를 예측\n",
        "\n",
        "  - Skip-Gram\n",
        "    - 대상 단어의 임베딩으로 주변단어를 예측\n",
        "\n",
        "    - 일반적으로 CBOW보다 성능이 좋은 편\n",
        "\n",
        "    - 한번에 여러 단어를 예측해야하기 때문에 비효율적  \n",
        "      최근에는 **negative sampling**이라는 방법을 사용\n",
        "\n",
        "  <img src=\"https://www.researchgate.net/publication/328160770/figure/fig14/AS:679665089925122@1539056193562/CBOW-and-Skip-Gram-neural-architectures.ppm\">\n",
        "\n",
        "  <sub>출처: https://www.researchgate.net/figure/CBOW-and-Skip-Gram-neural-architectures_fig14_328160770</sub>"
      ]
    },
    {
      "cell_type": "markdown",
      "metadata": {
        "id": "QARhfhIt1j4I"
      },
      "source": [
        "## T-SNE"
      ]
    },
    {
      "cell_type": "markdown",
      "metadata": {
        "id": "v9ymcBIKl40u"
      },
      "source": [
        "* T-SNE(t-Stochastic Neighbor Embedding)은 고차원의 벡터들의 구조를 보존하며 저차원으로 사상하는 차원 축소 알고리즘\n",
        "* 단어 임베딩에서도 생성된 고차원 벡터들을 시각화하기 위해 이 T-SNE 알고리즘을 많이 이용\n",
        "\n",
        "* t-sne는 가장 먼저 원 공간의 데이터 유사도 $p_{ij}$와 임베딩 공간의 데이터 유사도 $q_{ij}$를 정의\n",
        "* $x_i$에서 $x_j$ 간의 유사도 $p_{j|i}$ 는 다음과 같이 정의\n",
        "\n",
        "$$ p_{j|i} = \\frac {exp({-|x_i - x_j|}^2 / 2  \\sigma^2_i)}{\\sum_{k \\neq i}exp({-|x_i - x_k|}^2 / 2  \\sigma^2_i)} $$\n",
        "\n",
        "* 설명하자면 $p_{j|i}$는 $x_i$와 $x_j$ 간의 거리에서 가중치 $\\sigma^2_i$로 나눈 후, 이를 negative exponential을 취해 모든 점 간의 거리의 합과 나누어준 값으로 두 점 간의 거리가 가까울 수록 큰 값을 가짐\n",
        "\n",
        "* 또한 임베딩 공간에서의 $y_i$에서 $y_j$ 간의 유사도 $q_{j|i}$ 는 다음과 같이 정의\n",
        "\n",
        "$$ q_{j|i} = \\frac {(1 + |y_i-y_j|^2)^{-1}}{\\sum_{k \\neq l}(1 + |y_i-y_j|^2)^{-1}} $$\n",
        "\n",
        "* $q_{j|i}$는 $x_i$와 $x_j$ 간의 거리에서 1을 더해준 후 역수를 취한 값과 전체 합산 값과 나누어 유사도를 정의\n",
        "\n",
        "* T-SNE의 학습은 $p_{j|i}$와 비슷해지도록 $q_{j|i}$의 위치를 조정하는 것이라고 할 수 있음\n",
        "\n"
      ]
    },
    {
      "cell_type": "markdown",
      "metadata": {
        "id": "d7ocZw5XSRDN"
      },
      "source": [
        "## 데이터 준비"
      ]
    },
    {
      "cell_type": "code",
      "metadata": {
        "id": "ohSE_JnMSRDR",
        "colab": {
          "base_uri": "https://localhost:8080/",
          "height": 321
        },
        "outputId": "d1e43425-98ae-49dc-80d9-49e0d5bc12a3"
      },
      "source": [
        "from sklearn.datasets import fetch_20newsgroups\n",
        "\n",
        "dataset = fetch_20newsgroups(shuffle=True, random_state=1,\n",
        "                             remove=('headers', 'footers', 'quotes'))\n",
        "\n",
        "documents = dataset.data\n",
        "\n",
        "print(len(documents))\n",
        "documents[3]"
      ],
      "execution_count": 30,
      "outputs": [
        {
          "output_type": "stream",
          "name": "stdout",
          "text": [
            "11314\n"
          ]
        },
        {
          "output_type": "execute_result",
          "data": {
            "application/vnd.google.colaboratory.intrinsic+json": {
              "type": "string"
            },
            "text/plain": [
              "'Notwithstanding all the legitimate fuss about this proposal, how much\\nof a change is it?  ATT\\'s last product in this area (a) was priced over\\n$1000, as I suspect \\'clipper\\' phones will be; (b) came to the customer \\nwith the key automatically preregistered with government authorities. Thus,\\naside from attempting to further legitimize and solidify the fed\\'s posture,\\nClipper seems to be \"more of the same\", rather than a new direction.\\n   Yes, technology will eventually drive the cost down and thereby promote\\nmore widespread use- but at present, the man on the street is not going\\nto purchase a $1000 crypto telephone, especially when the guy on the other\\nend probably doesn\\'t have one anyway.  Am I missing something?\\n   The real question is what the gov will do in a year or two when air-\\ntight voice privacy on a phone line is as close as your nearest pc.  That\\nhas got to a problematic scenario for them, even if the extent of usage\\nnever surpasses the \\'underground\\' stature of PGP.'"
            ]
          },
          "metadata": {},
          "execution_count": 30
        }
      ]
    },
    {
      "cell_type": "code",
      "metadata": {
        "id": "E56d3KXroenQ",
        "colab": {
          "base_uri": "https://localhost:8080/"
        },
        "outputId": "a1f386d3-2a16-49cc-b1da-34d2a25a93b4"
      },
      "source": [
        "import re\n",
        "import nltk\n",
        "from nltk.corpus import stopwords\n",
        "from nltk.tokenize import word_tokenize\n",
        "\n",
        "nltk.download('stopwords')\n",
        "nltk.download('punkt')\n",
        "\n",
        "def clean_text(d):\n",
        "  pattern = r'[^a-zA-Z\\s]'\n",
        "  text = re.sub(pattern, '', d)\n",
        "  return text\n",
        "\n",
        "def clean_stopword(d):\n",
        "  stop_words = stopwords.words('english')\n",
        "  return ' '.join([ w.lower() for w in d.split() if w.lower not in stop_words and len(w) > 3])\n",
        "\n",
        "def tokenize(d):\n",
        "  return word_tokenize(d)"
      ],
      "execution_count": 31,
      "outputs": [
        {
          "output_type": "stream",
          "name": "stdout",
          "text": [
            "[nltk_data] Downloading package stopwords to /root/nltk_data...\n",
            "[nltk_data]   Package stopwords is already up-to-date!\n",
            "[nltk_data] Downloading package punkt to /root/nltk_data...\n",
            "[nltk_data]   Package punkt is already up-to-date!\n"
          ]
        }
      ]
    },
    {
      "cell_type": "code",
      "metadata": {
        "id": "QCo9S9RlrfQg",
        "colab": {
          "base_uri": "https://localhost:8080/"
        },
        "outputId": "96e78f71-c0f1-4bdd-afa5-b1a89a1adf5e"
      },
      "source": [
        "import pandas as pd\n",
        "\n",
        "news_df = pd.DataFrame({'article':documents})\n",
        "len(news_df)"
      ],
      "execution_count": 32,
      "outputs": [
        {
          "output_type": "execute_result",
          "data": {
            "text/plain": [
              "11314"
            ]
          },
          "metadata": {},
          "execution_count": 32
        }
      ]
    },
    {
      "cell_type": "code",
      "metadata": {
        "id": "9xzZu6Iprj5B",
        "colab": {
          "base_uri": "https://localhost:8080/"
        },
        "outputId": "66fb632a-cf42-48a1-ebb9-132c70715898"
      },
      "source": [
        "news_df.replace(\"\", float(\"NaN\"), inplace=True)\n",
        "news_df.dropna(inplace=True)\n",
        "len(news_df)"
      ],
      "execution_count": 33,
      "outputs": [
        {
          "output_type": "execute_result",
          "data": {
            "text/plain": [
              "11096"
            ]
          },
          "metadata": {},
          "execution_count": 33
        }
      ]
    },
    {
      "cell_type": "code",
      "metadata": {
        "id": "Oi3PJ7dMsF8K"
      },
      "source": [
        "news_df['article'] = news_df['article'].apply(clean_text)\n",
        "news_df['article'] = news_df['article'].apply(clean_stopword)"
      ],
      "execution_count": 34,
      "outputs": []
    },
    {
      "cell_type": "code",
      "metadata": {
        "id": "ViSra6MYuM9x"
      },
      "source": [
        "tokenized_news = news_df['article'].apply(tokenize)\n",
        "tokenized_news = tokenized_news.to_list()"
      ],
      "execution_count": 35,
      "outputs": []
    },
    {
      "cell_type": "code",
      "metadata": {
        "id": "Z3JgTpVfSRD_",
        "colab": {
          "base_uri": "https://localhost:8080/"
        },
        "outputId": "39afe3dd-adb4-4be1-b430-a9db6de2d1f1"
      },
      "source": [
        "import numpy as np\n",
        "\n",
        "drop_news = [index for index, sentence in enumerate(tokenized_news) if len(sentence) <= 1]\n",
        "news_texts = np.delete(tokenized_news, drop_news, axis=0)\n",
        "\n",
        "print(len(news_texts))"
      ],
      "execution_count": 36,
      "outputs": [
        {
          "output_type": "stream",
          "name": "stdout",
          "text": [
            "10958\n"
          ]
        },
        {
          "output_type": "stream",
          "name": "stderr",
          "text": [
            "/usr/local/lib/python3.7/dist-packages/numpy/core/_asarray.py:83: VisibleDeprecationWarning: Creating an ndarray from ragged nested sequences (which is a list-or-tuple of lists-or-tuples-or ndarrays with different lengths or shapes) is deprecated. If you meant to do this, you must specify 'dtype=object' when creating the ndarray\n",
            "  return array(a, dtype, copy=False, order=order)\n"
          ]
        }
      ]
    },
    {
      "cell_type": "markdown",
      "metadata": {
        "id": "IJ8Zkrar1umI"
      },
      "source": [
        "## Gensim을 이용한 Word2Vec"
      ]
    },
    {
      "cell_type": "markdown",
      "metadata": {
        "id": "-vw3V1fPp88u"
      },
      "source": [
        "### CBOW"
      ]
    },
    {
      "cell_type": "code",
      "metadata": {
        "id": "aByJKUOXp-64"
      },
      "source": [
        "from gensim.models import Word2Vec\n",
        "\n",
        "model = Word2Vec(sentences=news_texts, window=4,\n",
        "                 size = 100, min_count=5, workers=4, sg= 0)\n",
        "\n",
        "# 선언과 동시에 학습도 된다. "
      ],
      "execution_count": 37,
      "outputs": []
    },
    {
      "cell_type": "code",
      "metadata": {
        "id": "u9Qigdn1THXO",
        "colab": {
          "base_uri": "https://localhost:8080/"
        },
        "outputId": "b704beba-ee5e-469a-8c3a-3c6644c836bf"
      },
      "source": [
        "model.wv.similarity('people', 'woman')"
      ],
      "execution_count": 38,
      "outputs": [
        {
          "output_type": "execute_result",
          "data": {
            "text/plain": [
              "0.6769669"
            ]
          },
          "metadata": {},
          "execution_count": 38
        }
      ]
    },
    {
      "cell_type": "code",
      "metadata": {
        "id": "Yp8qBYyITHXd",
        "colab": {
          "base_uri": "https://localhost:8080/"
        },
        "outputId": "22c22491-45d5-43cf-de57-bfd990310419"
      },
      "source": [
        "model.most_similar(positive=['soldiers'])"
      ],
      "execution_count": 39,
      "outputs": [
        {
          "output_type": "stream",
          "name": "stderr",
          "text": [
            "/usr/local/lib/python3.7/dist-packages/ipykernel_launcher.py:1: DeprecationWarning: Call to deprecated `most_similar` (Method will be removed in 4.0.0, use self.wv.most_similar() instead).\n",
            "  \"\"\"Entry point for launching an IPython kernel.\n"
          ]
        },
        {
          "output_type": "execute_result",
          "data": {
            "text/plain": [
              "[('armenians', 0.9779651165008545),\n",
              " ('turks', 0.9778456687927246),\n",
              " ('azerbaijani', 0.9705731868743896),\n",
              " ('villages', 0.9590657949447632),\n",
              " ('azerbaijanis', 0.9586547613143921),\n",
              " ('azeris', 0.9578132033348083),\n",
              " ('land', 0.952915608882904),\n",
              " ('arabs', 0.9516897201538086),\n",
              " ('turkey', 0.9504965543746948),\n",
              " ('killed', 0.9497114419937134)]"
            ]
          },
          "metadata": {},
          "execution_count": 39
        }
      ]
    },
    {
      "cell_type": "code",
      "metadata": {
        "id": "eVjZt1u0THX1",
        "colab": {
          "base_uri": "https://localhost:8080/"
        },
        "outputId": "08e9961b-2fa0-451c-a8bd-4ad642fc4b09"
      },
      "source": [
        "model.wv.most_similar(positive=['people','soldiers'], negative=['woman'])"
      ],
      "execution_count": 40,
      "outputs": [
        {
          "output_type": "execute_result",
          "data": {
            "text/plain": [
              "[('children', 0.8155933618545532),\n",
              " ('countries', 0.8122988939285278),\n",
              " ('jews', 0.7998112440109253),\n",
              " ('themselves', 0.7748145461082458),\n",
              " ('women', 0.7694469690322876),\n",
              " ('thousands', 0.7528247833251953),\n",
              " ('guns', 0.7505245208740234),\n",
              " ('those', 0.7450152635574341),\n",
              " ('weapons', 0.7426058053970337),\n",
              " ('civilians', 0.7424588203430176)]"
            ]
          },
          "metadata": {},
          "execution_count": 40
        }
      ]
    },
    {
      "cell_type": "markdown",
      "metadata": {
        "id": "bKUEE4nnp5CR"
      },
      "source": [
        "### Skip-gram"
      ]
    },
    {
      "cell_type": "code",
      "metadata": {
        "id": "lcXY8cG50VuX"
      },
      "source": [
        "from gensim.models import Word2Vec\n",
        "\n",
        "model = Word2Vec(sentences=news_texts, window=4,\n",
        "                 size = 100, min_count=5, workers=4, sg= 1)"
      ],
      "execution_count": 41,
      "outputs": []
    },
    {
      "cell_type": "code",
      "metadata": {
        "id": "BGFj05bES53-",
        "colab": {
          "base_uri": "https://localhost:8080/"
        },
        "outputId": "cfa37ede-2814-4dde-f7bb-205049690dba"
      },
      "source": [
        "model.wv.similarity('people', 'woman')"
      ],
      "execution_count": 42,
      "outputs": [
        {
          "output_type": "execute_result",
          "data": {
            "text/plain": [
              "0.5327936"
            ]
          },
          "metadata": {},
          "execution_count": 42
        }
      ]
    },
    {
      "cell_type": "code",
      "metadata": {
        "id": "s4m5KmQVTAje",
        "colab": {
          "base_uri": "https://localhost:8080/"
        },
        "outputId": "c55e22da-3ffa-4aca-9b81-c5b187013320"
      },
      "source": [
        "model.most_similar(positive=['soldiers'])"
      ],
      "execution_count": 43,
      "outputs": [
        {
          "output_type": "stream",
          "name": "stderr",
          "text": [
            "/usr/local/lib/python3.7/dist-packages/ipykernel_launcher.py:1: DeprecationWarning: Call to deprecated `most_similar` (Method will be removed in 4.0.0, use self.wv.most_similar() instead).\n",
            "  \"\"\"Entry point for launching an IPython kernel.\n"
          ]
        },
        {
          "output_type": "execute_result",
          "data": {
            "text/plain": [
              "[('wounded', 0.927405059337616),\n",
              " ('troops', 0.9174996614456177),\n",
              " ('fleeing', 0.9158144593238831),\n",
              " ('azeri', 0.9126060605049133),\n",
              " ('corpses', 0.9113425612449646),\n",
              " ('escaped', 0.9104976058006287),\n",
              " ('girls', 0.9066661596298218),\n",
              " ('survivors', 0.9022244811058044),\n",
              " ('azerbaijanis', 0.9003828763961792),\n",
              " ('murdered', 0.9001859426498413)]"
            ]
          },
          "metadata": {},
          "execution_count": 43
        }
      ]
    },
    {
      "cell_type": "code",
      "metadata": {
        "id": "0ezmKn03TC3d",
        "colab": {
          "base_uri": "https://localhost:8080/"
        },
        "outputId": "5af8bbb0-6ee0-4d30-a637-fe06500d98fd"
      },
      "source": [
        "model.wv.most_similar(positive=['people','soldiers'], negative=['woman'])"
      ],
      "execution_count": 44,
      "outputs": [
        {
          "output_type": "execute_result",
          "data": {
            "text/plain": [
              "[('civilians', 0.705447793006897),\n",
              " ('parties', 0.6879919767379761),\n",
              " ('countries', 0.6571746468544006),\n",
              " ('germans', 0.6515616178512573),\n",
              " ('jews', 0.6463851928710938),\n",
              " ('individuals', 0.6428693532943726),\n",
              " ('arabs', 0.6381406188011169),\n",
              " ('themselves', 0.6381389498710632),\n",
              " ('massacres', 0.6325777769088745),\n",
              " ('citizens', 0.6323962807655334)]"
            ]
          },
          "metadata": {},
          "execution_count": 44
        }
      ]
    },
    {
      "cell_type": "markdown",
      "metadata": {
        "id": "nrBZX9ZlSw6O"
      },
      "source": [
        "### 임베딩 벡터 시각화"
      ]
    },
    {
      "cell_type": "code",
      "metadata": {
        "id": "gA674OcrStUQ"
      },
      "source": [
        "from gensim.models import KeyedVectors\n",
        "\n",
        "model.wv.save_word2vec_format('news_w2v')"
      ],
      "execution_count": 45,
      "outputs": []
    },
    {
      "cell_type": "markdown",
      "metadata": {
        "id": "8yRepgJTWSte"
      },
      "source": [
        "* metadata.tsv와 tensor.tsv 데이터 생성"
      ]
    },
    {
      "cell_type": "code",
      "metadata": {
        "id": "zrfecS8nS9NE",
        "colab": {
          "base_uri": "https://localhost:8080/"
        },
        "outputId": "4eb4fc6e-ddd0-42b9-bf99-02a05f0bc383"
      },
      "source": [
        "!python -m gensim.scripts.word2vec2tensor -i news_w2v -o news_w2v"
      ],
      "execution_count": 46,
      "outputs": [
        {
          "output_type": "stream",
          "name": "stdout",
          "text": [
            "2021-09-21 09:55:23,430 - word2vec2tensor - INFO - running /usr/local/lib/python3.7/dist-packages/gensim/scripts/word2vec2tensor.py -i news_w2v -o news_w2v\n",
            "2021-09-21 09:55:23,431 - utils_any2vec - INFO - loading projection weights from news_w2v\n",
            "2021-09-21 09:55:25,291 - utils_any2vec - INFO - loaded (17068, 100) matrix from news_w2v\n",
            "2021-09-21 09:55:26,819 - word2vec2tensor - INFO - 2D tensor file saved to news_w2v_tensor.tsv\n",
            "2021-09-21 09:55:26,819 - word2vec2tensor - INFO - Tensor metadata file saved to news_w2v_metadata.tsv\n",
            "2021-09-21 09:55:26,821 - word2vec2tensor - INFO - finished running word2vec2tensor.py\n"
          ]
        }
      ]
    },
    {
      "cell_type": "code",
      "metadata": {
        "id": "9saj56WLW0qT",
        "colab": {
          "base_uri": "https://localhost:8080/"
        },
        "outputId": "729612db-214f-4b02-fc4c-a98241331f68"
      },
      "source": [
        "!ls"
      ],
      "execution_count": 47,
      "outputs": [
        {
          "output_type": "stream",
          "name": "stdout",
          "text": [
            "news_w2v  news_w2v_metadata.tsv  news_w2v_tensor.tsv  sample_data\n"
          ]
        }
      ]
    },
    {
      "cell_type": "code",
      "metadata": {
        "colab": {
          "base_uri": "https://localhost:8080/",
          "height": 39
        },
        "id": "FX06AwvJvQCd",
        "outputId": "05214510-87ff-45c2-b287-b70947ed5a76"
      },
      "source": [
        "from google.colab import files\n",
        "\n",
        "files.download('news_w2v_metadata.tsv')\n",
        "files.download('news_w2v_tensor.tsv')"
      ],
      "execution_count": 48,
      "outputs": [
        {
          "output_type": "display_data",
          "data": {
            "application/javascript": [
              "\n",
              "    async function download(id, filename, size) {\n",
              "      if (!google.colab.kernel.accessAllowed) {\n",
              "        return;\n",
              "      }\n",
              "      const div = document.createElement('div');\n",
              "      const label = document.createElement('label');\n",
              "      label.textContent = `Downloading \"${filename}\": `;\n",
              "      div.appendChild(label);\n",
              "      const progress = document.createElement('progress');\n",
              "      progress.max = size;\n",
              "      div.appendChild(progress);\n",
              "      document.body.appendChild(div);\n",
              "\n",
              "      const buffers = [];\n",
              "      let downloaded = 0;\n",
              "\n",
              "      const channel = await google.colab.kernel.comms.open(id);\n",
              "      // Send a message to notify the kernel that we're ready.\n",
              "      channel.send({})\n",
              "\n",
              "      for await (const message of channel.messages) {\n",
              "        // Send a message to notify the kernel that we're ready.\n",
              "        channel.send({})\n",
              "        if (message.buffers) {\n",
              "          for (const buffer of message.buffers) {\n",
              "            buffers.push(buffer);\n",
              "            downloaded += buffer.byteLength;\n",
              "            progress.value = downloaded;\n",
              "          }\n",
              "        }\n",
              "      }\n",
              "      const blob = new Blob(buffers, {type: 'application/binary'});\n",
              "      const a = document.createElement('a');\n",
              "      a.href = window.URL.createObjectURL(blob);\n",
              "      a.download = filename;\n",
              "      div.appendChild(a);\n",
              "      a.click();\n",
              "      div.remove();\n",
              "    }\n",
              "  "
            ],
            "text/plain": [
              "<IPython.core.display.Javascript object>"
            ]
          },
          "metadata": {}
        },
        {
          "output_type": "display_data",
          "data": {
            "application/javascript": [
              "download(\"download_ecf519b5-053c-44cd-8aa9-a1eadc201760\", \"news_w2v_metadata.tsv\", 145730)"
            ],
            "text/plain": [
              "<IPython.core.display.Javascript object>"
            ]
          },
          "metadata": {}
        },
        {
          "output_type": "display_data",
          "data": {
            "application/javascript": [
              "\n",
              "    async function download(id, filename, size) {\n",
              "      if (!google.colab.kernel.accessAllowed) {\n",
              "        return;\n",
              "      }\n",
              "      const div = document.createElement('div');\n",
              "      const label = document.createElement('label');\n",
              "      label.textContent = `Downloading \"${filename}\": `;\n",
              "      div.appendChild(label);\n",
              "      const progress = document.createElement('progress');\n",
              "      progress.max = size;\n",
              "      div.appendChild(progress);\n",
              "      document.body.appendChild(div);\n",
              "\n",
              "      const buffers = [];\n",
              "      let downloaded = 0;\n",
              "\n",
              "      const channel = await google.colab.kernel.comms.open(id);\n",
              "      // Send a message to notify the kernel that we're ready.\n",
              "      channel.send({})\n",
              "\n",
              "      for await (const message of channel.messages) {\n",
              "        // Send a message to notify the kernel that we're ready.\n",
              "        channel.send({})\n",
              "        if (message.buffers) {\n",
              "          for (const buffer of message.buffers) {\n",
              "            buffers.push(buffer);\n",
              "            downloaded += buffer.byteLength;\n",
              "            progress.value = downloaded;\n",
              "          }\n",
              "        }\n",
              "      }\n",
              "      const blob = new Blob(buffers, {type: 'application/binary'});\n",
              "      const a = document.createElement('a');\n",
              "      a.href = window.URL.createObjectURL(blob);\n",
              "      a.download = filename;\n",
              "      div.appendChild(a);\n",
              "      a.click();\n",
              "      div.remove();\n",
              "    }\n",
              "  "
            ],
            "text/plain": [
              "<IPython.core.display.Javascript object>"
            ]
          },
          "metadata": {}
        },
        {
          "output_type": "display_data",
          "data": {
            "application/javascript": [
              "download(\"download_7055cc71-5cb5-43b6-93e4-743803135481\", \"news_w2v_tensor.tsv\", 19944203)"
            ],
            "text/plain": [
              "<IPython.core.display.Javascript object>"
            ]
          },
          "metadata": {}
        }
      ]
    },
    {
      "cell_type": "markdown",
      "metadata": {
        "id": "P8sJ0hpev4IL"
      },
      "source": [
        "![image.png](data:image/png;base64,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)"
      ]
    },
    {
      "cell_type": "markdown",
      "metadata": {
        "id": "6XuGYxLmxF4d"
      },
      "source": [
        "다운로드한 2개 파일을 이용해서 위에서 시각화가 가능하다. "
      ]
    },
    {
      "cell_type": "markdown",
      "metadata": {
        "id": "nD_aU-YOTEon"
      },
      "source": [
        "* Embedding Projector: https://projector.tensorflow.org/"
      ]
    }
  ]
}