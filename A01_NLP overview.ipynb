{
 "cells": [
  {
   "cell_type": "markdown",
   "id": "6417edc8",
   "metadata": {},
   "source": [
    "<a href='https://github.com/SeWonKwon' ><div> <img src ='https://slid-capture.s3.ap-northeast-2.amazonaws.com/public/image_upload/6556674324ed41a289a354258718280d/964e5a8b-75ad-41fc-ae75-0ca66d06fbc7.png' align='left' /> </div></a>"
   ]
  },
  {
   "cell_type": "markdown",
   "id": "e82e293d",
   "metadata": {},
   "source": [
    "# National Language Processing & Text Analytics"
   ]
  },
  {
   "cell_type": "markdown",
   "id": "4246b42b",
   "metadata": {},
   "source": [
    "* NLP(National Language Processing) : 머신이 인간의 언어를 이해하고 해석\n",
    "* 텍스트 마이닝(Text Mining) : 텍스트 분석은 비정형 텍스트에서 의미 있는 정보를 추출하는 것에 좀 더 중점을 두고 기술이 발전"
   ]
  },
  {
   "cell_type": "markdown",
   "id": "7d8ecf09",
   "metadata": {},
   "source": [
    "* 텍스트분류(Text Classification)\n",
    "\n",
    "* 감성 분석(Sentiment Analysis)\n",
    "\n",
    "* 텍스트 요약(Summarization)\n",
    "\n",
    "* 텍스트 군집화(Clustering)와 유사도 측정"
   ]
  },
  {
   "cell_type": "markdown",
   "id": "c7e50e71",
   "metadata": {},
   "source": [
    "# 텍스트 분석 수행 프로세스"
   ]
  },
  {
   "cell_type": "markdown",
   "id": "1a2cb4c0",
   "metadata": {},
   "source": [
    "1. 텍스트 사전 준비작업(텍스트 전처리)\n",
    "\n",
    "2. 피처 벡터화/추출\n",
    "\n",
    "3. ML 모델 수립 및 학습 / 예측 / 평가"
   ]
  },
  {
   "cell_type": "markdown",
   "id": "1b286274",
   "metadata": {},
   "source": [
    "# 텍스트 사전 준비 작업(텍스트 전처리) - 텍스트 정규화"
   ]
  },
  {
   "cell_type": "code",
   "execution_count": null,
   "id": "dd08a647",
   "metadata": {},
   "outputs": [],
   "source": []
  },
  {
   "cell_type": "code",
   "execution_count": null,
   "id": "3bb93be2",
   "metadata": {},
   "outputs": [],
   "source": []
  },
  {
   "cell_type": "code",
   "execution_count": null,
   "id": "8cd26049",
   "metadata": {},
   "outputs": [],
   "source": []
  },
  {
   "cell_type": "code",
   "execution_count": null,
   "id": "cec9decb",
   "metadata": {},
   "outputs": [],
   "source": []
  },
  {
   "cell_type": "code",
   "execution_count": null,
   "id": "abd06796",
   "metadata": {},
   "outputs": [],
   "source": []
  },
  {
   "cell_type": "code",
   "execution_count": null,
   "id": "260f2b89",
   "metadata": {},
   "outputs": [],
   "source": []
  },
  {
   "cell_type": "code",
   "execution_count": null,
   "id": "0b3735c4",
   "metadata": {},
   "outputs": [],
   "source": []
  },
  {
   "cell_type": "code",
   "execution_count": null,
   "id": "d367b316",
   "metadata": {},
   "outputs": [],
   "source": []
  },
  {
   "cell_type": "code",
   "execution_count": null,
   "id": "58d7b639",
   "metadata": {},
   "outputs": [],
   "source": []
  },
  {
   "cell_type": "code",
   "execution_count": null,
   "id": "ef78b22b",
   "metadata": {},
   "outputs": [],
   "source": []
  },
  {
   "cell_type": "code",
   "execution_count": null,
   "id": "2ae753c8",
   "metadata": {},
   "outputs": [],
   "source": []
  },
  {
   "cell_type": "markdown",
   "id": "d78426ff",
   "metadata": {},
   "source": [
    "**Reference**\n",
    "\n",
    "* <a href='https://github.com/SeWonKwon' ><div> <img src ='https://slid-capture.s3.ap-northeast-2.amazonaws.com/public/image_upload/6556674324ed41a289a354258718280d/964e5a8b-75ad-41fc-ae75-0ca66d06fbc7.png' align='left' /> </div></a>\n",
    "\n",
    "<br>\n",
    "\n",
    "* 파이썬 머신러닝 완벽 가이드, 권철민\n",
    "* [이수안 컴퓨터 연구소](http://suanlab.com/)\n",
    "* https://wikidocs.net/115055"
   ]
  }
 ],
 "metadata": {
  "kernelspec": {
   "display_name": "Python 3 (ipykernel)",
   "language": "python",
   "name": "python3"
  },
  "language_info": {
   "codemirror_mode": {
    "name": "ipython",
    "version": 3
   },
   "file_extension": ".py",
   "mimetype": "text/x-python",
   "name": "python",
   "nbconvert_exporter": "python",
   "pygments_lexer": "ipython3",
   "version": "3.8.11"
  },
  "toc": {
   "base_numbering": 1,
   "nav_menu": {},
   "number_sections": true,
   "sideBar": true,
   "skip_h1_title": false,
   "title_cell": "Table of Contents",
   "title_sidebar": "Contents",
   "toc_cell": false,
   "toc_position": {},
   "toc_section_display": true,
   "toc_window_display": false
  }
 },
 "nbformat": 4,
 "nbformat_minor": 5
}
