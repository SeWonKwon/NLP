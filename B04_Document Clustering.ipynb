{
 "cells": [
  {
   "cell_type": "markdown",
   "id": "7bc94679",
   "metadata": {},
   "source": [
    "<a href='https://github.com/SeWonKwon' ><div> <img src ='https://slid-capture.s3.ap-northeast-2.amazonaws.com/public/image_upload/6556674324ed41a289a354258718280d/964e5a8b-75ad-41fc-ae75-0ca66d06fbc7.png' align='left' /> </div></a>\n"
   ]
  },
  {
   "cell_type": "markdown",
   "id": "dfc7b940",
   "metadata": {},
   "source": [
    "# Document Clustering - Opinion Review 데이터 셋"
   ]
  },
  {
   "cell_type": "markdown",
   "id": "ded40cc4",
   "metadata": {},
   "source": [
    "data source : https://archive.ics.uci.edu/ml/datasets/Opinosis+Opinion+%26frasl%3B+Review"
   ]
  },
  {
   "cell_type": "markdown",
   "id": "717a4b35",
   "metadata": {},
   "source": [
    "## data load\n",
    "\n",
    "위의 UCI 에서 topics 에  txt 파일을 csv로 변환 해둠\n",
    "\n",
    "\n",
    "[변환 githup](https://github.com/SeWonKwon/ML_training/blob/main/UCI/Opinosis_review/01_data%20txt%20to%20csv.ipynb)"
   ]
  },
  {
   "cell_type": "code",
   "execution_count": 1,
   "id": "59ef73ec",
   "metadata": {
    "ExecuteTime": {
     "end_time": "2021-09-16T08:36:15.615223Z",
     "start_time": "2021-09-16T08:36:14.018939Z"
    }
   },
   "outputs": [],
   "source": [
    "import pandas as pd\n",
    "document_df = pd.read_csv('https://raw.githubusercontent.com/SeWonKwon/ML_training/main/UCI/Opinosis_review/data/topics.csv', index_col=0)"
   ]
  },
  {
   "cell_type": "code",
   "execution_count": 2,
   "id": "8651c132",
   "metadata": {
    "ExecuteTime": {
     "end_time": "2021-09-16T08:36:15.630196Z",
     "start_time": "2021-09-16T08:36:15.616224Z"
    }
   },
   "outputs": [
    {
     "data": {
      "text/html": [
       "<div>\n",
       "<style scoped>\n",
       "    .dataframe tbody tr th:only-of-type {\n",
       "        vertical-align: middle;\n",
       "    }\n",
       "\n",
       "    .dataframe tbody tr th {\n",
       "        vertical-align: top;\n",
       "    }\n",
       "\n",
       "    .dataframe thead th {\n",
       "        text-align: right;\n",
       "    }\n",
       "</style>\n",
       "<table border=\"1\" class=\"dataframe\">\n",
       "  <thead>\n",
       "    <tr style=\"text-align: right;\">\n",
       "      <th></th>\n",
       "      <th>filename</th>\n",
       "      <th>opinion_text</th>\n",
       "    </tr>\n",
       "  </thead>\n",
       "  <tbody>\n",
       "    <tr>\n",
       "      <th>0</th>\n",
       "      <td>accuracy_garmin_nuvi_255W_gps</td>\n",
       "      <td>...</td>\n",
       "    </tr>\n",
       "    <tr>\n",
       "      <th>1</th>\n",
       "      <td>bathroom_bestwestern_hotel_sfo</td>\n",
       "      <td>...</td>\n",
       "    </tr>\n",
       "    <tr>\n",
       "      <th>2</th>\n",
       "      <td>battery-life_amazon_kindle</td>\n",
       "      <td>...</td>\n",
       "    </tr>\n",
       "  </tbody>\n",
       "</table>\n",
       "</div>"
      ],
      "text/plain": [
       "                         filename  \\\n",
       "0   accuracy_garmin_nuvi_255W_gps   \n",
       "1  bathroom_bestwestern_hotel_sfo   \n",
       "2      battery-life_amazon_kindle   \n",
       "\n",
       "                                        opinion_text  \n",
       "0                                                ...  \n",
       "1                                                ...  \n",
       "2                                                ...  "
      ]
     },
     "execution_count": 2,
     "metadata": {},
     "output_type": "execute_result"
    }
   ],
   "source": [
    "document_df.head(3)"
   ]
  },
  {
   "cell_type": "code",
   "execution_count": 3,
   "id": "35fea42e",
   "metadata": {
    "ExecuteTime": {
     "end_time": "2021-09-16T08:36:15.645208Z",
     "start_time": "2021-09-16T08:36:15.631197Z"
    }
   },
   "outputs": [
    {
     "data": {
      "text/html": [
       "<div>\n",
       "<style scoped>\n",
       "    .dataframe tbody tr th:only-of-type {\n",
       "        vertical-align: middle;\n",
       "    }\n",
       "\n",
       "    .dataframe tbody tr th {\n",
       "        vertical-align: top;\n",
       "    }\n",
       "\n",
       "    .dataframe thead th {\n",
       "        text-align: right;\n",
       "    }\n",
       "</style>\n",
       "<table border=\"1\" class=\"dataframe\">\n",
       "  <thead>\n",
       "    <tr style=\"text-align: right;\">\n",
       "      <th></th>\n",
       "      <th>filename</th>\n",
       "      <th>opinion_text</th>\n",
       "    </tr>\n",
       "  </thead>\n",
       "  <tbody>\n",
       "    <tr>\n",
       "      <th>0</th>\n",
       "      <td>accuracy_garmin_nuvi_255W_gps</td>\n",
       "      <td>, and is very, very accurate .\\n0             ...</td>\n",
       "    </tr>\n",
       "    <tr>\n",
       "      <th>1</th>\n",
       "      <td>bathroom_bestwestern_hotel_sfo</td>\n",
       "      <td>The room was not overly big, but clean and ver...</td>\n",
       "    </tr>\n",
       "    <tr>\n",
       "      <th>2</th>\n",
       "      <td>battery-life_amazon_kindle</td>\n",
       "      <td>After I plugged it in to my USB hub on my comp...</td>\n",
       "    </tr>\n",
       "    <tr>\n",
       "      <th>3</th>\n",
       "      <td>battery-life_ipod_nano_8gb</td>\n",
       "      <td>short battery life  I moved up from an 8gb .\\n...</td>\n",
       "    </tr>\n",
       "    <tr>\n",
       "      <th>4</th>\n",
       "      <td>battery-life_netbook_1005ha</td>\n",
       "      <td>6GHz 533FSB cpu, glossy display, 3, Cell 23Wh ...</td>\n",
       "    </tr>\n",
       "  </tbody>\n",
       "</table>\n",
       "</div>"
      ],
      "text/plain": [
       "                         filename  \\\n",
       "0   accuracy_garmin_nuvi_255W_gps   \n",
       "1  bathroom_bestwestern_hotel_sfo   \n",
       "2      battery-life_amazon_kindle   \n",
       "3      battery-life_ipod_nano_8gb   \n",
       "4     battery-life_netbook_1005ha   \n",
       "\n",
       "                                        opinion_text  \n",
       "0  , and is very, very accurate .\\n0             ...  \n",
       "1  The room was not overly big, but clean and ver...  \n",
       "2  After I plugged it in to my USB hub on my comp...  \n",
       "3  short battery life  I moved up from an 8gb .\\n...  \n",
       "4  6GHz 533FSB cpu, glossy display, 3, Cell 23Wh ...  "
      ]
     },
     "execution_count": 3,
     "metadata": {},
     "output_type": "execute_result"
    }
   ],
   "source": [
    "document_df['opinion_text'] = document_df['opinion_text'].str.strip()\n",
    "document_df.head()"
   ]
  },
  {
   "cell_type": "markdown",
   "id": "66798db6",
   "metadata": {},
   "source": [
    "# tokenize & Lemmatize"
   ]
  },
  {
   "cell_type": "code",
   "execution_count": 4,
   "id": "05fa3282",
   "metadata": {
    "ExecuteTime": {
     "end_time": "2021-09-16T08:36:17.387317Z",
     "start_time": "2021-09-16T08:36:15.646211Z"
    }
   },
   "outputs": [],
   "source": [
    "from nltk.stem import WordNetLemmatizer\n",
    "import nltk\n",
    "import string\n",
    "\n",
    "remove_punct_dict = dict((ord(punct), None) for punct in string.punctuation)\n",
    "lemmar = WordNetLemmatizer()\n",
    "\n",
    "def LemTokens(tokens):\n",
    "    return [lemmar.lemmatize(token) for token in tokens]\n",
    "\n",
    "def LemNormalize(text):\n",
    "    return LemTokens(nltk.word_tokenize(text.lower().translate(remove_punct_dict)))\n"
   ]
  },
  {
   "cell_type": "code",
   "execution_count": 5,
   "id": "b6488802",
   "metadata": {
    "ExecuteTime": {
     "end_time": "2021-09-16T08:36:19.850995Z",
     "start_time": "2021-09-16T08:36:17.388308Z"
    }
   },
   "outputs": [
    {
     "name": "stderr",
     "output_type": "stream",
     "text": [
      "C:\\Users\\bigne\\anaconda3\\lib\\site-packages\\sklearn\\feature_extraction\\text.py:388: UserWarning: Your stop_words may be inconsistent with your preprocessing. Tokenizing the stop words generated tokens ['ha', 'le', 'u', 'wa'] not in stop_words.\n",
      "  warnings.warn('Your stop_words may be inconsistent with '\n"
     ]
    }
   ],
   "source": [
    "from sklearn.feature_extraction.text import TfidfVectorizer\n",
    "\n",
    "tfidf_vect = TfidfVectorizer(tokenizer=LemNormalize, stop_words='english',\n",
    "                             ngram_range=(1, 2), min_df=0.05, max_df=0.85)\n",
    "\n",
    "feature_vect = tfidf_vect.fit_transform(document_df['opinion_text'])"
   ]
  },
  {
   "cell_type": "markdown",
   "id": "adef347f",
   "metadata": {},
   "source": [
    "# Kmeans Clustering"
   ]
  },
  {
   "cell_type": "markdown",
   "id": "b7607548",
   "metadata": {},
   "source": [
    "by 5"
   ]
  },
  {
   "cell_type": "code",
   "execution_count": 6,
   "id": "acc6500f",
   "metadata": {
    "ExecuteTime": {
     "end_time": "2021-09-16T08:36:19.971108Z",
     "start_time": "2021-09-16T08:36:19.852008Z"
    }
   },
   "outputs": [
    {
     "data": {
      "text/plain": [
       "KMeans(max_iter=10000, n_clusters=5, random_state=0)"
      ]
     },
     "execution_count": 6,
     "metadata": {},
     "output_type": "execute_result"
    }
   ],
   "source": [
    "from sklearn.cluster import KMeans\n",
    "\n",
    "km_cluster = KMeans(n_clusters=5, max_iter=10000, random_state=0)\n",
    "km_cluster.fit(feature_vect)\n"
   ]
  },
  {
   "cell_type": "code",
   "execution_count": 7,
   "id": "35a6b1d7",
   "metadata": {
    "ExecuteTime": {
     "end_time": "2021-09-16T08:36:19.986132Z",
     "start_time": "2021-09-16T08:36:19.972109Z"
    }
   },
   "outputs": [],
   "source": [
    "cluster_label = km_cluster.labels_\n",
    "cluster_centers = km_cluster.cluster_centers_"
   ]
  },
  {
   "cell_type": "code",
   "execution_count": 8,
   "id": "55bec76b",
   "metadata": {
    "ExecuteTime": {
     "end_time": "2021-09-16T08:36:20.001145Z",
     "start_time": "2021-09-16T08:36:19.987135Z"
    }
   },
   "outputs": [
    {
     "data": {
      "text/html": [
       "<div>\n",
       "<style scoped>\n",
       "    .dataframe tbody tr th:only-of-type {\n",
       "        vertical-align: middle;\n",
       "    }\n",
       "\n",
       "    .dataframe tbody tr th {\n",
       "        vertical-align: top;\n",
       "    }\n",
       "\n",
       "    .dataframe thead th {\n",
       "        text-align: right;\n",
       "    }\n",
       "</style>\n",
       "<table border=\"1\" class=\"dataframe\">\n",
       "  <thead>\n",
       "    <tr style=\"text-align: right;\">\n",
       "      <th></th>\n",
       "      <th>filename</th>\n",
       "      <th>opinion_text</th>\n",
       "      <th>cluster_label</th>\n",
       "    </tr>\n",
       "  </thead>\n",
       "  <tbody>\n",
       "    <tr>\n",
       "      <th>0</th>\n",
       "      <td>accuracy_garmin_nuvi_255W_gps</td>\n",
       "      <td>, and is very, very accurate .\\n0             ...</td>\n",
       "      <td>2</td>\n",
       "    </tr>\n",
       "    <tr>\n",
       "      <th>1</th>\n",
       "      <td>bathroom_bestwestern_hotel_sfo</td>\n",
       "      <td>The room was not overly big, but clean and ver...</td>\n",
       "      <td>0</td>\n",
       "    </tr>\n",
       "    <tr>\n",
       "      <th>2</th>\n",
       "      <td>battery-life_amazon_kindle</td>\n",
       "      <td>After I plugged it in to my USB hub on my comp...</td>\n",
       "      <td>1</td>\n",
       "    </tr>\n",
       "    <tr>\n",
       "      <th>3</th>\n",
       "      <td>battery-life_ipod_nano_8gb</td>\n",
       "      <td>short battery life  I moved up from an 8gb .\\n...</td>\n",
       "      <td>1</td>\n",
       "    </tr>\n",
       "    <tr>\n",
       "      <th>4</th>\n",
       "      <td>battery-life_netbook_1005ha</td>\n",
       "      <td>6GHz 533FSB cpu, glossy display, 3, Cell 23Wh ...</td>\n",
       "      <td>1</td>\n",
       "    </tr>\n",
       "  </tbody>\n",
       "</table>\n",
       "</div>"
      ],
      "text/plain": [
       "                         filename  \\\n",
       "0   accuracy_garmin_nuvi_255W_gps   \n",
       "1  bathroom_bestwestern_hotel_sfo   \n",
       "2      battery-life_amazon_kindle   \n",
       "3      battery-life_ipod_nano_8gb   \n",
       "4     battery-life_netbook_1005ha   \n",
       "\n",
       "                                        opinion_text  cluster_label  \n",
       "0  , and is very, very accurate .\\n0             ...              2  \n",
       "1  The room was not overly big, but clean and ver...              0  \n",
       "2  After I plugged it in to my USB hub on my comp...              1  \n",
       "3  short battery life  I moved up from an 8gb .\\n...              1  \n",
       "4  6GHz 533FSB cpu, glossy display, 3, Cell 23Wh ...              1  "
      ]
     },
     "execution_count": 8,
     "metadata": {},
     "output_type": "execute_result"
    }
   ],
   "source": [
    "document_df['cluster_label'] = cluster_label\n",
    "document_df.head()"
   ]
  },
  {
   "cell_type": "code",
   "execution_count": 9,
   "id": "e2c9c5e8",
   "metadata": {
    "ExecuteTime": {
     "end_time": "2021-09-16T08:36:20.016160Z",
     "start_time": "2021-09-16T08:36:20.002146Z"
    }
   },
   "outputs": [
    {
     "data": {
      "text/plain": [
       "cluster_label\n",
       "0     4\n",
       "1     8\n",
       "2    16\n",
       "3    13\n",
       "4    10\n",
       "dtype: int64"
      ]
     },
     "execution_count": 9,
     "metadata": {},
     "output_type": "execute_result"
    }
   ],
   "source": [
    "document_df.value_counts('cluster_label').sort_index()"
   ]
  },
  {
   "cell_type": "code",
   "execution_count": 10,
   "id": "8a003415",
   "metadata": {
    "ExecuteTime": {
     "end_time": "2021-09-16T08:36:20.031172Z",
     "start_time": "2021-09-16T08:36:20.017163Z"
    },
    "scrolled": true
   },
   "outputs": [
    {
     "name": "stdout",
     "output_type": "stream",
     "text": [
      "cluster 0\n",
      "1     bathroom_bestwestern_hotel_sfo\n",
      "30       rooms_bestwestern_hotel_sfo\n",
      "31           rooms_swissotel_chicago\n",
      "32           room_holiday_inn_london\n",
      "Name: filename, dtype: object \n",
      "\n",
      "cluster 1\n",
      "2      battery-life_amazon_kindle\n",
      "3      battery-life_ipod_nano_8gb\n",
      "4     battery-life_netbook_1005ha\n",
      "19        keyboard_netbook_1005ha\n",
      "26     performance_netbook_1005ha\n",
      "41       size_asus_netbook_1005ha\n",
      "42            sound_ipod_nano_8gb\n",
      "44                 speed_windows7\n",
      "Name: filename, dtype: object \n",
      "\n",
      "cluster 2\n",
      "0       accuracy_garmin_nuvi_255W_gps\n",
      "5               buttons_amazon_kindle\n",
      "8     directions_garmin_nuvi_255W_gps\n",
      "9        display_garmin_nuvi_255W_gps\n",
      "10      eyesight-issues_amazon_kindle\n",
      "11                  features_windows7\n",
      "12                fonts_amazon_kindle\n",
      "23           navigation_amazon_kindle\n",
      "33     satellite_garmin_nuvi_255W_gps\n",
      "34        screen_garmin_nuvi_255W_gps\n",
      "35               screen_ipod_nano_8gb\n",
      "36              screen_netbook_1005ha\n",
      "43         speed_garmin_nuvi_255W_gps\n",
      "48       updates_garmin_nuvi_255W_gps\n",
      "49                video_ipod_nano_8gb\n",
      "50         voice_garmin_nuvi_255W_gps\n",
      "Name: filename, dtype: object \n",
      "\n",
      "cluster 3\n",
      "13            food_holiday_inn_london\n",
      "14             food_swissotel_chicago\n",
      "15         free_bestwestern_hotel_sfo\n",
      "20     location_bestwestern_hotel_sfo\n",
      "21        location_holiday_inn_london\n",
      "24      parking_bestwestern_hotel_sfo\n",
      "27                price_amazon_kindle\n",
      "28           price_holiday_inn_london\n",
      "38      service_bestwestern_hotel_sfo\n",
      "39         service_holiday_inn_london\n",
      "40    service_swissotel_hotel_chicago\n",
      "45        staff_bestwestern_hotel_sfo\n",
      "46            staff_swissotel_chicago\n",
      "Name: filename, dtype: object \n",
      "\n",
      "cluster 4\n",
      "6          comfort_honda_accord_2008\n",
      "7          comfort_toyota_camry_2007\n",
      "16     gas_mileage_toyota_camry_2007\n",
      "17        interior_honda_accord_2008\n",
      "18        interior_toyota_camry_2007\n",
      "22         mileage_honda_accord_2008\n",
      "25     performance_honda_accord_2008\n",
      "29         quality_toyota_camry_2007\n",
      "37           seats_honda_accord_2008\n",
      "47    transmission_toyota_camry_2007\n",
      "Name: filename, dtype: object \n",
      "\n"
     ]
    }
   ],
   "source": [
    "for i, j in document_df.groupby('cluster_label'):\n",
    "    print('cluster {}'.format(i))\n",
    "    print(j['filename'],'\\n')\n",
    "    "
   ]
  },
  {
   "cell_type": "markdown",
   "id": "1e542b3d",
   "metadata": {},
   "source": [
    "by 3"
   ]
  },
  {
   "cell_type": "code",
   "execution_count": 11,
   "id": "20969f20",
   "metadata": {
    "ExecuteTime": {
     "end_time": "2021-09-16T08:36:20.076174Z",
     "start_time": "2021-09-16T08:36:20.032173Z"
    }
   },
   "outputs": [
    {
     "data": {
      "text/plain": [
       "KMeans(max_iter=10000, n_clusters=3, random_state=0)"
      ]
     },
     "execution_count": 11,
     "metadata": {},
     "output_type": "execute_result"
    }
   ],
   "source": [
    "from sklearn.cluster import KMeans\n",
    "\n",
    "km_cluster = KMeans(n_clusters=3, max_iter=10000, random_state=0)\n",
    "km_cluster.fit(feature_vect)\n"
   ]
  },
  {
   "cell_type": "code",
   "execution_count": 12,
   "id": "91dc2507",
   "metadata": {
    "ExecuteTime": {
     "end_time": "2021-09-16T08:36:20.091198Z",
     "start_time": "2021-09-16T08:36:20.077176Z"
    }
   },
   "outputs": [],
   "source": [
    "cluster_label = km_cluster.labels_\n",
    "cluster_centers = km_cluster.cluster_centers_"
   ]
  },
  {
   "cell_type": "code",
   "execution_count": 13,
   "id": "1345e100",
   "metadata": {
    "ExecuteTime": {
     "end_time": "2021-09-16T08:36:20.106211Z",
     "start_time": "2021-09-16T08:36:20.092199Z"
    }
   },
   "outputs": [
    {
     "data": {
      "text/html": [
       "<div>\n",
       "<style scoped>\n",
       "    .dataframe tbody tr th:only-of-type {\n",
       "        vertical-align: middle;\n",
       "    }\n",
       "\n",
       "    .dataframe tbody tr th {\n",
       "        vertical-align: top;\n",
       "    }\n",
       "\n",
       "    .dataframe thead th {\n",
       "        text-align: right;\n",
       "    }\n",
       "</style>\n",
       "<table border=\"1\" class=\"dataframe\">\n",
       "  <thead>\n",
       "    <tr style=\"text-align: right;\">\n",
       "      <th></th>\n",
       "      <th>filename</th>\n",
       "      <th>opinion_text</th>\n",
       "      <th>cluster_label</th>\n",
       "    </tr>\n",
       "  </thead>\n",
       "  <tbody>\n",
       "    <tr>\n",
       "      <th>0</th>\n",
       "      <td>accuracy_garmin_nuvi_255W_gps</td>\n",
       "      <td>, and is very, very accurate .\\n0             ...</td>\n",
       "      <td>0</td>\n",
       "    </tr>\n",
       "    <tr>\n",
       "      <th>1</th>\n",
       "      <td>bathroom_bestwestern_hotel_sfo</td>\n",
       "      <td>The room was not overly big, but clean and ver...</td>\n",
       "      <td>2</td>\n",
       "    </tr>\n",
       "    <tr>\n",
       "      <th>2</th>\n",
       "      <td>battery-life_amazon_kindle</td>\n",
       "      <td>After I plugged it in to my USB hub on my comp...</td>\n",
       "      <td>0</td>\n",
       "    </tr>\n",
       "    <tr>\n",
       "      <th>3</th>\n",
       "      <td>battery-life_ipod_nano_8gb</td>\n",
       "      <td>short battery life  I moved up from an 8gb .\\n...</td>\n",
       "      <td>0</td>\n",
       "    </tr>\n",
       "    <tr>\n",
       "      <th>4</th>\n",
       "      <td>battery-life_netbook_1005ha</td>\n",
       "      <td>6GHz 533FSB cpu, glossy display, 3, Cell 23Wh ...</td>\n",
       "      <td>0</td>\n",
       "    </tr>\n",
       "  </tbody>\n",
       "</table>\n",
       "</div>"
      ],
      "text/plain": [
       "                         filename  \\\n",
       "0   accuracy_garmin_nuvi_255W_gps   \n",
       "1  bathroom_bestwestern_hotel_sfo   \n",
       "2      battery-life_amazon_kindle   \n",
       "3      battery-life_ipod_nano_8gb   \n",
       "4     battery-life_netbook_1005ha   \n",
       "\n",
       "                                        opinion_text  cluster_label  \n",
       "0  , and is very, very accurate .\\n0             ...              0  \n",
       "1  The room was not overly big, but clean and ver...              2  \n",
       "2  After I plugged it in to my USB hub on my comp...              0  \n",
       "3  short battery life  I moved up from an 8gb .\\n...              0  \n",
       "4  6GHz 533FSB cpu, glossy display, 3, Cell 23Wh ...              0  "
      ]
     },
     "execution_count": 13,
     "metadata": {},
     "output_type": "execute_result"
    }
   ],
   "source": [
    "document_df['cluster_label'] = cluster_label\n",
    "document_df.head()"
   ]
  },
  {
   "cell_type": "code",
   "execution_count": 14,
   "id": "04aee22b",
   "metadata": {
    "ExecuteTime": {
     "end_time": "2021-09-16T08:36:20.121225Z",
     "start_time": "2021-09-16T08:36:20.107214Z"
    }
   },
   "outputs": [
    {
     "data": {
      "text/plain": [
       "cluster_label\n",
       "0    25\n",
       "1    10\n",
       "2    16\n",
       "dtype: int64"
      ]
     },
     "execution_count": 14,
     "metadata": {},
     "output_type": "execute_result"
    }
   ],
   "source": [
    "document_df.value_counts('cluster_label').sort_index()"
   ]
  },
  {
   "cell_type": "code",
   "execution_count": 15,
   "id": "65176d6d",
   "metadata": {
    "ExecuteTime": {
     "end_time": "2021-09-16T08:36:20.136239Z",
     "start_time": "2021-09-16T08:36:20.122226Z"
    },
    "scrolled": false
   },
   "outputs": [
    {
     "name": "stdout",
     "output_type": "stream",
     "text": [
      "cluster 0\n",
      "0       accuracy_garmin_nuvi_255W_gps\n",
      "2          battery-life_amazon_kindle\n",
      "3          battery-life_ipod_nano_8gb\n",
      "4         battery-life_netbook_1005ha\n",
      "5               buttons_amazon_kindle\n",
      "8     directions_garmin_nuvi_255W_gps\n",
      "9        display_garmin_nuvi_255W_gps\n",
      "10      eyesight-issues_amazon_kindle\n",
      "11                  features_windows7\n",
      "12                fonts_amazon_kindle\n",
      "19            keyboard_netbook_1005ha\n",
      "23           navigation_amazon_kindle\n",
      "26         performance_netbook_1005ha\n",
      "27                price_amazon_kindle\n",
      "33     satellite_garmin_nuvi_255W_gps\n",
      "34        screen_garmin_nuvi_255W_gps\n",
      "35               screen_ipod_nano_8gb\n",
      "36              screen_netbook_1005ha\n",
      "41           size_asus_netbook_1005ha\n",
      "42                sound_ipod_nano_8gb\n",
      "43         speed_garmin_nuvi_255W_gps\n",
      "44                     speed_windows7\n",
      "48       updates_garmin_nuvi_255W_gps\n",
      "49                video_ipod_nano_8gb\n",
      "50         voice_garmin_nuvi_255W_gps\n",
      "Name: filename, dtype: object \n",
      "\n",
      "cluster 1\n",
      "6          comfort_honda_accord_2008\n",
      "7          comfort_toyota_camry_2007\n",
      "16     gas_mileage_toyota_camry_2007\n",
      "17        interior_honda_accord_2008\n",
      "18        interior_toyota_camry_2007\n",
      "22         mileage_honda_accord_2008\n",
      "25     performance_honda_accord_2008\n",
      "29         quality_toyota_camry_2007\n",
      "37           seats_honda_accord_2008\n",
      "47    transmission_toyota_camry_2007\n",
      "Name: filename, dtype: object \n",
      "\n",
      "cluster 2\n",
      "1      bathroom_bestwestern_hotel_sfo\n",
      "13            food_holiday_inn_london\n",
      "14             food_swissotel_chicago\n",
      "15         free_bestwestern_hotel_sfo\n",
      "20     location_bestwestern_hotel_sfo\n",
      "21        location_holiday_inn_london\n",
      "24      parking_bestwestern_hotel_sfo\n",
      "28           price_holiday_inn_london\n",
      "30        rooms_bestwestern_hotel_sfo\n",
      "31            rooms_swissotel_chicago\n",
      "32            room_holiday_inn_london\n",
      "38      service_bestwestern_hotel_sfo\n",
      "39         service_holiday_inn_london\n",
      "40    service_swissotel_hotel_chicago\n",
      "45        staff_bestwestern_hotel_sfo\n",
      "46            staff_swissotel_chicago\n",
      "Name: filename, dtype: object \n",
      "\n"
     ]
    }
   ],
   "source": [
    "for i, j in document_df.groupby('cluster_label'):\n",
    "    print('cluster {}'.format(i))\n",
    "    print(j['filename'],'\\n')\n",
    "    "
   ]
  },
  {
   "cell_type": "markdown",
   "id": "41121a89",
   "metadata": {},
   "source": [
    "전자기기, 호텔, 자동차 3개로 잘 분류 된것을 볼수 있다. "
   ]
  },
  {
   "cell_type": "markdown",
   "id": "0d273e03",
   "metadata": {},
   "source": [
    "# 군집별 핵심 단어 추출하기"
   ]
  },
  {
   "cell_type": "code",
   "execution_count": 16,
   "id": "c1f5bfcc",
   "metadata": {
    "ExecuteTime": {
     "end_time": "2021-09-16T08:36:20.151253Z",
     "start_time": "2021-09-16T08:36:20.137240Z"
    }
   },
   "outputs": [
    {
     "name": "stdout",
     "output_type": "stream",
     "text": [
      "cluster_centers shape : (3, 4611)\n",
      "[[0.01005322 0.         0.         ... 0.00706287 0.         0.        ]\n",
      " [0.         0.00092551 0.         ... 0.         0.         0.        ]\n",
      " [0.         0.00099499 0.00174637 ... 0.         0.00183397 0.00144581]]\n"
     ]
    }
   ],
   "source": [
    "cluster_centers = km_cluster.cluster_centers_\n",
    "print('cluster_centers shape :',cluster_centers.shape)\n",
    "print(cluster_centers)"
   ]
  },
  {
   "cell_type": "code",
   "execution_count": 17,
   "id": "4cb4f53d",
   "metadata": {
    "ExecuteTime": {
     "end_time": "2021-09-16T08:36:52.761739Z",
     "start_time": "2021-09-16T08:36:52.746735Z"
    }
   },
   "outputs": [],
   "source": [
    "# 군집별 top n 핵심단어, 그 단어의 중심 위치 상대값, 대상 파일명들을 반환함. \n",
    "def get_cluster_details(cluster_model, cluster_data, feature_names, clusters_num, top_n_features=10):\n",
    "    cluster_details = {}\n",
    "    \n",
    "    # cluster_centers array 의 값이 큰 순으로 정렬된 index 값을 반환\n",
    "    # 군집 중심점(centroid)별 할당된 word 피처들의 거리값이 큰 순으로 값을 구하기 위함.  \n",
    "    centroid_feature_ordered_ind = cluster_model.cluster_centers_.argsort()[:,::-1]\n",
    "    \n",
    "    #개별 군집별로 iteration하면서 핵심단어, 그 단어의 중심 위치 상대값, 대상 파일명 입력\n",
    "    for cluster_num in range(clusters_num):\n",
    "        # 개별 군집별 정보를 담을 데이터 초기화. \n",
    "        cluster_details[cluster_num] = {}\n",
    "        cluster_details[cluster_num]['cluster'] = cluster_num\n",
    "        \n",
    "        # cluster_centers_.argsort()[:,::-1] 로 구한 index 를 이용하여 top n 피처 단어를 구함. \n",
    "        top_feature_indexes = centroid_feature_ordered_ind[cluster_num, :top_n_features]\n",
    "        top_features = [ feature_names[ind] for ind in top_feature_indexes ]\n",
    "        \n",
    "        # top_feature_indexes를 이용해 해당 피처 단어의 중심 위치 상댓값 구함 \n",
    "        top_feature_values = cluster_model.cluster_centers_[cluster_num, top_feature_indexes].tolist()\n",
    "        \n",
    "        # cluster_details 딕셔너리 객체에 개별 군집별 핵심 단어와 중심위치 상대값, 그리고 해당 파일명 입력\n",
    "        cluster_details[cluster_num]['top_features'] = top_features\n",
    "        cluster_details[cluster_num]['top_features_value'] = top_feature_values\n",
    "        filenames = cluster_data[cluster_data['cluster_label'] == cluster_num]['filename']\n",
    "        filenames = filenames.values.tolist()\n",
    "        cluster_details[cluster_num]['filenames'] = filenames\n",
    "        \n",
    "    return cluster_details"
   ]
  },
  {
   "cell_type": "code",
   "execution_count": 18,
   "id": "d05374db",
   "metadata": {
    "ExecuteTime": {
     "end_time": "2021-09-16T08:36:53.032149Z",
     "start_time": "2021-09-16T08:36:53.017137Z"
    }
   },
   "outputs": [],
   "source": [
    "def print_cluster_details(cluster_details):\n",
    "    for cluster_num, cluster_detail in cluster_details.items():\n",
    "        print('####### Cluster {0}'.format(cluster_num))\n",
    "        print('Top features:', cluster_detail['top_features'])\n",
    "        print('Reviews 파일명 :',cluster_detail['filenames'][:7])\n",
    "        print('==================================================')\n"
   ]
  },
  {
   "cell_type": "code",
   "execution_count": 19,
   "id": "c7ca8a4d",
   "metadata": {
    "ExecuteTime": {
     "end_time": "2021-09-16T08:36:59.687169Z",
     "start_time": "2021-09-16T08:36:59.663150Z"
    }
   },
   "outputs": [
    {
     "name": "stdout",
     "output_type": "stream",
     "text": [
      "####### Cluster 0\n",
      "Top features: ['screen', 'battery', 'keyboard', 'battery life', 'life', 'kindle', 'direction', 'video', 'size', 'voice']\n",
      "Reviews 파일명 : ['accuracy_garmin_nuvi_255W_gps', 'battery-life_amazon_kindle', 'battery-life_ipod_nano_8gb', 'battery-life_netbook_1005ha', 'buttons_amazon_kindle', 'directions_garmin_nuvi_255W_gps', 'display_garmin_nuvi_255W_gps']\n",
      "==================================================\n",
      "####### Cluster 1\n",
      "Top features: ['interior', 'seat', 'mileage', 'comfortable', 'gas', 'gas mileage', 'transmission', 'car', 'performance', 'quality']\n",
      "Reviews 파일명 : ['comfort_honda_accord_2008', 'comfort_toyota_camry_2007', 'gas_mileage_toyota_camry_2007', 'interior_honda_accord_2008', 'interior_toyota_camry_2007', 'mileage_honda_accord_2008', 'performance_honda_accord_2008']\n",
      "==================================================\n",
      "####### Cluster 2\n",
      "Top features: ['room', 'hotel', 'service', 'staff', 'food', 'location', 'bathroom', 'clean', 'price', 'parking']\n",
      "Reviews 파일명 : ['bathroom_bestwestern_hotel_sfo', 'food_holiday_inn_london', 'food_swissotel_chicago', 'free_bestwestern_hotel_sfo', 'location_bestwestern_hotel_sfo', 'location_holiday_inn_london', 'parking_bestwestern_hotel_sfo']\n",
      "==================================================\n"
     ]
    }
   ],
   "source": [
    "feature_names = tfidf_vect.get_feature_names()\n",
    "\n",
    "cluster_details = get_cluster_details(cluster_model=km_cluster, cluster_data=document_df,\\\n",
    "                                  feature_names=feature_names, clusters_num=3, top_n_features=10 )\n",
    "print_cluster_details(cluster_details)"
   ]
  },
  {
   "cell_type": "markdown",
   "id": "10a61c29",
   "metadata": {},
   "source": [
    "**Reference**\n",
    "\n",
    "* <a href='https://github.com/SeWonKwon' ><div> <img src ='https://slid-capture.s3.ap-northeast-2.amazonaws.com/public/image_upload/6556674324ed41a289a354258718280d/964e5a8b-75ad-41fc-ae75-0ca66d06fbc7.png' align='left' /> </div></a>\n",
    "\n",
    "<br>\n",
    "\n",
    "* 파이썬 머신러닝 완벽 가이드, 권철민\n",
    "* [이수안 컴퓨터 연구소](http://suanlab.com/)"
   ]
  }
 ],
 "metadata": {
  "kernelspec": {
   "display_name": "Python 3 (ipykernel)",
   "language": "python",
   "name": "python3"
  },
  "language_info": {
   "codemirror_mode": {
    "name": "ipython",
    "version": 3
   },
   "file_extension": ".py",
   "mimetype": "text/x-python",
   "name": "python",
   "nbconvert_exporter": "python",
   "pygments_lexer": "ipython3",
   "version": "3.8.11"
  },
  "toc": {
   "base_numbering": 1,
   "nav_menu": {},
   "number_sections": true,
   "sideBar": true,
   "skip_h1_title": false,
   "title_cell": "Table of Contents",
   "title_sidebar": "Contents",
   "toc_cell": false,
   "toc_position": {},
   "toc_section_display": true,
   "toc_window_display": false
  }
 },
 "nbformat": 4,
 "nbformat_minor": 5
}
